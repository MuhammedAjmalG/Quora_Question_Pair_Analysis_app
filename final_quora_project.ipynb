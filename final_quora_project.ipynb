{
  "cells": [
    {
      "cell_type": "code",
      "execution_count": 1,
      "metadata": {
        "id": "7msfGNdyySdf"
      },
      "outputs": [],
      "source": [
        "import numpy as np\n",
        "import pandas as pd\n",
        "\n",
        "\n",
        "import re\n",
        "from bs4 import BeautifulSoup\n",
        "\n",
        "import warnings\n",
        "warnings.filterwarnings('ignore')\n"
      ]
    },
    {
      "cell_type": "code",
      "execution_count": 2,
      "metadata": {
        "id": "ddpHM9TPygxI"
      },
      "outputs": [],
      "source": [
        "from tqdm import tqdm, tqdm_notebook\n",
        "# Register `pandas.progress_apply` and `pandas.Series.map_apply` with `tqdm`\n",
        "\n",
        "tqdm.pandas()"
      ]
    },
    {
      "cell_type": "code",
      "execution_count": 3,
      "metadata": {
        "id": "ng6T6y78yqGZ"
      },
      "outputs": [],
      "source": [
        "df = pd.read_csv('https://github.com/Koorimikiran369/Quora-Question-Pairing/raw/main/train.csv.zip')"
      ]
    },
    {
      "cell_type": "code",
      "execution_count": 4,
      "metadata": {
        "id": "kBdi7TitytED"
      },
      "outputs": [],
      "source": [
        "df = df.sample(30000,random_state=2)"
      ]
    },
    {
      "cell_type": "code",
      "execution_count": 5,
      "metadata": {
        "colab": {
          "base_uri": "https://localhost:8080/"
        },
        "id": "F9CZ2sUUzjnS",
        "outputId": "78bc58f4-d60d-4c1b-d203-d865268a2875"
      },
      "outputs": [
        {
          "output_type": "execute_result",
          "data": {
            "text/plain": [
              "(30000, 6)"
            ]
          },
          "metadata": {},
          "execution_count": 5
        }
      ],
      "source": [
        "df.shape"
      ]
    },
    {
      "cell_type": "code",
      "execution_count": 6,
      "metadata": {
        "colab": {
          "base_uri": "https://localhost:8080/"
        },
        "id": "VIKc3Jo4zmuK",
        "outputId": "8aef92c9-71fa-4c54-b180-21117061e3b0"
      },
      "outputs": [
        {
          "output_type": "stream",
          "name": "stdout",
          "text": [
            "<class 'pandas.core.frame.DataFrame'>\n",
            "Int64Index: 30000 entries, 398782 to 312470\n",
            "Data columns (total 6 columns):\n",
            " #   Column        Non-Null Count  Dtype \n",
            "---  ------        --------------  ----- \n",
            " 0   id            30000 non-null  int64 \n",
            " 1   qid1          30000 non-null  int64 \n",
            " 2   qid2          30000 non-null  int64 \n",
            " 3   question1     30000 non-null  object\n",
            " 4   question2     30000 non-null  object\n",
            " 5   is_duplicate  30000 non-null  int64 \n",
            "dtypes: int64(4), object(2)\n",
            "memory usage: 1.6+ MB\n"
          ]
        }
      ],
      "source": [
        "df.info()"
      ]
    },
    {
      "cell_type": "code",
      "execution_count": 7,
      "metadata": {
        "colab": {
          "base_uri": "https://localhost:8080/",
          "height": 337
        },
        "id": "yfUbYwQ1zoSH",
        "outputId": "a12741f0-76cc-412e-d6c8-41a89e2525b8"
      },
      "outputs": [
        {
          "output_type": "execute_result",
          "data": {
            "text/plain": [
              "            id    qid1    qid2  \\\n",
              "398782  398782  496695  532029   \n",
              "115086  115086  187729  187730   \n",
              "327711  327711  454161  454162   \n",
              "367788  367788  498109  491396   \n",
              "151235  151235  237843   50930   \n",
              "\n",
              "                                                question1  \\\n",
              "398782  What is the best marketing automation tool for...   \n",
              "115086  I am poor but I want to invest. What should I do?   \n",
              "327711  I am from India and live abroad. I met a guy f...   \n",
              "367788  Why do so many people in the U.S. hate the sou...   \n",
              "151235                Consequences of Bhopal gas tragedy?   \n",
              "\n",
              "                                                question2  is_duplicate  \n",
              "398782  What is the best marketing automation tool for...             1  \n",
              "115086  I am quite poor and I want to be very rich. Wh...             0  \n",
              "327711  T.I.E.T to Thapar University to Thapar Univers...             0  \n",
              "367788  My boyfriend doesnt feel guilty when he hurts ...             0  \n",
              "151235  What was the reason behind the Bhopal gas trag...             0  "
            ],
            "text/html": [
              "\n",
              "  <div id=\"df-2c955022-4a0a-48e9-8f04-27e2c630d93a\">\n",
              "    <div class=\"colab-df-container\">\n",
              "      <div>\n",
              "<style scoped>\n",
              "    .dataframe tbody tr th:only-of-type {\n",
              "        vertical-align: middle;\n",
              "    }\n",
              "\n",
              "    .dataframe tbody tr th {\n",
              "        vertical-align: top;\n",
              "    }\n",
              "\n",
              "    .dataframe thead th {\n",
              "        text-align: right;\n",
              "    }\n",
              "</style>\n",
              "<table border=\"1\" class=\"dataframe\">\n",
              "  <thead>\n",
              "    <tr style=\"text-align: right;\">\n",
              "      <th></th>\n",
              "      <th>id</th>\n",
              "      <th>qid1</th>\n",
              "      <th>qid2</th>\n",
              "      <th>question1</th>\n",
              "      <th>question2</th>\n",
              "      <th>is_duplicate</th>\n",
              "    </tr>\n",
              "  </thead>\n",
              "  <tbody>\n",
              "    <tr>\n",
              "      <th>398782</th>\n",
              "      <td>398782</td>\n",
              "      <td>496695</td>\n",
              "      <td>532029</td>\n",
              "      <td>What is the best marketing automation tool for...</td>\n",
              "      <td>What is the best marketing automation tool for...</td>\n",
              "      <td>1</td>\n",
              "    </tr>\n",
              "    <tr>\n",
              "      <th>115086</th>\n",
              "      <td>115086</td>\n",
              "      <td>187729</td>\n",
              "      <td>187730</td>\n",
              "      <td>I am poor but I want to invest. What should I do?</td>\n",
              "      <td>I am quite poor and I want to be very rich. Wh...</td>\n",
              "      <td>0</td>\n",
              "    </tr>\n",
              "    <tr>\n",
              "      <th>327711</th>\n",
              "      <td>327711</td>\n",
              "      <td>454161</td>\n",
              "      <td>454162</td>\n",
              "      <td>I am from India and live abroad. I met a guy f...</td>\n",
              "      <td>T.I.E.T to Thapar University to Thapar Univers...</td>\n",
              "      <td>0</td>\n",
              "    </tr>\n",
              "    <tr>\n",
              "      <th>367788</th>\n",
              "      <td>367788</td>\n",
              "      <td>498109</td>\n",
              "      <td>491396</td>\n",
              "      <td>Why do so many people in the U.S. hate the sou...</td>\n",
              "      <td>My boyfriend doesnt feel guilty when he hurts ...</td>\n",
              "      <td>0</td>\n",
              "    </tr>\n",
              "    <tr>\n",
              "      <th>151235</th>\n",
              "      <td>151235</td>\n",
              "      <td>237843</td>\n",
              "      <td>50930</td>\n",
              "      <td>Consequences of Bhopal gas tragedy?</td>\n",
              "      <td>What was the reason behind the Bhopal gas trag...</td>\n",
              "      <td>0</td>\n",
              "    </tr>\n",
              "  </tbody>\n",
              "</table>\n",
              "</div>\n",
              "      <button class=\"colab-df-convert\" onclick=\"convertToInteractive('df-2c955022-4a0a-48e9-8f04-27e2c630d93a')\"\n",
              "              title=\"Convert this dataframe to an interactive table.\"\n",
              "              style=\"display:none;\">\n",
              "        \n",
              "  <svg xmlns=\"http://www.w3.org/2000/svg\" height=\"24px\"viewBox=\"0 0 24 24\"\n",
              "       width=\"24px\">\n",
              "    <path d=\"M0 0h24v24H0V0z\" fill=\"none\"/>\n",
              "    <path d=\"M18.56 5.44l.94 2.06.94-2.06 2.06-.94-2.06-.94-.94-2.06-.94 2.06-2.06.94zm-11 1L8.5 8.5l.94-2.06 2.06-.94-2.06-.94L8.5 2.5l-.94 2.06-2.06.94zm10 10l.94 2.06.94-2.06 2.06-.94-2.06-.94-.94-2.06-.94 2.06-2.06.94z\"/><path d=\"M17.41 7.96l-1.37-1.37c-.4-.4-.92-.59-1.43-.59-.52 0-1.04.2-1.43.59L10.3 9.45l-7.72 7.72c-.78.78-.78 2.05 0 2.83L4 21.41c.39.39.9.59 1.41.59.51 0 1.02-.2 1.41-.59l7.78-7.78 2.81-2.81c.8-.78.8-2.07 0-2.86zM5.41 20L4 18.59l7.72-7.72 1.47 1.35L5.41 20z\"/>\n",
              "  </svg>\n",
              "      </button>\n",
              "      \n",
              "  <style>\n",
              "    .colab-df-container {\n",
              "      display:flex;\n",
              "      flex-wrap:wrap;\n",
              "      gap: 12px;\n",
              "    }\n",
              "\n",
              "    .colab-df-convert {\n",
              "      background-color: #E8F0FE;\n",
              "      border: none;\n",
              "      border-radius: 50%;\n",
              "      cursor: pointer;\n",
              "      display: none;\n",
              "      fill: #1967D2;\n",
              "      height: 32px;\n",
              "      padding: 0 0 0 0;\n",
              "      width: 32px;\n",
              "    }\n",
              "\n",
              "    .colab-df-convert:hover {\n",
              "      background-color: #E2EBFA;\n",
              "      box-shadow: 0px 1px 2px rgba(60, 64, 67, 0.3), 0px 1px 3px 1px rgba(60, 64, 67, 0.15);\n",
              "      fill: #174EA6;\n",
              "    }\n",
              "\n",
              "    [theme=dark] .colab-df-convert {\n",
              "      background-color: #3B4455;\n",
              "      fill: #D2E3FC;\n",
              "    }\n",
              "\n",
              "    [theme=dark] .colab-df-convert:hover {\n",
              "      background-color: #434B5C;\n",
              "      box-shadow: 0px 1px 3px 1px rgba(0, 0, 0, 0.15);\n",
              "      filter: drop-shadow(0px 1px 2px rgba(0, 0, 0, 0.3));\n",
              "      fill: #FFFFFF;\n",
              "    }\n",
              "  </style>\n",
              "\n",
              "      <script>\n",
              "        const buttonEl =\n",
              "          document.querySelector('#df-2c955022-4a0a-48e9-8f04-27e2c630d93a button.colab-df-convert');\n",
              "        buttonEl.style.display =\n",
              "          google.colab.kernel.accessAllowed ? 'block' : 'none';\n",
              "\n",
              "        async function convertToInteractive(key) {\n",
              "          const element = document.querySelector('#df-2c955022-4a0a-48e9-8f04-27e2c630d93a');\n",
              "          const dataTable =\n",
              "            await google.colab.kernel.invokeFunction('convertToInteractive',\n",
              "                                                     [key], {});\n",
              "          if (!dataTable) return;\n",
              "\n",
              "          const docLinkHtml = 'Like what you see? Visit the ' +\n",
              "            '<a target=\"_blank\" href=https://colab.research.google.com/notebooks/data_table.ipynb>data table notebook</a>'\n",
              "            + ' to learn more about interactive tables.';\n",
              "          element.innerHTML = '';\n",
              "          dataTable['output_type'] = 'display_data';\n",
              "          await google.colab.output.renderOutput(dataTable, element);\n",
              "          const docLink = document.createElement('div');\n",
              "          docLink.innerHTML = docLinkHtml;\n",
              "          element.appendChild(docLink);\n",
              "        }\n",
              "      </script>\n",
              "    </div>\n",
              "  </div>\n",
              "  "
            ]
          },
          "metadata": {},
          "execution_count": 7
        }
      ],
      "source": [
        "df.head()"
      ]
    },
    {
      "cell_type": "code",
      "execution_count": 8,
      "metadata": {
        "colab": {
          "base_uri": "https://localhost:8080/",
          "height": 337
        },
        "id": "mTM05p0-zsRJ",
        "outputId": "9e81846f-2a90-42f2-f16e-9c032cdf47d4"
      },
      "outputs": [
        {
          "output_type": "execute_result",
          "data": {
            "text/plain": [
              "            id    qid1    qid2  \\\n",
              "243932  243932   26193  356455   \n",
              "91980    91980  154063  154064   \n",
              "266955  266955  133017  384210   \n",
              "71112    71112  122427  122428   \n",
              "312470  312470  436915  436916   \n",
              "\n",
              "                                                question1  \\\n",
              "243932         What are some good web scraping tutorials?   \n",
              "91980   Can I apply for internet banking in SBI withou...   \n",
              "266955  How much HE laundry detergent do you use in a ...   \n",
              "71112   What is the best way to understand and learn m...   \n",
              "312470  What would the Modi-led government do in case ...   \n",
              "\n",
              "                                                question2  is_duplicate  \n",
              "243932          What are some good web scraping programs?             1  \n",
              "91980   I have internet banking kit of SBI but it's no...             0  \n",
              "266955  Can I use regular Dawn dishsoap in my dishwash...             0  \n",
              "71112       What are some of the best ways to learn math?             1  \n",
              "312470  If Pakistan mounts a 26/11 type attack again, ...             1  "
            ],
            "text/html": [
              "\n",
              "  <div id=\"df-e2b16fe6-d535-484c-94a9-326135a6c567\">\n",
              "    <div class=\"colab-df-container\">\n",
              "      <div>\n",
              "<style scoped>\n",
              "    .dataframe tbody tr th:only-of-type {\n",
              "        vertical-align: middle;\n",
              "    }\n",
              "\n",
              "    .dataframe tbody tr th {\n",
              "        vertical-align: top;\n",
              "    }\n",
              "\n",
              "    .dataframe thead th {\n",
              "        text-align: right;\n",
              "    }\n",
              "</style>\n",
              "<table border=\"1\" class=\"dataframe\">\n",
              "  <thead>\n",
              "    <tr style=\"text-align: right;\">\n",
              "      <th></th>\n",
              "      <th>id</th>\n",
              "      <th>qid1</th>\n",
              "      <th>qid2</th>\n",
              "      <th>question1</th>\n",
              "      <th>question2</th>\n",
              "      <th>is_duplicate</th>\n",
              "    </tr>\n",
              "  </thead>\n",
              "  <tbody>\n",
              "    <tr>\n",
              "      <th>243932</th>\n",
              "      <td>243932</td>\n",
              "      <td>26193</td>\n",
              "      <td>356455</td>\n",
              "      <td>What are some good web scraping tutorials?</td>\n",
              "      <td>What are some good web scraping programs?</td>\n",
              "      <td>1</td>\n",
              "    </tr>\n",
              "    <tr>\n",
              "      <th>91980</th>\n",
              "      <td>91980</td>\n",
              "      <td>154063</td>\n",
              "      <td>154064</td>\n",
              "      <td>Can I apply for internet banking in SBI withou...</td>\n",
              "      <td>I have internet banking kit of SBI but it's no...</td>\n",
              "      <td>0</td>\n",
              "    </tr>\n",
              "    <tr>\n",
              "      <th>266955</th>\n",
              "      <td>266955</td>\n",
              "      <td>133017</td>\n",
              "      <td>384210</td>\n",
              "      <td>How much HE laundry detergent do you use in a ...</td>\n",
              "      <td>Can I use regular Dawn dishsoap in my dishwash...</td>\n",
              "      <td>0</td>\n",
              "    </tr>\n",
              "    <tr>\n",
              "      <th>71112</th>\n",
              "      <td>71112</td>\n",
              "      <td>122427</td>\n",
              "      <td>122428</td>\n",
              "      <td>What is the best way to understand and learn m...</td>\n",
              "      <td>What are some of the best ways to learn math?</td>\n",
              "      <td>1</td>\n",
              "    </tr>\n",
              "    <tr>\n",
              "      <th>312470</th>\n",
              "      <td>312470</td>\n",
              "      <td>436915</td>\n",
              "      <td>436916</td>\n",
              "      <td>What would the Modi-led government do in case ...</td>\n",
              "      <td>If Pakistan mounts a 26/11 type attack again, ...</td>\n",
              "      <td>1</td>\n",
              "    </tr>\n",
              "  </tbody>\n",
              "</table>\n",
              "</div>\n",
              "      <button class=\"colab-df-convert\" onclick=\"convertToInteractive('df-e2b16fe6-d535-484c-94a9-326135a6c567')\"\n",
              "              title=\"Convert this dataframe to an interactive table.\"\n",
              "              style=\"display:none;\">\n",
              "        \n",
              "  <svg xmlns=\"http://www.w3.org/2000/svg\" height=\"24px\"viewBox=\"0 0 24 24\"\n",
              "       width=\"24px\">\n",
              "    <path d=\"M0 0h24v24H0V0z\" fill=\"none\"/>\n",
              "    <path d=\"M18.56 5.44l.94 2.06.94-2.06 2.06-.94-2.06-.94-.94-2.06-.94 2.06-2.06.94zm-11 1L8.5 8.5l.94-2.06 2.06-.94-2.06-.94L8.5 2.5l-.94 2.06-2.06.94zm10 10l.94 2.06.94-2.06 2.06-.94-2.06-.94-.94-2.06-.94 2.06-2.06.94z\"/><path d=\"M17.41 7.96l-1.37-1.37c-.4-.4-.92-.59-1.43-.59-.52 0-1.04.2-1.43.59L10.3 9.45l-7.72 7.72c-.78.78-.78 2.05 0 2.83L4 21.41c.39.39.9.59 1.41.59.51 0 1.02-.2 1.41-.59l7.78-7.78 2.81-2.81c.8-.78.8-2.07 0-2.86zM5.41 20L4 18.59l7.72-7.72 1.47 1.35L5.41 20z\"/>\n",
              "  </svg>\n",
              "      </button>\n",
              "      \n",
              "  <style>\n",
              "    .colab-df-container {\n",
              "      display:flex;\n",
              "      flex-wrap:wrap;\n",
              "      gap: 12px;\n",
              "    }\n",
              "\n",
              "    .colab-df-convert {\n",
              "      background-color: #E8F0FE;\n",
              "      border: none;\n",
              "      border-radius: 50%;\n",
              "      cursor: pointer;\n",
              "      display: none;\n",
              "      fill: #1967D2;\n",
              "      height: 32px;\n",
              "      padding: 0 0 0 0;\n",
              "      width: 32px;\n",
              "    }\n",
              "\n",
              "    .colab-df-convert:hover {\n",
              "      background-color: #E2EBFA;\n",
              "      box-shadow: 0px 1px 2px rgba(60, 64, 67, 0.3), 0px 1px 3px 1px rgba(60, 64, 67, 0.15);\n",
              "      fill: #174EA6;\n",
              "    }\n",
              "\n",
              "    [theme=dark] .colab-df-convert {\n",
              "      background-color: #3B4455;\n",
              "      fill: #D2E3FC;\n",
              "    }\n",
              "\n",
              "    [theme=dark] .colab-df-convert:hover {\n",
              "      background-color: #434B5C;\n",
              "      box-shadow: 0px 1px 3px 1px rgba(0, 0, 0, 0.15);\n",
              "      filter: drop-shadow(0px 1px 2px rgba(0, 0, 0, 0.3));\n",
              "      fill: #FFFFFF;\n",
              "    }\n",
              "  </style>\n",
              "\n",
              "      <script>\n",
              "        const buttonEl =\n",
              "          document.querySelector('#df-e2b16fe6-d535-484c-94a9-326135a6c567 button.colab-df-convert');\n",
              "        buttonEl.style.display =\n",
              "          google.colab.kernel.accessAllowed ? 'block' : 'none';\n",
              "\n",
              "        async function convertToInteractive(key) {\n",
              "          const element = document.querySelector('#df-e2b16fe6-d535-484c-94a9-326135a6c567');\n",
              "          const dataTable =\n",
              "            await google.colab.kernel.invokeFunction('convertToInteractive',\n",
              "                                                     [key], {});\n",
              "          if (!dataTable) return;\n",
              "\n",
              "          const docLinkHtml = 'Like what you see? Visit the ' +\n",
              "            '<a target=\"_blank\" href=https://colab.research.google.com/notebooks/data_table.ipynb>data table notebook</a>'\n",
              "            + ' to learn more about interactive tables.';\n",
              "          element.innerHTML = '';\n",
              "          dataTable['output_type'] = 'display_data';\n",
              "          await google.colab.output.renderOutput(dataTable, element);\n",
              "          const docLink = document.createElement('div');\n",
              "          docLink.innerHTML = docLinkHtml;\n",
              "          element.appendChild(docLink);\n",
              "        }\n",
              "      </script>\n",
              "    </div>\n",
              "  </div>\n",
              "  "
            ]
          },
          "metadata": {},
          "execution_count": 8
        }
      ],
      "source": [
        "df.tail()"
      ]
    },
    {
      "cell_type": "code",
      "execution_count": 9,
      "metadata": {
        "id": "6Q0p_fO-ztlf"
      },
      "outputs": [],
      "source": [
        "val = df.is_duplicate.value_counts()"
      ]
    },
    {
      "cell_type": "code",
      "source": [
        "# non duplicate value percentage\n",
        "print('non duplicate question ratio',val[0]/df.shape[0]*100)\n",
        "# duplicate value percentage\n",
        "print('duplicate question ratio',val[1]/df.shape[0]*100)"
      ],
      "metadata": {
        "colab": {
          "base_uri": "https://localhost:8080/"
        },
        "id": "s7fvkhaWOLq_",
        "outputId": "148d9458-4f88-40fb-99c5-cb9d7a7ef209"
      },
      "execution_count": 10,
      "outputs": [
        {
          "output_type": "stream",
          "name": "stdout",
          "text": [
            "non duplicate question ratio 63.37666666666667\n",
            "duplicate question ratio 36.623333333333335\n"
          ]
        }
      ]
    },
    {
      "cell_type": "code",
      "source": [
        "df.head()"
      ],
      "metadata": {
        "colab": {
          "base_uri": "https://localhost:8080/",
          "height": 337
        },
        "id": "LEBkA37iQ40f",
        "outputId": "7d8fdc32-bf8f-4409-8cef-cba8370161d1"
      },
      "execution_count": 11,
      "outputs": [
        {
          "output_type": "execute_result",
          "data": {
            "text/plain": [
              "            id    qid1    qid2  \\\n",
              "398782  398782  496695  532029   \n",
              "115086  115086  187729  187730   \n",
              "327711  327711  454161  454162   \n",
              "367788  367788  498109  491396   \n",
              "151235  151235  237843   50930   \n",
              "\n",
              "                                                question1  \\\n",
              "398782  What is the best marketing automation tool for...   \n",
              "115086  I am poor but I want to invest. What should I do?   \n",
              "327711  I am from India and live abroad. I met a guy f...   \n",
              "367788  Why do so many people in the U.S. hate the sou...   \n",
              "151235                Consequences of Bhopal gas tragedy?   \n",
              "\n",
              "                                                question2  is_duplicate  \n",
              "398782  What is the best marketing automation tool for...             1  \n",
              "115086  I am quite poor and I want to be very rich. Wh...             0  \n",
              "327711  T.I.E.T to Thapar University to Thapar Univers...             0  \n",
              "367788  My boyfriend doesnt feel guilty when he hurts ...             0  \n",
              "151235  What was the reason behind the Bhopal gas trag...             0  "
            ],
            "text/html": [
              "\n",
              "  <div id=\"df-c14e9d10-5bae-433a-a347-5fefba872515\">\n",
              "    <div class=\"colab-df-container\">\n",
              "      <div>\n",
              "<style scoped>\n",
              "    .dataframe tbody tr th:only-of-type {\n",
              "        vertical-align: middle;\n",
              "    }\n",
              "\n",
              "    .dataframe tbody tr th {\n",
              "        vertical-align: top;\n",
              "    }\n",
              "\n",
              "    .dataframe thead th {\n",
              "        text-align: right;\n",
              "    }\n",
              "</style>\n",
              "<table border=\"1\" class=\"dataframe\">\n",
              "  <thead>\n",
              "    <tr style=\"text-align: right;\">\n",
              "      <th></th>\n",
              "      <th>id</th>\n",
              "      <th>qid1</th>\n",
              "      <th>qid2</th>\n",
              "      <th>question1</th>\n",
              "      <th>question2</th>\n",
              "      <th>is_duplicate</th>\n",
              "    </tr>\n",
              "  </thead>\n",
              "  <tbody>\n",
              "    <tr>\n",
              "      <th>398782</th>\n",
              "      <td>398782</td>\n",
              "      <td>496695</td>\n",
              "      <td>532029</td>\n",
              "      <td>What is the best marketing automation tool for...</td>\n",
              "      <td>What is the best marketing automation tool for...</td>\n",
              "      <td>1</td>\n",
              "    </tr>\n",
              "    <tr>\n",
              "      <th>115086</th>\n",
              "      <td>115086</td>\n",
              "      <td>187729</td>\n",
              "      <td>187730</td>\n",
              "      <td>I am poor but I want to invest. What should I do?</td>\n",
              "      <td>I am quite poor and I want to be very rich. Wh...</td>\n",
              "      <td>0</td>\n",
              "    </tr>\n",
              "    <tr>\n",
              "      <th>327711</th>\n",
              "      <td>327711</td>\n",
              "      <td>454161</td>\n",
              "      <td>454162</td>\n",
              "      <td>I am from India and live abroad. I met a guy f...</td>\n",
              "      <td>T.I.E.T to Thapar University to Thapar Univers...</td>\n",
              "      <td>0</td>\n",
              "    </tr>\n",
              "    <tr>\n",
              "      <th>367788</th>\n",
              "      <td>367788</td>\n",
              "      <td>498109</td>\n",
              "      <td>491396</td>\n",
              "      <td>Why do so many people in the U.S. hate the sou...</td>\n",
              "      <td>My boyfriend doesnt feel guilty when he hurts ...</td>\n",
              "      <td>0</td>\n",
              "    </tr>\n",
              "    <tr>\n",
              "      <th>151235</th>\n",
              "      <td>151235</td>\n",
              "      <td>237843</td>\n",
              "      <td>50930</td>\n",
              "      <td>Consequences of Bhopal gas tragedy?</td>\n",
              "      <td>What was the reason behind the Bhopal gas trag...</td>\n",
              "      <td>0</td>\n",
              "    </tr>\n",
              "  </tbody>\n",
              "</table>\n",
              "</div>\n",
              "      <button class=\"colab-df-convert\" onclick=\"convertToInteractive('df-c14e9d10-5bae-433a-a347-5fefba872515')\"\n",
              "              title=\"Convert this dataframe to an interactive table.\"\n",
              "              style=\"display:none;\">\n",
              "        \n",
              "  <svg xmlns=\"http://www.w3.org/2000/svg\" height=\"24px\"viewBox=\"0 0 24 24\"\n",
              "       width=\"24px\">\n",
              "    <path d=\"M0 0h24v24H0V0z\" fill=\"none\"/>\n",
              "    <path d=\"M18.56 5.44l.94 2.06.94-2.06 2.06-.94-2.06-.94-.94-2.06-.94 2.06-2.06.94zm-11 1L8.5 8.5l.94-2.06 2.06-.94-2.06-.94L8.5 2.5l-.94 2.06-2.06.94zm10 10l.94 2.06.94-2.06 2.06-.94-2.06-.94-.94-2.06-.94 2.06-2.06.94z\"/><path d=\"M17.41 7.96l-1.37-1.37c-.4-.4-.92-.59-1.43-.59-.52 0-1.04.2-1.43.59L10.3 9.45l-7.72 7.72c-.78.78-.78 2.05 0 2.83L4 21.41c.39.39.9.59 1.41.59.51 0 1.02-.2 1.41-.59l7.78-7.78 2.81-2.81c.8-.78.8-2.07 0-2.86zM5.41 20L4 18.59l7.72-7.72 1.47 1.35L5.41 20z\"/>\n",
              "  </svg>\n",
              "      </button>\n",
              "      \n",
              "  <style>\n",
              "    .colab-df-container {\n",
              "      display:flex;\n",
              "      flex-wrap:wrap;\n",
              "      gap: 12px;\n",
              "    }\n",
              "\n",
              "    .colab-df-convert {\n",
              "      background-color: #E8F0FE;\n",
              "      border: none;\n",
              "      border-radius: 50%;\n",
              "      cursor: pointer;\n",
              "      display: none;\n",
              "      fill: #1967D2;\n",
              "      height: 32px;\n",
              "      padding: 0 0 0 0;\n",
              "      width: 32px;\n",
              "    }\n",
              "\n",
              "    .colab-df-convert:hover {\n",
              "      background-color: #E2EBFA;\n",
              "      box-shadow: 0px 1px 2px rgba(60, 64, 67, 0.3), 0px 1px 3px 1px rgba(60, 64, 67, 0.15);\n",
              "      fill: #174EA6;\n",
              "    }\n",
              "\n",
              "    [theme=dark] .colab-df-convert {\n",
              "      background-color: #3B4455;\n",
              "      fill: #D2E3FC;\n",
              "    }\n",
              "\n",
              "    [theme=dark] .colab-df-convert:hover {\n",
              "      background-color: #434B5C;\n",
              "      box-shadow: 0px 1px 3px 1px rgba(0, 0, 0, 0.15);\n",
              "      filter: drop-shadow(0px 1px 2px rgba(0, 0, 0, 0.3));\n",
              "      fill: #FFFFFF;\n",
              "    }\n",
              "  </style>\n",
              "\n",
              "      <script>\n",
              "        const buttonEl =\n",
              "          document.querySelector('#df-c14e9d10-5bae-433a-a347-5fefba872515 button.colab-df-convert');\n",
              "        buttonEl.style.display =\n",
              "          google.colab.kernel.accessAllowed ? 'block' : 'none';\n",
              "\n",
              "        async function convertToInteractive(key) {\n",
              "          const element = document.querySelector('#df-c14e9d10-5bae-433a-a347-5fefba872515');\n",
              "          const dataTable =\n",
              "            await google.colab.kernel.invokeFunction('convertToInteractive',\n",
              "                                                     [key], {});\n",
              "          if (!dataTable) return;\n",
              "\n",
              "          const docLinkHtml = 'Like what you see? Visit the ' +\n",
              "            '<a target=\"_blank\" href=https://colab.research.google.com/notebooks/data_table.ipynb>data table notebook</a>'\n",
              "            + ' to learn more about interactive tables.';\n",
              "          element.innerHTML = '';\n",
              "          dataTable['output_type'] = 'display_data';\n",
              "          await google.colab.output.renderOutput(dataTable, element);\n",
              "          const docLink = document.createElement('div');\n",
              "          docLink.innerHTML = docLinkHtml;\n",
              "          element.appendChild(docLink);\n",
              "        }\n",
              "      </script>\n",
              "    </div>\n",
              "  </div>\n",
              "  "
            ]
          },
          "metadata": {},
          "execution_count": 11
        }
      ]
    },
    {
      "cell_type": "code",
      "source": [
        "from imblearn.under_sampling import RandomUnderSampler\n",
        "\n",
        "# X: Feature matrix, y: Target variable\n",
        "X = df.iloc[:,:-1]  # Your feature data\n",
        "y = df.iloc[:,-1:] # Your target labels\n",
        "\n",
        "# Create an instance of RandomUnderSampler\n",
        "rus = RandomUnderSampler(random_state=42)\n",
        "\n",
        "# Perform undersampling\n",
        "X_resampled, y_resampled = rus.fit_resample(X, y)\n",
        "\n",
        "# Print the class distribution after undersampling\n",
        "unique, counts = np.unique(y_resampled, return_counts=True)\n",
        "print(\"Class distribution after undersampling:\")\n",
        "for label, count in zip(unique, counts):\n",
        "    print(\"Class {}: {}\".format(label, count))\n",
        "\n",
        "# Continue with your model training using the undersampled data (X_resampled, y_resampled)\n"
      ],
      "metadata": {
        "colab": {
          "base_uri": "https://localhost:8080/"
        },
        "id": "UhOa8lfhQ2C_",
        "outputId": "550d3884-8234-4adc-8bef-33937931b891"
      },
      "execution_count": 12,
      "outputs": [
        {
          "output_type": "stream",
          "name": "stdout",
          "text": [
            "Class distribution after undersampling:\n",
            "Class 0: 10987\n",
            "Class 1: 10987\n"
          ]
        }
      ]
    },
    {
      "cell_type": "code",
      "source": [
        "type (X_resampled)"
      ],
      "metadata": {
        "colab": {
          "base_uri": "https://localhost:8080/"
        },
        "id": "l18bjGJoRThI",
        "outputId": "aca7ac1c-faf0-4cb3-c27d-8484c643ed2b"
      },
      "execution_count": 13,
      "outputs": [
        {
          "output_type": "execute_result",
          "data": {
            "text/plain": [
              "pandas.core.frame.DataFrame"
            ]
          },
          "metadata": {},
          "execution_count": 13
        }
      ]
    },
    {
      "cell_type": "code",
      "source": [
        "type(y_resampled)"
      ],
      "metadata": {
        "colab": {
          "base_uri": "https://localhost:8080/"
        },
        "id": "CY3ttVybRK8Y",
        "outputId": "08e6fda5-22c2-492d-ebd4-360f6f37aa0c"
      },
      "execution_count": 14,
      "outputs": [
        {
          "output_type": "execute_result",
          "data": {
            "text/plain": [
              "pandas.core.frame.DataFrame"
            ]
          },
          "metadata": {},
          "execution_count": 14
        }
      ]
    },
    {
      "cell_type": "code",
      "source": [
        "df = pd.concat([X_resampled, y_resampled], axis=1)"
      ],
      "metadata": {
        "id": "vuTzTwmTSOQt"
      },
      "execution_count": 15,
      "outputs": []
    },
    {
      "cell_type": "code",
      "source": [
        "val = df.is_duplicate.value_counts()\n",
        "# non duplicate value percentage\n",
        "print('non duplicate question ratio',val[0]/df.shape[0]*100)\n",
        "# duplicate value percentage\n",
        "print('duplicate question ratio',val[1]/df.shape[0]*100)"
      ],
      "metadata": {
        "colab": {
          "base_uri": "https://localhost:8080/"
        },
        "id": "6SRNNLsqSU4e",
        "outputId": "1a90ebea-a80f-414d-fd60-f19a6e2b7239"
      },
      "execution_count": 16,
      "outputs": [
        {
          "output_type": "stream",
          "name": "stdout",
          "text": [
            "non duplicate question ratio 50.0\n",
            "duplicate question ratio 50.0\n"
          ]
        }
      ]
    },
    {
      "cell_type": "code",
      "source": [
        "def preprocess(q):\n",
        "\n",
        "    q = str(q).lower().strip()\n",
        "\n",
        "    # Replace certain special characters with their string equivalents\n",
        "    q = q.replace('%', ' percent')\n",
        "    q = q.replace('$', ' dollar ')\n",
        "    q = q.replace('₹', ' rupee ')\n",
        "    q = q.replace('€', ' euro ')\n",
        "    q = q.replace('@', ' at ')\n",
        "\n",
        "    # The pattern '[math]' appears around 900 times in the whole dataset.\n",
        "    q = q.replace('[math]', '')\n",
        "\n",
        "    # Replacing some numbers with string equivalents (not perfect, can be done better to account for more cases)\n",
        "    q = q.replace(',000,000,000 ', 'b ')\n",
        "    q = q.replace(',000,000 ', 'm ')\n",
        "    q = q.replace(',000 ', 'k ')\n",
        "    q = re.sub(r'([0-9]+)000000000', r'\\1b', q)\n",
        "    q = re.sub(r'([0-9]+)000000', r'\\1m', q)\n",
        "    q = re.sub(r'([0-9]+)000', r'\\1k', q)\n",
        "\n",
        "    # Decontracting words\n",
        "    contractions = {\n",
        "    \"ain't\": \"am not\",\n",
        "    \"aren't\": \"are not\",\n",
        "    \"can't\": \"can not\",\n",
        "    \"can't've\": \"can not have\",\n",
        "    \"'cause\": \"because\",\n",
        "    \"could've\": \"could have\",\n",
        "    \"couldn't\": \"could not\",\n",
        "    \"couldn't've\": \"could not have\",\n",
        "    \"didn't\": \"did not\",\n",
        "    \"doesn't\": \"does not\",\n",
        "    \"don't\": \"do not\",\n",
        "    \"hadn't\": \"had not\",\n",
        "    \"hadn't've\": \"had not have\",\n",
        "    \"hasn't\": \"has not\",\n",
        "    \"haven't\": \"have not\",\n",
        "    \"he'd\": \"he would\",\n",
        "    \"he'd've\": \"he would have\",\n",
        "    \"he'll\": \"he will\",\n",
        "    \"he'll've\": \"he will have\",\n",
        "    \"he's\": \"he is\",\n",
        "    \"how'd\": \"how did\",\n",
        "    \"how'd'y\": \"how do you\",\n",
        "    \"how'll\": \"how will\",\n",
        "    \"how's\": \"how is\",\n",
        "    \"i'd\": \"i would\",\n",
        "    \"i'd've\": \"i would have\",\n",
        "    \"i'll\": \"i will\",\n",
        "    \"i'll've\": \"i will have\",\n",
        "    \"i'm\": \"i am\",\n",
        "    \"i've\": \"i have\",\n",
        "    \"isn't\": \"is not\",\n",
        "    \"it'd\": \"it would\",\n",
        "    \"it'd've\": \"it would have\",\n",
        "    \"it'll\": \"it will\",\n",
        "    \"it'll've\": \"it will have\",\n",
        "    \"it's\": \"it is\",\n",
        "    \"let's\": \"let us\",\n",
        "    \"ma'am\": \"madam\",\n",
        "    \"mayn't\": \"may not\",\n",
        "    \"might've\": \"might have\",\n",
        "    \"mightn't\": \"might not\",\n",
        "    \"mightn't've\": \"might not have\",\n",
        "    \"must've\": \"must have\",\n",
        "    \"mustn't\": \"must not\",\n",
        "    \"mustn't've\": \"must not have\",\n",
        "    \"needn't\": \"need not\",\n",
        "    \"needn't've\": \"need not have\",\n",
        "    \"o'clock\": \"of the clock\",\n",
        "    \"oughtn't\": \"ought not\",\n",
        "    \"oughtn't've\": \"ought not have\",\n",
        "    \"shan't\": \"shall not\",\n",
        "    \"sha'n't\": \"shall not\",\n",
        "    \"shan't've\": \"shall not have\",\n",
        "    \"she'd\": \"she would\",\n",
        "    \"she'd've\": \"she would have\",\n",
        "    \"she'll\": \"she will\",\n",
        "    \"she'll've\": \"she will have\",\n",
        "    \"she's\": \"she is\",\n",
        "    \"should've\": \"should have\",\n",
        "    \"shouldn't\": \"should not\",\n",
        "    \"shouldn't've\": \"should not have\",\n",
        "    \"so've\": \"so have\",\n",
        "    \"so's\": \"so as\",\n",
        "    \"that'd\": \"that would\",\n",
        "    \"that'd've\": \"that would have\",\n",
        "    \"that's\": \"that is\",\n",
        "    \"there'd\": \"there would\",\n",
        "    \"there'd've\": \"there would have\",\n",
        "    \"there's\": \"there is\",\n",
        "    \"they'd\": \"they would\",\n",
        "    \"they'd've\": \"they would have\",\n",
        "    \"they'll\": \"they will\",\n",
        "    \"they'll've\": \"they will have\",\n",
        "    \"they're\": \"they are\",\n",
        "    \"they've\": \"they have\",\n",
        "    \"to've\": \"to have\",\n",
        "    \"wasn't\": \"was not\",\n",
        "    \"we'd\": \"we would\",\n",
        "    \"we'd've\": \"we would have\",\n",
        "    \"we'll\": \"we will\",\n",
        "    \"we'll've\": \"we will have\",\n",
        "    \"we're\": \"we are\",\n",
        "    \"we've\": \"we have\",\n",
        "    \"weren't\": \"were not\",\n",
        "    \"what'll\": \"what will\",\n",
        "    \"what'll've\": \"what will have\",\n",
        "    \"what're\": \"what are\",\n",
        "    \"what's\": \"what is\",\n",
        "    \"what've\": \"what have\",\n",
        "    \"when's\": \"when is\",\n",
        "    \"when've\": \"when have\",\n",
        "    \"where'd\": \"where did\",\n",
        "    \"where's\": \"where is\",\n",
        "    \"where've\": \"where have\",\n",
        "    \"who'll\": \"who will\",\n",
        "    \"who'll've\": \"who will have\",\n",
        "    \"who's\": \"who is\",\n",
        "    \"who've\": \"who have\",\n",
        "    \"why's\": \"why is\",\n",
        "    \"why've\": \"why have\",\n",
        "    \"will've\": \"will have\",\n",
        "    \"won't\": \"will not\",\n",
        "    \"won't've\": \"will not have\",\n",
        "    \"would've\": \"would have\",\n",
        "    \"wouldn't\": \"would not\",\n",
        "    \"wouldn't've\": \"would not have\",\n",
        "    \"y'all\": \"you all\",\n",
        "    \"y'all'd\": \"you all would\",\n",
        "    \"y'all'd've\": \"you all would have\",\n",
        "    \"y'all're\": \"you all are\",\n",
        "    \"y'all've\": \"you all have\",\n",
        "    \"you'd\": \"you would\",\n",
        "    \"you'd've\": \"you would have\",\n",
        "    \"you'll\": \"you will\",\n",
        "    \"you'll've\": \"you will have\",\n",
        "    \"you're\": \"you are\",\n",
        "    \"you've\": \"you have\"\n",
        "    }\n",
        "\n",
        "    q_decontracted = []\n",
        "\n",
        "    for word in q.split():\n",
        "        if word in contractions:\n",
        "            word = contractions[word]\n",
        "\n",
        "        q_decontracted.append(word)\n",
        "\n",
        "    q = ' '.join(q_decontracted)\n",
        "    q = q.replace(\"'ve\", \" have\")\n",
        "    q = q.replace(\"n't\", \" not\")\n",
        "    q = q.replace(\"'re\", \" are\")\n",
        "    q = q.replace(\"'ll\", \" will\")\n",
        "\n",
        "    # Removing HTML tags\n",
        "    q = BeautifulSoup(q)\n",
        "    q = q.get_text()\n",
        "\n",
        "    # Remove punctuations\n",
        "    pattern = re.compile('\\W')\n",
        "    q = re.sub(pattern, ' ', q).strip()\n",
        "\n",
        "\n",
        "    return q\n",
        "\n"
      ],
      "metadata": {
        "id": "K9MUdM8ovp5o"
      },
      "execution_count": 17,
      "outputs": []
    },
    {
      "cell_type": "code",
      "source": [
        "preprocess(\"I've already! wasn't <b>done</b>?\")\n"
      ],
      "metadata": {
        "colab": {
          "base_uri": "https://localhost:8080/",
          "height": 35
        },
        "id": "SoRGQLp8v2em",
        "outputId": "4d7b5c2a-2d9c-4e7c-c23d-853b1a6e30b0"
      },
      "execution_count": 18,
      "outputs": [
        {
          "output_type": "execute_result",
          "data": {
            "text/plain": [
              "'i have already  was not done'"
            ],
            "application/vnd.google.colaboratory.intrinsic+json": {
              "type": "string"
            }
          },
          "metadata": {},
          "execution_count": 18
        }
      ]
    },
    {
      "cell_type": "code",
      "source": [
        "df['question1'] = df['question1'].progress_apply(preprocess)\n",
        "df['question2'] = df['question2'].progress_apply(preprocess)\n"
      ],
      "metadata": {
        "colab": {
          "base_uri": "https://localhost:8080/"
        },
        "id": "JY5D5bUXv88K",
        "outputId": "447541fb-ce18-44d3-8a65-552c25c1129b"
      },
      "execution_count": 19,
      "outputs": [
        {
          "output_type": "stream",
          "name": "stderr",
          "text": [
            "100%|██████████| 21974/21974 [00:07<00:00, 3040.15it/s]\n",
            "100%|██████████| 21974/21974 [00:07<00:00, 2964.48it/s]\n"
          ]
        }
      ]
    },
    {
      "cell_type": "code",
      "source": [
        "import nltk\n",
        "from nltk.stem.porter import PorterStemmer\n",
        "from nltk.stem import WordNetLemmatizer\n",
        "nltk.download('wordnet')\n",
        "from nltk import pos_tag, word_tokenize\n",
        "nltk.download('averaged_perceptron_tagger')\n",
        "from nltk.corpus import stopwords\n",
        "nltk.download('stopwords')"
      ],
      "metadata": {
        "colab": {
          "base_uri": "https://localhost:8080/"
        },
        "id": "3Du6a8tmw-kN",
        "outputId": "3d2772dd-1af7-4533-a978-1bfdc2bf9582"
      },
      "execution_count": 20,
      "outputs": [
        {
          "output_type": "stream",
          "name": "stderr",
          "text": [
            "[nltk_data] Downloading package wordnet to /root/nltk_data...\n",
            "[nltk_data] Downloading package averaged_perceptron_tagger to\n",
            "[nltk_data]     /root/nltk_data...\n",
            "[nltk_data]   Unzipping taggers/averaged_perceptron_tagger.zip.\n",
            "[nltk_data] Downloading package stopwords to /root/nltk_data...\n",
            "[nltk_data]   Unzipping corpora/stopwords.zip.\n"
          ]
        },
        {
          "output_type": "execute_result",
          "data": {
            "text/plain": [
              "True"
            ]
          },
          "metadata": {},
          "execution_count": 20
        }
      ]
    },
    {
      "cell_type": "code",
      "source": [
        "def pre_process(raw_text, flag):\n",
        "\n",
        "    sentence = raw_text\n",
        "\n",
        "\n",
        "    # Remove stop words\n",
        "    clean_tokens = [t for t in sentence.split() if t not in stopwords.words(\"english\")]\n",
        "\n",
        "    # Stemming/Lemmatization and POS tagging\n",
        "    if flag == 'stem':\n",
        "        stemmer = PorterStemmer()\n",
        "        token_list = []\n",
        "        for word, tag in pos_tag(clean_tokens):\n",
        "            wntag = tag[0].lower()\n",
        "            wntag = wntag if wntag in ['a', 'r', 'n', 'v'] else None\n",
        "            stem = stemmer.stem(word, wntag) if wntag else word\n",
        "            token_list.append(stem)\n",
        "    else:\n",
        "        lemmatizer = WordNetLemmatizer()\n",
        "        token_list = []\n",
        "        for word, tag in pos_tag(clean_tokens):\n",
        "            wntag = tag[0].lower()\n",
        "            wntag = wntag if wntag in ['a', 'r', 'n', 'v'] else None\n",
        "            lemma = lemmatizer.lemmatize(word, wntag) if wntag else word\n",
        "            token_list.append(lemma)\n",
        "\n",
        "    return pd.Series([\" \".join(token_list)])"
      ],
      "metadata": {
        "id": "z1ojpNFqwm22"
      },
      "execution_count": 21,
      "outputs": []
    },
    {
      "cell_type": "code",
      "source": [
        "df['cleanQ1_lemma'] = df['question1'].progress_apply(lambda x: pre_process(x, 'lemma'))"
      ],
      "metadata": {
        "colab": {
          "base_uri": "https://localhost:8080/"
        },
        "id": "rj4Q-a6y2RmE",
        "outputId": "f1f3150f-6d02-4143-c041-376ba35e02f3"
      },
      "execution_count": 22,
      "outputs": [
        {
          "output_type": "stream",
          "name": "stderr",
          "text": [
            "100%|██████████| 21974/21974 [01:01<00:00, 356.67it/s]\n"
          ]
        }
      ]
    },
    {
      "cell_type": "code",
      "source": [
        "df['cleanQ2_lemma'] = df['question2'].progress_apply(lambda x: pre_process(x, 'lemma'))"
      ],
      "metadata": {
        "colab": {
          "base_uri": "https://localhost:8080/"
        },
        "id": "U59GcBQsxg9U",
        "outputId": "5fa16f14-956b-40e6-aa5f-41b68200d9a0"
      },
      "execution_count": 23,
      "outputs": [
        {
          "output_type": "stream",
          "name": "stderr",
          "text": [
            "100%|██████████| 21974/21974 [00:52<00:00, 422.51it/s]\n"
          ]
        }
      ]
    },
    {
      "cell_type": "code",
      "source": [
        "df['question1'].values[0:3]"
      ],
      "metadata": {
        "colab": {
          "base_uri": "https://localhost:8080/"
        },
        "id": "jrC7r2OS2onp",
        "outputId": "4f0aee10-68fd-4692-a29a-c8d823db5048"
      },
      "execution_count": 24,
      "outputs": [
        {
          "output_type": "execute_result",
          "data": {
            "text/plain": [
              "array(['when function prototype is not necessary in c',\n",
              "       'what does it mean if you see your husband taking some women in a hotel room',\n",
              "       'law school  which language is more beneficial to learn for a lawyer   german or spanish'],\n",
              "      dtype=object)"
            ]
          },
          "metadata": {},
          "execution_count": 24
        }
      ]
    },
    {
      "cell_type": "code",
      "source": [
        "df['cleanQ1_lemma'].values[0:3]"
      ],
      "metadata": {
        "colab": {
          "base_uri": "https://localhost:8080/"
        },
        "id": "5Uy4JRf82ruM",
        "outputId": "e0ec66c1-b23c-47d2-e6d4-4ca4311e3b4b"
      },
      "execution_count": 25,
      "outputs": [
        {
          "output_type": "execute_result",
          "data": {
            "text/plain": [
              "array(['function prototype necessary c',\n",
              "       'mean see husband take woman hotel room',\n",
              "       'law school language beneficial learn lawyer german spanish'],\n",
              "      dtype=object)"
            ]
          },
          "metadata": {},
          "execution_count": 25
        }
      ]
    },
    {
      "cell_type": "code",
      "source": [
        "df['question2'].values[0:3]"
      ],
      "metadata": {
        "colab": {
          "base_uri": "https://localhost:8080/"
        },
        "id": "JtFXify62xjV",
        "outputId": "c262584c-cc2a-435c-9ce6-d329a2618fd0"
      },
      "execution_count": 26,
      "outputs": [
        {
          "output_type": "execute_result",
          "data": {
            "text/plain": [
              "array(['should i learn c before learning c',\n",
              "       'what would be your very first reaction if you open the newspaper and read this headline   justin bieber found dead in his hotel room',\n",
              "       'which language is beneficial for an engineer to learn  out of the following  german  french  japanese  or spanish'],\n",
              "      dtype=object)"
            ]
          },
          "metadata": {},
          "execution_count": 26
        }
      ]
    },
    {
      "cell_type": "code",
      "source": [
        "df['cleanQ2_lemma'].values[0:3]"
      ],
      "metadata": {
        "colab": {
          "base_uri": "https://localhost:8080/"
        },
        "id": "gzdLTFTy25U9",
        "outputId": "129530bb-4e2b-4a4c-f236-bc373b391187"
      },
      "execution_count": 27,
      "outputs": [
        {
          "output_type": "execute_result",
          "data": {
            "text/plain": [
              "array(['learn c learn c',\n",
              "       'would first reaction open newspaper read headline justin bieber find dead hotel room',\n",
              "       'language beneficial engineer learn follow german french japanese spanish'],\n",
              "      dtype=object)"
            ]
          },
          "metadata": {},
          "execution_count": 27
        }
      ]
    },
    {
      "cell_type": "code",
      "source": [
        "df.head()"
      ],
      "metadata": {
        "colab": {
          "base_uri": "https://localhost:8080/",
          "height": 424
        },
        "id": "mBF73vPK3FKg",
        "outputId": "b4c11bee-7202-4ca6-828b-fa29b8480522"
      },
      "execution_count": 28,
      "outputs": [
        {
          "output_type": "execute_result",
          "data": {
            "text/plain": [
              "       id    qid1    qid2                                          question1  \\\n",
              "0   87407  147217  147218      when function prototype is not necessary in c   \n",
              "1  310950  435155  435156  what does it mean if you see your husband taki...   \n",
              "2  206689  310189  310190  law school  which language is more beneficial ...   \n",
              "3  165212  256592  256593  should i update my old ipad 3 from 9 1 to ios ...   \n",
              "4  304449  427708  427709  is the running business  running apps  wearabl...   \n",
              "\n",
              "                                           question2  is_duplicate  \\\n",
              "0                 should i learn c before learning c             0   \n",
              "1  what would be your very first reaction if you ...             0   \n",
              "2  which language is beneficial for an engineer t...             0   \n",
              "3  my ipad mini 3 just crashed  it runs ios 9  th...             0   \n",
              "4  when is the right time to stop running a tech ...             0   \n",
              "\n",
              "                                       cleanQ1_lemma  \\\n",
              "0                     function prototype necessary c   \n",
              "1             mean see husband take woman hotel room   \n",
              "2  law school language beneficial learn lawyer ge...   \n",
              "3                     update old ipad 3 9 1 io 9 3 4   \n",
              "4  run business run apps wearable etc exploitable...   \n",
              "\n",
              "                                       cleanQ2_lemma  \n",
              "0                                    learn c learn c  \n",
              "1  would first reaction open newspaper read headl...  \n",
              "2  language beneficial engineer learn follow germ...  \n",
              "3       ipad mini 3 crashed run ios 9 skype app open  \n",
              "4  right time stop run tech business home take ne...  "
            ],
            "text/html": [
              "\n",
              "  <div id=\"df-2fa66da5-2491-4e3e-af79-6c26635ac875\">\n",
              "    <div class=\"colab-df-container\">\n",
              "      <div>\n",
              "<style scoped>\n",
              "    .dataframe tbody tr th:only-of-type {\n",
              "        vertical-align: middle;\n",
              "    }\n",
              "\n",
              "    .dataframe tbody tr th {\n",
              "        vertical-align: top;\n",
              "    }\n",
              "\n",
              "    .dataframe thead th {\n",
              "        text-align: right;\n",
              "    }\n",
              "</style>\n",
              "<table border=\"1\" class=\"dataframe\">\n",
              "  <thead>\n",
              "    <tr style=\"text-align: right;\">\n",
              "      <th></th>\n",
              "      <th>id</th>\n",
              "      <th>qid1</th>\n",
              "      <th>qid2</th>\n",
              "      <th>question1</th>\n",
              "      <th>question2</th>\n",
              "      <th>is_duplicate</th>\n",
              "      <th>cleanQ1_lemma</th>\n",
              "      <th>cleanQ2_lemma</th>\n",
              "    </tr>\n",
              "  </thead>\n",
              "  <tbody>\n",
              "    <tr>\n",
              "      <th>0</th>\n",
              "      <td>87407</td>\n",
              "      <td>147217</td>\n",
              "      <td>147218</td>\n",
              "      <td>when function prototype is not necessary in c</td>\n",
              "      <td>should i learn c before learning c</td>\n",
              "      <td>0</td>\n",
              "      <td>function prototype necessary c</td>\n",
              "      <td>learn c learn c</td>\n",
              "    </tr>\n",
              "    <tr>\n",
              "      <th>1</th>\n",
              "      <td>310950</td>\n",
              "      <td>435155</td>\n",
              "      <td>435156</td>\n",
              "      <td>what does it mean if you see your husband taki...</td>\n",
              "      <td>what would be your very first reaction if you ...</td>\n",
              "      <td>0</td>\n",
              "      <td>mean see husband take woman hotel room</td>\n",
              "      <td>would first reaction open newspaper read headl...</td>\n",
              "    </tr>\n",
              "    <tr>\n",
              "      <th>2</th>\n",
              "      <td>206689</td>\n",
              "      <td>310189</td>\n",
              "      <td>310190</td>\n",
              "      <td>law school  which language is more beneficial ...</td>\n",
              "      <td>which language is beneficial for an engineer t...</td>\n",
              "      <td>0</td>\n",
              "      <td>law school language beneficial learn lawyer ge...</td>\n",
              "      <td>language beneficial engineer learn follow germ...</td>\n",
              "    </tr>\n",
              "    <tr>\n",
              "      <th>3</th>\n",
              "      <td>165212</td>\n",
              "      <td>256592</td>\n",
              "      <td>256593</td>\n",
              "      <td>should i update my old ipad 3 from 9 1 to ios ...</td>\n",
              "      <td>my ipad mini 3 just crashed  it runs ios 9  th...</td>\n",
              "      <td>0</td>\n",
              "      <td>update old ipad 3 9 1 io 9 3 4</td>\n",
              "      <td>ipad mini 3 crashed run ios 9 skype app open</td>\n",
              "    </tr>\n",
              "    <tr>\n",
              "      <th>4</th>\n",
              "      <td>304449</td>\n",
              "      <td>427708</td>\n",
              "      <td>427709</td>\n",
              "      <td>is the running business  running apps  wearabl...</td>\n",
              "      <td>when is the right time to stop running a tech ...</td>\n",
              "      <td>0</td>\n",
              "      <td>run business run apps wearable etc exploitable...</td>\n",
              "      <td>right time stop run tech business home take ne...</td>\n",
              "    </tr>\n",
              "  </tbody>\n",
              "</table>\n",
              "</div>\n",
              "      <button class=\"colab-df-convert\" onclick=\"convertToInteractive('df-2fa66da5-2491-4e3e-af79-6c26635ac875')\"\n",
              "              title=\"Convert this dataframe to an interactive table.\"\n",
              "              style=\"display:none;\">\n",
              "        \n",
              "  <svg xmlns=\"http://www.w3.org/2000/svg\" height=\"24px\"viewBox=\"0 0 24 24\"\n",
              "       width=\"24px\">\n",
              "    <path d=\"M0 0h24v24H0V0z\" fill=\"none\"/>\n",
              "    <path d=\"M18.56 5.44l.94 2.06.94-2.06 2.06-.94-2.06-.94-.94-2.06-.94 2.06-2.06.94zm-11 1L8.5 8.5l.94-2.06 2.06-.94-2.06-.94L8.5 2.5l-.94 2.06-2.06.94zm10 10l.94 2.06.94-2.06 2.06-.94-2.06-.94-.94-2.06-.94 2.06-2.06.94z\"/><path d=\"M17.41 7.96l-1.37-1.37c-.4-.4-.92-.59-1.43-.59-.52 0-1.04.2-1.43.59L10.3 9.45l-7.72 7.72c-.78.78-.78 2.05 0 2.83L4 21.41c.39.39.9.59 1.41.59.51 0 1.02-.2 1.41-.59l7.78-7.78 2.81-2.81c.8-.78.8-2.07 0-2.86zM5.41 20L4 18.59l7.72-7.72 1.47 1.35L5.41 20z\"/>\n",
              "  </svg>\n",
              "      </button>\n",
              "      \n",
              "  <style>\n",
              "    .colab-df-container {\n",
              "      display:flex;\n",
              "      flex-wrap:wrap;\n",
              "      gap: 12px;\n",
              "    }\n",
              "\n",
              "    .colab-df-convert {\n",
              "      background-color: #E8F0FE;\n",
              "      border: none;\n",
              "      border-radius: 50%;\n",
              "      cursor: pointer;\n",
              "      display: none;\n",
              "      fill: #1967D2;\n",
              "      height: 32px;\n",
              "      padding: 0 0 0 0;\n",
              "      width: 32px;\n",
              "    }\n",
              "\n",
              "    .colab-df-convert:hover {\n",
              "      background-color: #E2EBFA;\n",
              "      box-shadow: 0px 1px 2px rgba(60, 64, 67, 0.3), 0px 1px 3px 1px rgba(60, 64, 67, 0.15);\n",
              "      fill: #174EA6;\n",
              "    }\n",
              "\n",
              "    [theme=dark] .colab-df-convert {\n",
              "      background-color: #3B4455;\n",
              "      fill: #D2E3FC;\n",
              "    }\n",
              "\n",
              "    [theme=dark] .colab-df-convert:hover {\n",
              "      background-color: #434B5C;\n",
              "      box-shadow: 0px 1px 3px 1px rgba(0, 0, 0, 0.15);\n",
              "      filter: drop-shadow(0px 1px 2px rgba(0, 0, 0, 0.3));\n",
              "      fill: #FFFFFF;\n",
              "    }\n",
              "  </style>\n",
              "\n",
              "      <script>\n",
              "        const buttonEl =\n",
              "          document.querySelector('#df-2fa66da5-2491-4e3e-af79-6c26635ac875 button.colab-df-convert');\n",
              "        buttonEl.style.display =\n",
              "          google.colab.kernel.accessAllowed ? 'block' : 'none';\n",
              "\n",
              "        async function convertToInteractive(key) {\n",
              "          const element = document.querySelector('#df-2fa66da5-2491-4e3e-af79-6c26635ac875');\n",
              "          const dataTable =\n",
              "            await google.colab.kernel.invokeFunction('convertToInteractive',\n",
              "                                                     [key], {});\n",
              "          if (!dataTable) return;\n",
              "\n",
              "          const docLinkHtml = 'Like what you see? Visit the ' +\n",
              "            '<a target=\"_blank\" href=https://colab.research.google.com/notebooks/data_table.ipynb>data table notebook</a>'\n",
              "            + ' to learn more about interactive tables.';\n",
              "          element.innerHTML = '';\n",
              "          dataTable['output_type'] = 'display_data';\n",
              "          await google.colab.output.renderOutput(dataTable, element);\n",
              "          const docLink = document.createElement('div');\n",
              "          docLink.innerHTML = docLinkHtml;\n",
              "          element.appendChild(docLink);\n",
              "        }\n",
              "      </script>\n",
              "    </div>\n",
              "  </div>\n",
              "  "
            ]
          },
          "metadata": {},
          "execution_count": 28
        }
      ]
    },
    {
      "cell_type": "markdown",
      "source": [
        "# feature extraction Basic"
      ],
      "metadata": {
        "id": "br7nufweJWaw"
      }
    },
    {
      "cell_type": "code",
      "source": [
        "df['q1_len'] = df['cleanQ1_lemma'].str.len()\n",
        "df['q2_len'] = df['cleanQ2_lemma'].str.len()"
      ],
      "metadata": {
        "id": "n3p5i8fm3uEf"
      },
      "execution_count": 29,
      "outputs": []
    },
    {
      "cell_type": "code",
      "source": [
        "df['q1_num_words'] = df['cleanQ1_lemma'].apply(lambda row: len(row.split(\" \")))\n",
        "df['q2_num_words'] = df['cleanQ1_lemma'].apply(lambda row: len(row.split(\" \")))\n",
        "df.head()\n"
      ],
      "metadata": {
        "colab": {
          "base_uri": "https://localhost:8080/",
          "height": 704
        },
        "id": "30zjrjl840z9",
        "outputId": "ee8fe432-e5c1-431c-95e4-8bf1bb1392f1"
      },
      "execution_count": 30,
      "outputs": [
        {
          "output_type": "execute_result",
          "data": {
            "text/plain": [
              "       id    qid1    qid2                                          question1  \\\n",
              "0   87407  147217  147218      when function prototype is not necessary in c   \n",
              "1  310950  435155  435156  what does it mean if you see your husband taki...   \n",
              "2  206689  310189  310190  law school  which language is more beneficial ...   \n",
              "3  165212  256592  256593  should i update my old ipad 3 from 9 1 to ios ...   \n",
              "4  304449  427708  427709  is the running business  running apps  wearabl...   \n",
              "\n",
              "                                           question2  is_duplicate  \\\n",
              "0                 should i learn c before learning c             0   \n",
              "1  what would be your very first reaction if you ...             0   \n",
              "2  which language is beneficial for an engineer t...             0   \n",
              "3  my ipad mini 3 just crashed  it runs ios 9  th...             0   \n",
              "4  when is the right time to stop running a tech ...             0   \n",
              "\n",
              "                                       cleanQ1_lemma  \\\n",
              "0                     function prototype necessary c   \n",
              "1             mean see husband take woman hotel room   \n",
              "2  law school language beneficial learn lawyer ge...   \n",
              "3                     update old ipad 3 9 1 io 9 3 4   \n",
              "4  run business run apps wearable etc exploitable...   \n",
              "\n",
              "                                       cleanQ2_lemma  q1_len  q2_len  \\\n",
              "0                                    learn c learn c      30      15   \n",
              "1  would first reaction open newspaper read headl...      38      84   \n",
              "2  language beneficial engineer learn follow germ...      58      72   \n",
              "3       ipad mini 3 crashed run ios 9 skype app open      30      44   \n",
              "4  right time stop run tech business home take ne...      65      76   \n",
              "\n",
              "   q1_num_words  q2_num_words  \n",
              "0             4             4  \n",
              "1             7             7  \n",
              "2             8             8  \n",
              "3            10            10  \n",
              "4            10            10  "
            ],
            "text/html": [
              "\n",
              "  <div id=\"df-7b69caa4-f69d-4243-81fb-43fcf1e1ea46\">\n",
              "    <div class=\"colab-df-container\">\n",
              "      <div>\n",
              "<style scoped>\n",
              "    .dataframe tbody tr th:only-of-type {\n",
              "        vertical-align: middle;\n",
              "    }\n",
              "\n",
              "    .dataframe tbody tr th {\n",
              "        vertical-align: top;\n",
              "    }\n",
              "\n",
              "    .dataframe thead th {\n",
              "        text-align: right;\n",
              "    }\n",
              "</style>\n",
              "<table border=\"1\" class=\"dataframe\">\n",
              "  <thead>\n",
              "    <tr style=\"text-align: right;\">\n",
              "      <th></th>\n",
              "      <th>id</th>\n",
              "      <th>qid1</th>\n",
              "      <th>qid2</th>\n",
              "      <th>question1</th>\n",
              "      <th>question2</th>\n",
              "      <th>is_duplicate</th>\n",
              "      <th>cleanQ1_lemma</th>\n",
              "      <th>cleanQ2_lemma</th>\n",
              "      <th>q1_len</th>\n",
              "      <th>q2_len</th>\n",
              "      <th>q1_num_words</th>\n",
              "      <th>q2_num_words</th>\n",
              "    </tr>\n",
              "  </thead>\n",
              "  <tbody>\n",
              "    <tr>\n",
              "      <th>0</th>\n",
              "      <td>87407</td>\n",
              "      <td>147217</td>\n",
              "      <td>147218</td>\n",
              "      <td>when function prototype is not necessary in c</td>\n",
              "      <td>should i learn c before learning c</td>\n",
              "      <td>0</td>\n",
              "      <td>function prototype necessary c</td>\n",
              "      <td>learn c learn c</td>\n",
              "      <td>30</td>\n",
              "      <td>15</td>\n",
              "      <td>4</td>\n",
              "      <td>4</td>\n",
              "    </tr>\n",
              "    <tr>\n",
              "      <th>1</th>\n",
              "      <td>310950</td>\n",
              "      <td>435155</td>\n",
              "      <td>435156</td>\n",
              "      <td>what does it mean if you see your husband taki...</td>\n",
              "      <td>what would be your very first reaction if you ...</td>\n",
              "      <td>0</td>\n",
              "      <td>mean see husband take woman hotel room</td>\n",
              "      <td>would first reaction open newspaper read headl...</td>\n",
              "      <td>38</td>\n",
              "      <td>84</td>\n",
              "      <td>7</td>\n",
              "      <td>7</td>\n",
              "    </tr>\n",
              "    <tr>\n",
              "      <th>2</th>\n",
              "      <td>206689</td>\n",
              "      <td>310189</td>\n",
              "      <td>310190</td>\n",
              "      <td>law school  which language is more beneficial ...</td>\n",
              "      <td>which language is beneficial for an engineer t...</td>\n",
              "      <td>0</td>\n",
              "      <td>law school language beneficial learn lawyer ge...</td>\n",
              "      <td>language beneficial engineer learn follow germ...</td>\n",
              "      <td>58</td>\n",
              "      <td>72</td>\n",
              "      <td>8</td>\n",
              "      <td>8</td>\n",
              "    </tr>\n",
              "    <tr>\n",
              "      <th>3</th>\n",
              "      <td>165212</td>\n",
              "      <td>256592</td>\n",
              "      <td>256593</td>\n",
              "      <td>should i update my old ipad 3 from 9 1 to ios ...</td>\n",
              "      <td>my ipad mini 3 just crashed  it runs ios 9  th...</td>\n",
              "      <td>0</td>\n",
              "      <td>update old ipad 3 9 1 io 9 3 4</td>\n",
              "      <td>ipad mini 3 crashed run ios 9 skype app open</td>\n",
              "      <td>30</td>\n",
              "      <td>44</td>\n",
              "      <td>10</td>\n",
              "      <td>10</td>\n",
              "    </tr>\n",
              "    <tr>\n",
              "      <th>4</th>\n",
              "      <td>304449</td>\n",
              "      <td>427708</td>\n",
              "      <td>427709</td>\n",
              "      <td>is the running business  running apps  wearabl...</td>\n",
              "      <td>when is the right time to stop running a tech ...</td>\n",
              "      <td>0</td>\n",
              "      <td>run business run apps wearable etc exploitable...</td>\n",
              "      <td>right time stop run tech business home take ne...</td>\n",
              "      <td>65</td>\n",
              "      <td>76</td>\n",
              "      <td>10</td>\n",
              "      <td>10</td>\n",
              "    </tr>\n",
              "  </tbody>\n",
              "</table>\n",
              "</div>\n",
              "      <button class=\"colab-df-convert\" onclick=\"convertToInteractive('df-7b69caa4-f69d-4243-81fb-43fcf1e1ea46')\"\n",
              "              title=\"Convert this dataframe to an interactive table.\"\n",
              "              style=\"display:none;\">\n",
              "        \n",
              "  <svg xmlns=\"http://www.w3.org/2000/svg\" height=\"24px\"viewBox=\"0 0 24 24\"\n",
              "       width=\"24px\">\n",
              "    <path d=\"M0 0h24v24H0V0z\" fill=\"none\"/>\n",
              "    <path d=\"M18.56 5.44l.94 2.06.94-2.06 2.06-.94-2.06-.94-.94-2.06-.94 2.06-2.06.94zm-11 1L8.5 8.5l.94-2.06 2.06-.94-2.06-.94L8.5 2.5l-.94 2.06-2.06.94zm10 10l.94 2.06.94-2.06 2.06-.94-2.06-.94-.94-2.06-.94 2.06-2.06.94z\"/><path d=\"M17.41 7.96l-1.37-1.37c-.4-.4-.92-.59-1.43-.59-.52 0-1.04.2-1.43.59L10.3 9.45l-7.72 7.72c-.78.78-.78 2.05 0 2.83L4 21.41c.39.39.9.59 1.41.59.51 0 1.02-.2 1.41-.59l7.78-7.78 2.81-2.81c.8-.78.8-2.07 0-2.86zM5.41 20L4 18.59l7.72-7.72 1.47 1.35L5.41 20z\"/>\n",
              "  </svg>\n",
              "      </button>\n",
              "      \n",
              "  <style>\n",
              "    .colab-df-container {\n",
              "      display:flex;\n",
              "      flex-wrap:wrap;\n",
              "      gap: 12px;\n",
              "    }\n",
              "\n",
              "    .colab-df-convert {\n",
              "      background-color: #E8F0FE;\n",
              "      border: none;\n",
              "      border-radius: 50%;\n",
              "      cursor: pointer;\n",
              "      display: none;\n",
              "      fill: #1967D2;\n",
              "      height: 32px;\n",
              "      padding: 0 0 0 0;\n",
              "      width: 32px;\n",
              "    }\n",
              "\n",
              "    .colab-df-convert:hover {\n",
              "      background-color: #E2EBFA;\n",
              "      box-shadow: 0px 1px 2px rgba(60, 64, 67, 0.3), 0px 1px 3px 1px rgba(60, 64, 67, 0.15);\n",
              "      fill: #174EA6;\n",
              "    }\n",
              "\n",
              "    [theme=dark] .colab-df-convert {\n",
              "      background-color: #3B4455;\n",
              "      fill: #D2E3FC;\n",
              "    }\n",
              "\n",
              "    [theme=dark] .colab-df-convert:hover {\n",
              "      background-color: #434B5C;\n",
              "      box-shadow: 0px 1px 3px 1px rgba(0, 0, 0, 0.15);\n",
              "      filter: drop-shadow(0px 1px 2px rgba(0, 0, 0, 0.3));\n",
              "      fill: #FFFFFF;\n",
              "    }\n",
              "  </style>\n",
              "\n",
              "      <script>\n",
              "        const buttonEl =\n",
              "          document.querySelector('#df-7b69caa4-f69d-4243-81fb-43fcf1e1ea46 button.colab-df-convert');\n",
              "        buttonEl.style.display =\n",
              "          google.colab.kernel.accessAllowed ? 'block' : 'none';\n",
              "\n",
              "        async function convertToInteractive(key) {\n",
              "          const element = document.querySelector('#df-7b69caa4-f69d-4243-81fb-43fcf1e1ea46');\n",
              "          const dataTable =\n",
              "            await google.colab.kernel.invokeFunction('convertToInteractive',\n",
              "                                                     [key], {});\n",
              "          if (!dataTable) return;\n",
              "\n",
              "          const docLinkHtml = 'Like what you see? Visit the ' +\n",
              "            '<a target=\"_blank\" href=https://colab.research.google.com/notebooks/data_table.ipynb>data table notebook</a>'\n",
              "            + ' to learn more about interactive tables.';\n",
              "          element.innerHTML = '';\n",
              "          dataTable['output_type'] = 'display_data';\n",
              "          await google.colab.output.renderOutput(dataTable, element);\n",
              "          const docLink = document.createElement('div');\n",
              "          docLink.innerHTML = docLinkHtml;\n",
              "          element.appendChild(docLink);\n",
              "        }\n",
              "      </script>\n",
              "    </div>\n",
              "  </div>\n",
              "  "
            ]
          },
          "metadata": {},
          "execution_count": 30
        }
      ]
    },
    {
      "cell_type": "code",
      "source": [
        "def common_words(row):\n",
        "    w1 = set(map(lambda word: word.lower().strip(), row['cleanQ1_lemma'].split(\" \")))\n",
        "    w2 = set(map(lambda word: word.lower().strip(), row['cleanQ2_lemma'].split(\" \")))\n",
        "    return len(w1 & w2)\n"
      ],
      "metadata": {
        "id": "yjU4aT315IPV"
      },
      "execution_count": 31,
      "outputs": []
    },
    {
      "cell_type": "code",
      "source": [
        "df['word_common'] = df.apply(common_words, axis=1)\n",
        "df.head()\n"
      ],
      "metadata": {
        "colab": {
          "base_uri": "https://localhost:8080/",
          "height": 704
        },
        "id": "PR_nl_cm5S0F",
        "outputId": "68f93673-cb9d-400b-adc2-0bf4d83a7a6c"
      },
      "execution_count": 32,
      "outputs": [
        {
          "output_type": "execute_result",
          "data": {
            "text/plain": [
              "       id    qid1    qid2                                          question1  \\\n",
              "0   87407  147217  147218      when function prototype is not necessary in c   \n",
              "1  310950  435155  435156  what does it mean if you see your husband taki...   \n",
              "2  206689  310189  310190  law school  which language is more beneficial ...   \n",
              "3  165212  256592  256593  should i update my old ipad 3 from 9 1 to ios ...   \n",
              "4  304449  427708  427709  is the running business  running apps  wearabl...   \n",
              "\n",
              "                                           question2  is_duplicate  \\\n",
              "0                 should i learn c before learning c             0   \n",
              "1  what would be your very first reaction if you ...             0   \n",
              "2  which language is beneficial for an engineer t...             0   \n",
              "3  my ipad mini 3 just crashed  it runs ios 9  th...             0   \n",
              "4  when is the right time to stop running a tech ...             0   \n",
              "\n",
              "                                       cleanQ1_lemma  \\\n",
              "0                     function prototype necessary c   \n",
              "1             mean see husband take woman hotel room   \n",
              "2  law school language beneficial learn lawyer ge...   \n",
              "3                     update old ipad 3 9 1 io 9 3 4   \n",
              "4  run business run apps wearable etc exploitable...   \n",
              "\n",
              "                                       cleanQ2_lemma  q1_len  q2_len  \\\n",
              "0                                    learn c learn c      30      15   \n",
              "1  would first reaction open newspaper read headl...      38      84   \n",
              "2  language beneficial engineer learn follow germ...      58      72   \n",
              "3       ipad mini 3 crashed run ios 9 skype app open      30      44   \n",
              "4  right time stop run tech business home take ne...      65      76   \n",
              "\n",
              "   q1_num_words  q2_num_words  word_common  \n",
              "0             4             4            1  \n",
              "1             7             7            2  \n",
              "2             8             8            5  \n",
              "3            10            10            3  \n",
              "4            10            10            3  "
            ],
            "text/html": [
              "\n",
              "  <div id=\"df-2bb12921-9de9-4649-8aaf-9ef100c0a503\">\n",
              "    <div class=\"colab-df-container\">\n",
              "      <div>\n",
              "<style scoped>\n",
              "    .dataframe tbody tr th:only-of-type {\n",
              "        vertical-align: middle;\n",
              "    }\n",
              "\n",
              "    .dataframe tbody tr th {\n",
              "        vertical-align: top;\n",
              "    }\n",
              "\n",
              "    .dataframe thead th {\n",
              "        text-align: right;\n",
              "    }\n",
              "</style>\n",
              "<table border=\"1\" class=\"dataframe\">\n",
              "  <thead>\n",
              "    <tr style=\"text-align: right;\">\n",
              "      <th></th>\n",
              "      <th>id</th>\n",
              "      <th>qid1</th>\n",
              "      <th>qid2</th>\n",
              "      <th>question1</th>\n",
              "      <th>question2</th>\n",
              "      <th>is_duplicate</th>\n",
              "      <th>cleanQ1_lemma</th>\n",
              "      <th>cleanQ2_lemma</th>\n",
              "      <th>q1_len</th>\n",
              "      <th>q2_len</th>\n",
              "      <th>q1_num_words</th>\n",
              "      <th>q2_num_words</th>\n",
              "      <th>word_common</th>\n",
              "    </tr>\n",
              "  </thead>\n",
              "  <tbody>\n",
              "    <tr>\n",
              "      <th>0</th>\n",
              "      <td>87407</td>\n",
              "      <td>147217</td>\n",
              "      <td>147218</td>\n",
              "      <td>when function prototype is not necessary in c</td>\n",
              "      <td>should i learn c before learning c</td>\n",
              "      <td>0</td>\n",
              "      <td>function prototype necessary c</td>\n",
              "      <td>learn c learn c</td>\n",
              "      <td>30</td>\n",
              "      <td>15</td>\n",
              "      <td>4</td>\n",
              "      <td>4</td>\n",
              "      <td>1</td>\n",
              "    </tr>\n",
              "    <tr>\n",
              "      <th>1</th>\n",
              "      <td>310950</td>\n",
              "      <td>435155</td>\n",
              "      <td>435156</td>\n",
              "      <td>what does it mean if you see your husband taki...</td>\n",
              "      <td>what would be your very first reaction if you ...</td>\n",
              "      <td>0</td>\n",
              "      <td>mean see husband take woman hotel room</td>\n",
              "      <td>would first reaction open newspaper read headl...</td>\n",
              "      <td>38</td>\n",
              "      <td>84</td>\n",
              "      <td>7</td>\n",
              "      <td>7</td>\n",
              "      <td>2</td>\n",
              "    </tr>\n",
              "    <tr>\n",
              "      <th>2</th>\n",
              "      <td>206689</td>\n",
              "      <td>310189</td>\n",
              "      <td>310190</td>\n",
              "      <td>law school  which language is more beneficial ...</td>\n",
              "      <td>which language is beneficial for an engineer t...</td>\n",
              "      <td>0</td>\n",
              "      <td>law school language beneficial learn lawyer ge...</td>\n",
              "      <td>language beneficial engineer learn follow germ...</td>\n",
              "      <td>58</td>\n",
              "      <td>72</td>\n",
              "      <td>8</td>\n",
              "      <td>8</td>\n",
              "      <td>5</td>\n",
              "    </tr>\n",
              "    <tr>\n",
              "      <th>3</th>\n",
              "      <td>165212</td>\n",
              "      <td>256592</td>\n",
              "      <td>256593</td>\n",
              "      <td>should i update my old ipad 3 from 9 1 to ios ...</td>\n",
              "      <td>my ipad mini 3 just crashed  it runs ios 9  th...</td>\n",
              "      <td>0</td>\n",
              "      <td>update old ipad 3 9 1 io 9 3 4</td>\n",
              "      <td>ipad mini 3 crashed run ios 9 skype app open</td>\n",
              "      <td>30</td>\n",
              "      <td>44</td>\n",
              "      <td>10</td>\n",
              "      <td>10</td>\n",
              "      <td>3</td>\n",
              "    </tr>\n",
              "    <tr>\n",
              "      <th>4</th>\n",
              "      <td>304449</td>\n",
              "      <td>427708</td>\n",
              "      <td>427709</td>\n",
              "      <td>is the running business  running apps  wearabl...</td>\n",
              "      <td>when is the right time to stop running a tech ...</td>\n",
              "      <td>0</td>\n",
              "      <td>run business run apps wearable etc exploitable...</td>\n",
              "      <td>right time stop run tech business home take ne...</td>\n",
              "      <td>65</td>\n",
              "      <td>76</td>\n",
              "      <td>10</td>\n",
              "      <td>10</td>\n",
              "      <td>3</td>\n",
              "    </tr>\n",
              "  </tbody>\n",
              "</table>\n",
              "</div>\n",
              "      <button class=\"colab-df-convert\" onclick=\"convertToInteractive('df-2bb12921-9de9-4649-8aaf-9ef100c0a503')\"\n",
              "              title=\"Convert this dataframe to an interactive table.\"\n",
              "              style=\"display:none;\">\n",
              "        \n",
              "  <svg xmlns=\"http://www.w3.org/2000/svg\" height=\"24px\"viewBox=\"0 0 24 24\"\n",
              "       width=\"24px\">\n",
              "    <path d=\"M0 0h24v24H0V0z\" fill=\"none\"/>\n",
              "    <path d=\"M18.56 5.44l.94 2.06.94-2.06 2.06-.94-2.06-.94-.94-2.06-.94 2.06-2.06.94zm-11 1L8.5 8.5l.94-2.06 2.06-.94-2.06-.94L8.5 2.5l-.94 2.06-2.06.94zm10 10l.94 2.06.94-2.06 2.06-.94-2.06-.94-.94-2.06-.94 2.06-2.06.94z\"/><path d=\"M17.41 7.96l-1.37-1.37c-.4-.4-.92-.59-1.43-.59-.52 0-1.04.2-1.43.59L10.3 9.45l-7.72 7.72c-.78.78-.78 2.05 0 2.83L4 21.41c.39.39.9.59 1.41.59.51 0 1.02-.2 1.41-.59l7.78-7.78 2.81-2.81c.8-.78.8-2.07 0-2.86zM5.41 20L4 18.59l7.72-7.72 1.47 1.35L5.41 20z\"/>\n",
              "  </svg>\n",
              "      </button>\n",
              "      \n",
              "  <style>\n",
              "    .colab-df-container {\n",
              "      display:flex;\n",
              "      flex-wrap:wrap;\n",
              "      gap: 12px;\n",
              "    }\n",
              "\n",
              "    .colab-df-convert {\n",
              "      background-color: #E8F0FE;\n",
              "      border: none;\n",
              "      border-radius: 50%;\n",
              "      cursor: pointer;\n",
              "      display: none;\n",
              "      fill: #1967D2;\n",
              "      height: 32px;\n",
              "      padding: 0 0 0 0;\n",
              "      width: 32px;\n",
              "    }\n",
              "\n",
              "    .colab-df-convert:hover {\n",
              "      background-color: #E2EBFA;\n",
              "      box-shadow: 0px 1px 2px rgba(60, 64, 67, 0.3), 0px 1px 3px 1px rgba(60, 64, 67, 0.15);\n",
              "      fill: #174EA6;\n",
              "    }\n",
              "\n",
              "    [theme=dark] .colab-df-convert {\n",
              "      background-color: #3B4455;\n",
              "      fill: #D2E3FC;\n",
              "    }\n",
              "\n",
              "    [theme=dark] .colab-df-convert:hover {\n",
              "      background-color: #434B5C;\n",
              "      box-shadow: 0px 1px 3px 1px rgba(0, 0, 0, 0.15);\n",
              "      filter: drop-shadow(0px 1px 2px rgba(0, 0, 0, 0.3));\n",
              "      fill: #FFFFFF;\n",
              "    }\n",
              "  </style>\n",
              "\n",
              "      <script>\n",
              "        const buttonEl =\n",
              "          document.querySelector('#df-2bb12921-9de9-4649-8aaf-9ef100c0a503 button.colab-df-convert');\n",
              "        buttonEl.style.display =\n",
              "          google.colab.kernel.accessAllowed ? 'block' : 'none';\n",
              "\n",
              "        async function convertToInteractive(key) {\n",
              "          const element = document.querySelector('#df-2bb12921-9de9-4649-8aaf-9ef100c0a503');\n",
              "          const dataTable =\n",
              "            await google.colab.kernel.invokeFunction('convertToInteractive',\n",
              "                                                     [key], {});\n",
              "          if (!dataTable) return;\n",
              "\n",
              "          const docLinkHtml = 'Like what you see? Visit the ' +\n",
              "            '<a target=\"_blank\" href=https://colab.research.google.com/notebooks/data_table.ipynb>data table notebook</a>'\n",
              "            + ' to learn more about interactive tables.';\n",
              "          element.innerHTML = '';\n",
              "          dataTable['output_type'] = 'display_data';\n",
              "          await google.colab.output.renderOutput(dataTable, element);\n",
              "          const docLink = document.createElement('div');\n",
              "          docLink.innerHTML = docLinkHtml;\n",
              "          element.appendChild(docLink);\n",
              "        }\n",
              "      </script>\n",
              "    </div>\n",
              "  </div>\n",
              "  "
            ]
          },
          "metadata": {},
          "execution_count": 32
        }
      ]
    },
    {
      "cell_type": "code",
      "source": [
        "def total_words(row):\n",
        "    w1 = set(map(lambda word: word.lower().strip(), row['cleanQ1_lemma'].split(\" \")))\n",
        "    w2 = set(map(lambda word: word.lower().strip(), row['cleanQ2_lemma'].split(\" \")))\n",
        "    return (len(w1) + len(w2))\n"
      ],
      "metadata": {
        "id": "x1_hnuXv5gn_"
      },
      "execution_count": 33,
      "outputs": []
    },
    {
      "cell_type": "code",
      "source": [
        "df['word_total'] = df.apply(total_words, axis=1)\n",
        "df.head()\n"
      ],
      "metadata": {
        "colab": {
          "base_uri": "https://localhost:8080/",
          "height": 704
        },
        "id": "BInQoEYi5lzN",
        "outputId": "8719b754-a5f5-4617-b564-6d0f8a4ac729"
      },
      "execution_count": 34,
      "outputs": [
        {
          "output_type": "execute_result",
          "data": {
            "text/plain": [
              "       id    qid1    qid2                                          question1  \\\n",
              "0   87407  147217  147218      when function prototype is not necessary in c   \n",
              "1  310950  435155  435156  what does it mean if you see your husband taki...   \n",
              "2  206689  310189  310190  law school  which language is more beneficial ...   \n",
              "3  165212  256592  256593  should i update my old ipad 3 from 9 1 to ios ...   \n",
              "4  304449  427708  427709  is the running business  running apps  wearabl...   \n",
              "\n",
              "                                           question2  is_duplicate  \\\n",
              "0                 should i learn c before learning c             0   \n",
              "1  what would be your very first reaction if you ...             0   \n",
              "2  which language is beneficial for an engineer t...             0   \n",
              "3  my ipad mini 3 just crashed  it runs ios 9  th...             0   \n",
              "4  when is the right time to stop running a tech ...             0   \n",
              "\n",
              "                                       cleanQ1_lemma  \\\n",
              "0                     function prototype necessary c   \n",
              "1             mean see husband take woman hotel room   \n",
              "2  law school language beneficial learn lawyer ge...   \n",
              "3                     update old ipad 3 9 1 io 9 3 4   \n",
              "4  run business run apps wearable etc exploitable...   \n",
              "\n",
              "                                       cleanQ2_lemma  q1_len  q2_len  \\\n",
              "0                                    learn c learn c      30      15   \n",
              "1  would first reaction open newspaper read headl...      38      84   \n",
              "2  language beneficial engineer learn follow germ...      58      72   \n",
              "3       ipad mini 3 crashed run ios 9 skype app open      30      44   \n",
              "4  right time stop run tech business home take ne...      65      76   \n",
              "\n",
              "   q1_num_words  q2_num_words  word_common  word_total  \n",
              "0             4             4            1           6  \n",
              "1             7             7            2          20  \n",
              "2             8             8            5          17  \n",
              "3            10            10            3          18  \n",
              "4            10            10            3          23  "
            ],
            "text/html": [
              "\n",
              "  <div id=\"df-cd71e161-2e07-4ca7-bb24-6d3532a89e19\">\n",
              "    <div class=\"colab-df-container\">\n",
              "      <div>\n",
              "<style scoped>\n",
              "    .dataframe tbody tr th:only-of-type {\n",
              "        vertical-align: middle;\n",
              "    }\n",
              "\n",
              "    .dataframe tbody tr th {\n",
              "        vertical-align: top;\n",
              "    }\n",
              "\n",
              "    .dataframe thead th {\n",
              "        text-align: right;\n",
              "    }\n",
              "</style>\n",
              "<table border=\"1\" class=\"dataframe\">\n",
              "  <thead>\n",
              "    <tr style=\"text-align: right;\">\n",
              "      <th></th>\n",
              "      <th>id</th>\n",
              "      <th>qid1</th>\n",
              "      <th>qid2</th>\n",
              "      <th>question1</th>\n",
              "      <th>question2</th>\n",
              "      <th>is_duplicate</th>\n",
              "      <th>cleanQ1_lemma</th>\n",
              "      <th>cleanQ2_lemma</th>\n",
              "      <th>q1_len</th>\n",
              "      <th>q2_len</th>\n",
              "      <th>q1_num_words</th>\n",
              "      <th>q2_num_words</th>\n",
              "      <th>word_common</th>\n",
              "      <th>word_total</th>\n",
              "    </tr>\n",
              "  </thead>\n",
              "  <tbody>\n",
              "    <tr>\n",
              "      <th>0</th>\n",
              "      <td>87407</td>\n",
              "      <td>147217</td>\n",
              "      <td>147218</td>\n",
              "      <td>when function prototype is not necessary in c</td>\n",
              "      <td>should i learn c before learning c</td>\n",
              "      <td>0</td>\n",
              "      <td>function prototype necessary c</td>\n",
              "      <td>learn c learn c</td>\n",
              "      <td>30</td>\n",
              "      <td>15</td>\n",
              "      <td>4</td>\n",
              "      <td>4</td>\n",
              "      <td>1</td>\n",
              "      <td>6</td>\n",
              "    </tr>\n",
              "    <tr>\n",
              "      <th>1</th>\n",
              "      <td>310950</td>\n",
              "      <td>435155</td>\n",
              "      <td>435156</td>\n",
              "      <td>what does it mean if you see your husband taki...</td>\n",
              "      <td>what would be your very first reaction if you ...</td>\n",
              "      <td>0</td>\n",
              "      <td>mean see husband take woman hotel room</td>\n",
              "      <td>would first reaction open newspaper read headl...</td>\n",
              "      <td>38</td>\n",
              "      <td>84</td>\n",
              "      <td>7</td>\n",
              "      <td>7</td>\n",
              "      <td>2</td>\n",
              "      <td>20</td>\n",
              "    </tr>\n",
              "    <tr>\n",
              "      <th>2</th>\n",
              "      <td>206689</td>\n",
              "      <td>310189</td>\n",
              "      <td>310190</td>\n",
              "      <td>law school  which language is more beneficial ...</td>\n",
              "      <td>which language is beneficial for an engineer t...</td>\n",
              "      <td>0</td>\n",
              "      <td>law school language beneficial learn lawyer ge...</td>\n",
              "      <td>language beneficial engineer learn follow germ...</td>\n",
              "      <td>58</td>\n",
              "      <td>72</td>\n",
              "      <td>8</td>\n",
              "      <td>8</td>\n",
              "      <td>5</td>\n",
              "      <td>17</td>\n",
              "    </tr>\n",
              "    <tr>\n",
              "      <th>3</th>\n",
              "      <td>165212</td>\n",
              "      <td>256592</td>\n",
              "      <td>256593</td>\n",
              "      <td>should i update my old ipad 3 from 9 1 to ios ...</td>\n",
              "      <td>my ipad mini 3 just crashed  it runs ios 9  th...</td>\n",
              "      <td>0</td>\n",
              "      <td>update old ipad 3 9 1 io 9 3 4</td>\n",
              "      <td>ipad mini 3 crashed run ios 9 skype app open</td>\n",
              "      <td>30</td>\n",
              "      <td>44</td>\n",
              "      <td>10</td>\n",
              "      <td>10</td>\n",
              "      <td>3</td>\n",
              "      <td>18</td>\n",
              "    </tr>\n",
              "    <tr>\n",
              "      <th>4</th>\n",
              "      <td>304449</td>\n",
              "      <td>427708</td>\n",
              "      <td>427709</td>\n",
              "      <td>is the running business  running apps  wearabl...</td>\n",
              "      <td>when is the right time to stop running a tech ...</td>\n",
              "      <td>0</td>\n",
              "      <td>run business run apps wearable etc exploitable...</td>\n",
              "      <td>right time stop run tech business home take ne...</td>\n",
              "      <td>65</td>\n",
              "      <td>76</td>\n",
              "      <td>10</td>\n",
              "      <td>10</td>\n",
              "      <td>3</td>\n",
              "      <td>23</td>\n",
              "    </tr>\n",
              "  </tbody>\n",
              "</table>\n",
              "</div>\n",
              "      <button class=\"colab-df-convert\" onclick=\"convertToInteractive('df-cd71e161-2e07-4ca7-bb24-6d3532a89e19')\"\n",
              "              title=\"Convert this dataframe to an interactive table.\"\n",
              "              style=\"display:none;\">\n",
              "        \n",
              "  <svg xmlns=\"http://www.w3.org/2000/svg\" height=\"24px\"viewBox=\"0 0 24 24\"\n",
              "       width=\"24px\">\n",
              "    <path d=\"M0 0h24v24H0V0z\" fill=\"none\"/>\n",
              "    <path d=\"M18.56 5.44l.94 2.06.94-2.06 2.06-.94-2.06-.94-.94-2.06-.94 2.06-2.06.94zm-11 1L8.5 8.5l.94-2.06 2.06-.94-2.06-.94L8.5 2.5l-.94 2.06-2.06.94zm10 10l.94 2.06.94-2.06 2.06-.94-2.06-.94-.94-2.06-.94 2.06-2.06.94z\"/><path d=\"M17.41 7.96l-1.37-1.37c-.4-.4-.92-.59-1.43-.59-.52 0-1.04.2-1.43.59L10.3 9.45l-7.72 7.72c-.78.78-.78 2.05 0 2.83L4 21.41c.39.39.9.59 1.41.59.51 0 1.02-.2 1.41-.59l7.78-7.78 2.81-2.81c.8-.78.8-2.07 0-2.86zM5.41 20L4 18.59l7.72-7.72 1.47 1.35L5.41 20z\"/>\n",
              "  </svg>\n",
              "      </button>\n",
              "      \n",
              "  <style>\n",
              "    .colab-df-container {\n",
              "      display:flex;\n",
              "      flex-wrap:wrap;\n",
              "      gap: 12px;\n",
              "    }\n",
              "\n",
              "    .colab-df-convert {\n",
              "      background-color: #E8F0FE;\n",
              "      border: none;\n",
              "      border-radius: 50%;\n",
              "      cursor: pointer;\n",
              "      display: none;\n",
              "      fill: #1967D2;\n",
              "      height: 32px;\n",
              "      padding: 0 0 0 0;\n",
              "      width: 32px;\n",
              "    }\n",
              "\n",
              "    .colab-df-convert:hover {\n",
              "      background-color: #E2EBFA;\n",
              "      box-shadow: 0px 1px 2px rgba(60, 64, 67, 0.3), 0px 1px 3px 1px rgba(60, 64, 67, 0.15);\n",
              "      fill: #174EA6;\n",
              "    }\n",
              "\n",
              "    [theme=dark] .colab-df-convert {\n",
              "      background-color: #3B4455;\n",
              "      fill: #D2E3FC;\n",
              "    }\n",
              "\n",
              "    [theme=dark] .colab-df-convert:hover {\n",
              "      background-color: #434B5C;\n",
              "      box-shadow: 0px 1px 3px 1px rgba(0, 0, 0, 0.15);\n",
              "      filter: drop-shadow(0px 1px 2px rgba(0, 0, 0, 0.3));\n",
              "      fill: #FFFFFF;\n",
              "    }\n",
              "  </style>\n",
              "\n",
              "      <script>\n",
              "        const buttonEl =\n",
              "          document.querySelector('#df-cd71e161-2e07-4ca7-bb24-6d3532a89e19 button.colab-df-convert');\n",
              "        buttonEl.style.display =\n",
              "          google.colab.kernel.accessAllowed ? 'block' : 'none';\n",
              "\n",
              "        async function convertToInteractive(key) {\n",
              "          const element = document.querySelector('#df-cd71e161-2e07-4ca7-bb24-6d3532a89e19');\n",
              "          const dataTable =\n",
              "            await google.colab.kernel.invokeFunction('convertToInteractive',\n",
              "                                                     [key], {});\n",
              "          if (!dataTable) return;\n",
              "\n",
              "          const docLinkHtml = 'Like what you see? Visit the ' +\n",
              "            '<a target=\"_blank\" href=https://colab.research.google.com/notebooks/data_table.ipynb>data table notebook</a>'\n",
              "            + ' to learn more about interactive tables.';\n",
              "          element.innerHTML = '';\n",
              "          dataTable['output_type'] = 'display_data';\n",
              "          await google.colab.output.renderOutput(dataTable, element);\n",
              "          const docLink = document.createElement('div');\n",
              "          docLink.innerHTML = docLinkHtml;\n",
              "          element.appendChild(docLink);\n",
              "        }\n",
              "      </script>\n",
              "    </div>\n",
              "  </div>\n",
              "  "
            ]
          },
          "metadata": {},
          "execution_count": 34
        }
      ]
    },
    {
      "cell_type": "code",
      "source": [
        "df['word_share'] = round(df['word_common']/df['word_total'],2)\n",
        "df.head()\n"
      ],
      "metadata": {
        "colab": {
          "base_uri": "https://localhost:8080/",
          "height": 704
        },
        "id": "rFMD6_J15_X-",
        "outputId": "7d6555b2-8fdd-4208-bdb3-ff572c00055e"
      },
      "execution_count": 35,
      "outputs": [
        {
          "output_type": "execute_result",
          "data": {
            "text/plain": [
              "       id    qid1    qid2                                          question1  \\\n",
              "0   87407  147217  147218      when function prototype is not necessary in c   \n",
              "1  310950  435155  435156  what does it mean if you see your husband taki...   \n",
              "2  206689  310189  310190  law school  which language is more beneficial ...   \n",
              "3  165212  256592  256593  should i update my old ipad 3 from 9 1 to ios ...   \n",
              "4  304449  427708  427709  is the running business  running apps  wearabl...   \n",
              "\n",
              "                                           question2  is_duplicate  \\\n",
              "0                 should i learn c before learning c             0   \n",
              "1  what would be your very first reaction if you ...             0   \n",
              "2  which language is beneficial for an engineer t...             0   \n",
              "3  my ipad mini 3 just crashed  it runs ios 9  th...             0   \n",
              "4  when is the right time to stop running a tech ...             0   \n",
              "\n",
              "                                       cleanQ1_lemma  \\\n",
              "0                     function prototype necessary c   \n",
              "1             mean see husband take woman hotel room   \n",
              "2  law school language beneficial learn lawyer ge...   \n",
              "3                     update old ipad 3 9 1 io 9 3 4   \n",
              "4  run business run apps wearable etc exploitable...   \n",
              "\n",
              "                                       cleanQ2_lemma  q1_len  q2_len  \\\n",
              "0                                    learn c learn c      30      15   \n",
              "1  would first reaction open newspaper read headl...      38      84   \n",
              "2  language beneficial engineer learn follow germ...      58      72   \n",
              "3       ipad mini 3 crashed run ios 9 skype app open      30      44   \n",
              "4  right time stop run tech business home take ne...      65      76   \n",
              "\n",
              "   q1_num_words  q2_num_words  word_common  word_total  word_share  \n",
              "0             4             4            1           6        0.17  \n",
              "1             7             7            2          20        0.10  \n",
              "2             8             8            5          17        0.29  \n",
              "3            10            10            3          18        0.17  \n",
              "4            10            10            3          23        0.13  "
            ],
            "text/html": [
              "\n",
              "  <div id=\"df-6ead9449-4239-40b0-a28b-11861637f4b3\">\n",
              "    <div class=\"colab-df-container\">\n",
              "      <div>\n",
              "<style scoped>\n",
              "    .dataframe tbody tr th:only-of-type {\n",
              "        vertical-align: middle;\n",
              "    }\n",
              "\n",
              "    .dataframe tbody tr th {\n",
              "        vertical-align: top;\n",
              "    }\n",
              "\n",
              "    .dataframe thead th {\n",
              "        text-align: right;\n",
              "    }\n",
              "</style>\n",
              "<table border=\"1\" class=\"dataframe\">\n",
              "  <thead>\n",
              "    <tr style=\"text-align: right;\">\n",
              "      <th></th>\n",
              "      <th>id</th>\n",
              "      <th>qid1</th>\n",
              "      <th>qid2</th>\n",
              "      <th>question1</th>\n",
              "      <th>question2</th>\n",
              "      <th>is_duplicate</th>\n",
              "      <th>cleanQ1_lemma</th>\n",
              "      <th>cleanQ2_lemma</th>\n",
              "      <th>q1_len</th>\n",
              "      <th>q2_len</th>\n",
              "      <th>q1_num_words</th>\n",
              "      <th>q2_num_words</th>\n",
              "      <th>word_common</th>\n",
              "      <th>word_total</th>\n",
              "      <th>word_share</th>\n",
              "    </tr>\n",
              "  </thead>\n",
              "  <tbody>\n",
              "    <tr>\n",
              "      <th>0</th>\n",
              "      <td>87407</td>\n",
              "      <td>147217</td>\n",
              "      <td>147218</td>\n",
              "      <td>when function prototype is not necessary in c</td>\n",
              "      <td>should i learn c before learning c</td>\n",
              "      <td>0</td>\n",
              "      <td>function prototype necessary c</td>\n",
              "      <td>learn c learn c</td>\n",
              "      <td>30</td>\n",
              "      <td>15</td>\n",
              "      <td>4</td>\n",
              "      <td>4</td>\n",
              "      <td>1</td>\n",
              "      <td>6</td>\n",
              "      <td>0.17</td>\n",
              "    </tr>\n",
              "    <tr>\n",
              "      <th>1</th>\n",
              "      <td>310950</td>\n",
              "      <td>435155</td>\n",
              "      <td>435156</td>\n",
              "      <td>what does it mean if you see your husband taki...</td>\n",
              "      <td>what would be your very first reaction if you ...</td>\n",
              "      <td>0</td>\n",
              "      <td>mean see husband take woman hotel room</td>\n",
              "      <td>would first reaction open newspaper read headl...</td>\n",
              "      <td>38</td>\n",
              "      <td>84</td>\n",
              "      <td>7</td>\n",
              "      <td>7</td>\n",
              "      <td>2</td>\n",
              "      <td>20</td>\n",
              "      <td>0.10</td>\n",
              "    </tr>\n",
              "    <tr>\n",
              "      <th>2</th>\n",
              "      <td>206689</td>\n",
              "      <td>310189</td>\n",
              "      <td>310190</td>\n",
              "      <td>law school  which language is more beneficial ...</td>\n",
              "      <td>which language is beneficial for an engineer t...</td>\n",
              "      <td>0</td>\n",
              "      <td>law school language beneficial learn lawyer ge...</td>\n",
              "      <td>language beneficial engineer learn follow germ...</td>\n",
              "      <td>58</td>\n",
              "      <td>72</td>\n",
              "      <td>8</td>\n",
              "      <td>8</td>\n",
              "      <td>5</td>\n",
              "      <td>17</td>\n",
              "      <td>0.29</td>\n",
              "    </tr>\n",
              "    <tr>\n",
              "      <th>3</th>\n",
              "      <td>165212</td>\n",
              "      <td>256592</td>\n",
              "      <td>256593</td>\n",
              "      <td>should i update my old ipad 3 from 9 1 to ios ...</td>\n",
              "      <td>my ipad mini 3 just crashed  it runs ios 9  th...</td>\n",
              "      <td>0</td>\n",
              "      <td>update old ipad 3 9 1 io 9 3 4</td>\n",
              "      <td>ipad mini 3 crashed run ios 9 skype app open</td>\n",
              "      <td>30</td>\n",
              "      <td>44</td>\n",
              "      <td>10</td>\n",
              "      <td>10</td>\n",
              "      <td>3</td>\n",
              "      <td>18</td>\n",
              "      <td>0.17</td>\n",
              "    </tr>\n",
              "    <tr>\n",
              "      <th>4</th>\n",
              "      <td>304449</td>\n",
              "      <td>427708</td>\n",
              "      <td>427709</td>\n",
              "      <td>is the running business  running apps  wearabl...</td>\n",
              "      <td>when is the right time to stop running a tech ...</td>\n",
              "      <td>0</td>\n",
              "      <td>run business run apps wearable etc exploitable...</td>\n",
              "      <td>right time stop run tech business home take ne...</td>\n",
              "      <td>65</td>\n",
              "      <td>76</td>\n",
              "      <td>10</td>\n",
              "      <td>10</td>\n",
              "      <td>3</td>\n",
              "      <td>23</td>\n",
              "      <td>0.13</td>\n",
              "    </tr>\n",
              "  </tbody>\n",
              "</table>\n",
              "</div>\n",
              "      <button class=\"colab-df-convert\" onclick=\"convertToInteractive('df-6ead9449-4239-40b0-a28b-11861637f4b3')\"\n",
              "              title=\"Convert this dataframe to an interactive table.\"\n",
              "              style=\"display:none;\">\n",
              "        \n",
              "  <svg xmlns=\"http://www.w3.org/2000/svg\" height=\"24px\"viewBox=\"0 0 24 24\"\n",
              "       width=\"24px\">\n",
              "    <path d=\"M0 0h24v24H0V0z\" fill=\"none\"/>\n",
              "    <path d=\"M18.56 5.44l.94 2.06.94-2.06 2.06-.94-2.06-.94-.94-2.06-.94 2.06-2.06.94zm-11 1L8.5 8.5l.94-2.06 2.06-.94-2.06-.94L8.5 2.5l-.94 2.06-2.06.94zm10 10l.94 2.06.94-2.06 2.06-.94-2.06-.94-.94-2.06-.94 2.06-2.06.94z\"/><path d=\"M17.41 7.96l-1.37-1.37c-.4-.4-.92-.59-1.43-.59-.52 0-1.04.2-1.43.59L10.3 9.45l-7.72 7.72c-.78.78-.78 2.05 0 2.83L4 21.41c.39.39.9.59 1.41.59.51 0 1.02-.2 1.41-.59l7.78-7.78 2.81-2.81c.8-.78.8-2.07 0-2.86zM5.41 20L4 18.59l7.72-7.72 1.47 1.35L5.41 20z\"/>\n",
              "  </svg>\n",
              "      </button>\n",
              "      \n",
              "  <style>\n",
              "    .colab-df-container {\n",
              "      display:flex;\n",
              "      flex-wrap:wrap;\n",
              "      gap: 12px;\n",
              "    }\n",
              "\n",
              "    .colab-df-convert {\n",
              "      background-color: #E8F0FE;\n",
              "      border: none;\n",
              "      border-radius: 50%;\n",
              "      cursor: pointer;\n",
              "      display: none;\n",
              "      fill: #1967D2;\n",
              "      height: 32px;\n",
              "      padding: 0 0 0 0;\n",
              "      width: 32px;\n",
              "    }\n",
              "\n",
              "    .colab-df-convert:hover {\n",
              "      background-color: #E2EBFA;\n",
              "      box-shadow: 0px 1px 2px rgba(60, 64, 67, 0.3), 0px 1px 3px 1px rgba(60, 64, 67, 0.15);\n",
              "      fill: #174EA6;\n",
              "    }\n",
              "\n",
              "    [theme=dark] .colab-df-convert {\n",
              "      background-color: #3B4455;\n",
              "      fill: #D2E3FC;\n",
              "    }\n",
              "\n",
              "    [theme=dark] .colab-df-convert:hover {\n",
              "      background-color: #434B5C;\n",
              "      box-shadow: 0px 1px 3px 1px rgba(0, 0, 0, 0.15);\n",
              "      filter: drop-shadow(0px 1px 2px rgba(0, 0, 0, 0.3));\n",
              "      fill: #FFFFFF;\n",
              "    }\n",
              "  </style>\n",
              "\n",
              "      <script>\n",
              "        const buttonEl =\n",
              "          document.querySelector('#df-6ead9449-4239-40b0-a28b-11861637f4b3 button.colab-df-convert');\n",
              "        buttonEl.style.display =\n",
              "          google.colab.kernel.accessAllowed ? 'block' : 'none';\n",
              "\n",
              "        async function convertToInteractive(key) {\n",
              "          const element = document.querySelector('#df-6ead9449-4239-40b0-a28b-11861637f4b3');\n",
              "          const dataTable =\n",
              "            await google.colab.kernel.invokeFunction('convertToInteractive',\n",
              "                                                     [key], {});\n",
              "          if (!dataTable) return;\n",
              "\n",
              "          const docLinkHtml = 'Like what you see? Visit the ' +\n",
              "            '<a target=\"_blank\" href=https://colab.research.google.com/notebooks/data_table.ipynb>data table notebook</a>'\n",
              "            + ' to learn more about interactive tables.';\n",
              "          element.innerHTML = '';\n",
              "          dataTable['output_type'] = 'display_data';\n",
              "          await google.colab.output.renderOutput(dataTable, element);\n",
              "          const docLink = document.createElement('div');\n",
              "          docLink.innerHTML = docLinkHtml;\n",
              "          element.appendChild(docLink);\n",
              "        }\n",
              "      </script>\n",
              "    </div>\n",
              "  </div>\n",
              "  "
            ]
          },
          "metadata": {},
          "execution_count": 35
        }
      ]
    },
    {
      "cell_type": "markdown",
      "source": [
        "# Advanced Features"
      ],
      "metadata": {
        "id": "0rrsCeqNJdun"
      }
    },
    {
      "cell_type": "code",
      "source": [
        "# Advanced Features\n",
        "from nltk.corpus import stopwords\n",
        "\n",
        "def fetch_token_features(row):\n",
        "\n",
        "    q1 = row['question1']\n",
        "    q2 = row['question2']\n",
        "\n",
        "    SAFE_DIV = 0.0001\n",
        "\n",
        "    STOP_WORDS = stopwords.words(\"english\")\n",
        "\n",
        "    token_features = [0.0]*8\n",
        "\n",
        "    # Converting the Sentence into Tokens:\n",
        "    q1_tokens = q1.split()\n",
        "    q2_tokens = q2.split()\n",
        "\n",
        "    if len(q1_tokens) == 0 or len(q2_tokens) == 0:\n",
        "        return token_features\n",
        "\n",
        "    # Get the non-stopwords in Questions\n",
        "    q1_words = set([word for word in q1_tokens if word not in STOP_WORDS])\n",
        "    q2_words = set([word for word in q2_tokens if word not in STOP_WORDS])\n",
        "\n",
        "    #Get the stopwords in Questions\n",
        "    q1_stops = set([word for word in q1_tokens if word in STOP_WORDS])\n",
        "    q2_stops = set([word for word in q2_tokens if word in STOP_WORDS])\n",
        "\n",
        "    # Get the common non-stopwords from Question pair\n",
        "    common_word_count = len(q1_words.intersection(q2_words))\n",
        "\n",
        "    # Get the common stopwords from Question pair\n",
        "    common_stop_count = len(q1_stops.intersection(q2_stops))\n",
        "\n",
        "    # Get the common Tokens from Question pair\n",
        "    common_token_count = len(set(q1_tokens).intersection(set(q2_tokens)))\n",
        "\n",
        "\n",
        "    token_features[0] = common_word_count / (min(len(q1_words), len(q2_words)) + SAFE_DIV)\n",
        "    token_features[1] = common_word_count / (max(len(q1_words), len(q2_words)) + SAFE_DIV)\n",
        "    token_features[2] = common_stop_count / (min(len(q1_stops), len(q2_stops)) + SAFE_DIV)\n",
        "    token_features[3] = common_stop_count / (max(len(q1_stops), len(q2_stops)) + SAFE_DIV)\n",
        "    token_features[4] = common_token_count / (min(len(q1_tokens), len(q2_tokens)) + SAFE_DIV)\n",
        "    token_features[5] = common_token_count / (max(len(q1_tokens), len(q2_tokens)) + SAFE_DIV)\n",
        "\n",
        "    # Last word of both question is same or not\n",
        "    token_features[6] = int(q1_tokens[-1] == q2_tokens[-1])\n",
        "\n",
        "    # First word of both question is same or not\n",
        "    token_features[7] = int(q1_tokens[0] == q2_tokens[0])\n",
        "\n",
        "    return token_features\n"
      ],
      "metadata": {
        "id": "c4Oe0tq86I8d"
      },
      "execution_count": 36,
      "outputs": []
    },
    {
      "cell_type": "code",
      "source": [
        "token_features = df.apply(fetch_token_features, axis=1)\n",
        "\n",
        "df[\"cwc_min\"]       = list(map(lambda x: x[0], token_features))\n",
        "df[\"cwc_max\"]       = list(map(lambda x: x[1], token_features))\n",
        "df[\"csc_min\"]       = list(map(lambda x: x[2], token_features))\n",
        "df[\"csc_max\"]       = list(map(lambda x: x[3], token_features))\n",
        "df[\"ctc_min\"]       = list(map(lambda x: x[4], token_features))\n",
        "df[\"ctc_max\"]       = list(map(lambda x: x[5], token_features))\n",
        "df[\"last_word_eq\"]  = list(map(lambda x: x[6], token_features))\n",
        "df[\"first_word_eq\"] = list(map(lambda x: x[7], token_features))\n"
      ],
      "metadata": {
        "id": "TdTd4qzG6fhd"
      },
      "execution_count": 37,
      "outputs": []
    },
    {
      "cell_type": "code",
      "source": [
        "pip install distance"
      ],
      "metadata": {
        "colab": {
          "base_uri": "https://localhost:8080/"
        },
        "id": "xu0MDd7164_X",
        "outputId": "a14a2894-2b73-46cf-f1ea-f74c5e8b169f"
      },
      "execution_count": 38,
      "outputs": [
        {
          "output_type": "stream",
          "name": "stdout",
          "text": [
            "Looking in indexes: https://pypi.org/simple, https://us-python.pkg.dev/colab-wheels/public/simple/\n",
            "Collecting distance\n",
            "  Downloading Distance-0.1.3.tar.gz (180 kB)\n",
            "\u001b[2K     \u001b[90m━━━━━━━━━━━━━━━━━━━━━━━━━━━━━━━━━━━━━━━\u001b[0m \u001b[32m180.3/180.3 kB\u001b[0m \u001b[31m5.1 MB/s\u001b[0m eta \u001b[36m0:00:00\u001b[0m\n",
            "\u001b[?25h  Preparing metadata (setup.py) ... \u001b[?25l\u001b[?25hdone\n",
            "Building wheels for collected packages: distance\n",
            "  Building wheel for distance (setup.py) ... \u001b[?25l\u001b[?25hdone\n",
            "  Created wheel for distance: filename=Distance-0.1.3-py3-none-any.whl size=16258 sha256=e97bf8989e4c51408eba86b921f89023654fa01ed9be1d1d52d179923d61cb68\n",
            "  Stored in directory: /root/.cache/pip/wheels/e8/bb/de/f71bf63559ea9a921059a5405806f7ff6ed612a9231c4a9309\n",
            "Successfully built distance\n",
            "Installing collected packages: distance\n",
            "Successfully installed distance-0.1.3\n"
          ]
        }
      ]
    },
    {
      "cell_type": "code",
      "source": [
        "import distance\n",
        "\n",
        "def fetch_length_features(row):\n",
        "\n",
        "    q1 = row['cleanQ1_lemma']\n",
        "    q2 = row['cleanQ2_lemma']\n",
        "\n",
        "    length_features = [0.0]*3\n",
        "\n",
        "    # Converting the Sentence into Tokens:\n",
        "    q1_tokens = q1.split()\n",
        "    q2_tokens = q2.split()\n",
        "\n",
        "    if len(q1_tokens) == 0 or len(q2_tokens) == 0:\n",
        "        return length_features\n",
        "\n",
        "    # Absolute length features\n",
        "    length_features[0] = abs(len(q1_tokens) - len(q2_tokens))\n",
        "\n",
        "    #Average Token Length of both Questions\n",
        "    length_features[1] = (len(q1_tokens) + len(q2_tokens))/2\n",
        "\n",
        "    strs = list(distance.lcsubstrings(q1, q2))\n",
        "    length_features[2] = len(strs[0]) / (min(len(q1), len(q2)) + 1)\n",
        "\n",
        "    return length_features\n"
      ],
      "metadata": {
        "id": "-vvgk9mY6p6E"
      },
      "execution_count": 39,
      "outputs": []
    },
    {
      "cell_type": "code",
      "source": [
        "length_features = df.apply(fetch_length_features, axis=1)\n",
        "\n",
        "df['abs_len_diff'] = list(map(lambda x: x[0], length_features))\n",
        "df['mean_len'] = list(map(lambda x: x[1], length_features))\n",
        "df['longest_substr_ratio'] = list(map(lambda x: x[2], length_features))\n"
      ],
      "metadata": {
        "id": "Q05XZaCW7bWt"
      },
      "execution_count": 40,
      "outputs": []
    },
    {
      "cell_type": "code",
      "source": [
        "pip install fuzzywuzzy"
      ],
      "metadata": {
        "colab": {
          "base_uri": "https://localhost:8080/"
        },
        "id": "nc4qv6vF7ghQ",
        "outputId": "6ec6038a-c966-48c7-81ca-9e1a27282964"
      },
      "execution_count": 41,
      "outputs": [
        {
          "output_type": "stream",
          "name": "stdout",
          "text": [
            "Looking in indexes: https://pypi.org/simple, https://us-python.pkg.dev/colab-wheels/public/simple/\n",
            "Collecting fuzzywuzzy\n",
            "  Downloading fuzzywuzzy-0.18.0-py2.py3-none-any.whl (18 kB)\n",
            "Installing collected packages: fuzzywuzzy\n",
            "Successfully installed fuzzywuzzy-0.18.0\n"
          ]
        }
      ]
    },
    {
      "cell_type": "code",
      "source": [
        "# Fuzzy Features\n",
        "from fuzzywuzzy import fuzz\n",
        "\n",
        "def fetch_fuzzy_features(row):\n",
        "\n",
        "    q1 = row['question1']\n",
        "    q2 = row['question2']\n",
        "\n",
        "    fuzzy_features = [0.0]*4\n",
        "\n",
        "    # fuzz_ratio\n",
        "    fuzzy_features[0] = fuzz.QRatio(q1, q2)\n",
        "\n",
        "    # fuzz_partial_ratio\n",
        "    fuzzy_features[1] = fuzz.partial_ratio(q1, q2)\n",
        "\n",
        "    # token_sort_ratio\n",
        "    fuzzy_features[2] = fuzz.token_sort_ratio(q1, q2)\n",
        "\n",
        "    # token_set_ratio\n",
        "    fuzzy_features[3] = fuzz.token_set_ratio(q1, q2)\n",
        "\n",
        "    return fuzzy_features\n"
      ],
      "metadata": {
        "id": "HmKi4ca97pi4"
      },
      "execution_count": 42,
      "outputs": []
    },
    {
      "cell_type": "code",
      "source": [
        "fuzzy_features = df.progress_apply(fetch_fuzzy_features, axis=1)\n",
        "\n",
        "# Creating new feature columns for fuzzy features\n",
        "df['fuzz_ratio'] = list(map(lambda x: x[0], fuzzy_features))\n",
        "df['fuzz_partial_ratio'] = list(map(lambda x: x[1], fuzzy_features))\n",
        "df['token_sort_ratio'] = list(map(lambda x: x[2], fuzzy_features))\n",
        "df['token_set_ratio'] = list(map(lambda x: x[3], fuzzy_features))\n"
      ],
      "metadata": {
        "id": "HYQUFAfL7v-v",
        "colab": {
          "base_uri": "https://localhost:8080/"
        },
        "outputId": "c40e3ed8-b0a3-4cfe-d616-929b92df26f9"
      },
      "execution_count": 43,
      "outputs": [
        {
          "output_type": "stream",
          "name": "stderr",
          "text": [
            "100%|██████████| 21974/21974 [01:31<00:00, 240.75it/s]\n"
          ]
        }
      ]
    },
    {
      "cell_type": "code",
      "source": [
        "print(df.shape)\n",
        "df.head()\n"
      ],
      "metadata": {
        "colab": {
          "base_uri": "https://localhost:8080/",
          "height": 751
        },
        "id": "_vslvrZL8KPU",
        "outputId": "94f1fa61-1fb7-4d8f-be51-8d3b479d0f7f"
      },
      "execution_count": 44,
      "outputs": [
        {
          "output_type": "stream",
          "name": "stdout",
          "text": [
            "(21974, 30)\n"
          ]
        },
        {
          "output_type": "execute_result",
          "data": {
            "text/plain": [
              "       id    qid1    qid2                                          question1  \\\n",
              "0   87407  147217  147218      when function prototype is not necessary in c   \n",
              "1  310950  435155  435156  what does it mean if you see your husband taki...   \n",
              "2  206689  310189  310190  law school  which language is more beneficial ...   \n",
              "3  165212  256592  256593  should i update my old ipad 3 from 9 1 to ios ...   \n",
              "4  304449  427708  427709  is the running business  running apps  wearabl...   \n",
              "\n",
              "                                           question2  is_duplicate  \\\n",
              "0                 should i learn c before learning c             0   \n",
              "1  what would be your very first reaction if you ...             0   \n",
              "2  which language is beneficial for an engineer t...             0   \n",
              "3  my ipad mini 3 just crashed  it runs ios 9  th...             0   \n",
              "4  when is the right time to stop running a tech ...             0   \n",
              "\n",
              "                                       cleanQ1_lemma  \\\n",
              "0                     function prototype necessary c   \n",
              "1             mean see husband take woman hotel room   \n",
              "2  law school language beneficial learn lawyer ge...   \n",
              "3                     update old ipad 3 9 1 io 9 3 4   \n",
              "4  run business run apps wearable etc exploitable...   \n",
              "\n",
              "                                       cleanQ2_lemma  q1_len  q2_len  ...  \\\n",
              "0                                    learn c learn c      30      15  ...   \n",
              "1  would first reaction open newspaper read headl...      38      84  ...   \n",
              "2  language beneficial engineer learn follow germ...      58      72  ...   \n",
              "3       ipad mini 3 crashed run ios 9 skype app open      30      44  ...   \n",
              "4  right time stop run tech business home take ne...      65      76  ...   \n",
              "\n",
              "    ctc_max  last_word_eq  first_word_eq  abs_len_diff  mean_len  \\\n",
              "0  0.124998           1.0            0.0           0.0       4.0   \n",
              "1  0.291665           1.0            1.0           6.0      10.0   \n",
              "2  0.555552           1.0            0.0           1.0       8.5   \n",
              "3  0.368419           0.0            0.0           0.0      10.0   \n",
              "4  0.199999           0.0            0.0           4.0      12.0   \n",
              "\n",
              "   longest_substr_ratio  fuzz_ratio  fuzz_partial_ratio  token_sort_ratio  \\\n",
              "0              0.125000          28                  33                28   \n",
              "1              0.282051          52                  44                50   \n",
              "2              0.338983          61                  60                68   \n",
              "3              0.161290          16                  35                53   \n",
              "4              0.151515          42                  46                45   \n",
              "\n",
              "   token_set_ratio  \n",
              "0               29  \n",
              "1               57  \n",
              "2               83  \n",
              "3               68  \n",
              "4               51  \n",
              "\n",
              "[5 rows x 30 columns]"
            ],
            "text/html": [
              "\n",
              "  <div id=\"df-e05d1f75-d0cd-4e1c-aa42-c1a6bb26ca1c\">\n",
              "    <div class=\"colab-df-container\">\n",
              "      <div>\n",
              "<style scoped>\n",
              "    .dataframe tbody tr th:only-of-type {\n",
              "        vertical-align: middle;\n",
              "    }\n",
              "\n",
              "    .dataframe tbody tr th {\n",
              "        vertical-align: top;\n",
              "    }\n",
              "\n",
              "    .dataframe thead th {\n",
              "        text-align: right;\n",
              "    }\n",
              "</style>\n",
              "<table border=\"1\" class=\"dataframe\">\n",
              "  <thead>\n",
              "    <tr style=\"text-align: right;\">\n",
              "      <th></th>\n",
              "      <th>id</th>\n",
              "      <th>qid1</th>\n",
              "      <th>qid2</th>\n",
              "      <th>question1</th>\n",
              "      <th>question2</th>\n",
              "      <th>is_duplicate</th>\n",
              "      <th>cleanQ1_lemma</th>\n",
              "      <th>cleanQ2_lemma</th>\n",
              "      <th>q1_len</th>\n",
              "      <th>q2_len</th>\n",
              "      <th>...</th>\n",
              "      <th>ctc_max</th>\n",
              "      <th>last_word_eq</th>\n",
              "      <th>first_word_eq</th>\n",
              "      <th>abs_len_diff</th>\n",
              "      <th>mean_len</th>\n",
              "      <th>longest_substr_ratio</th>\n",
              "      <th>fuzz_ratio</th>\n",
              "      <th>fuzz_partial_ratio</th>\n",
              "      <th>token_sort_ratio</th>\n",
              "      <th>token_set_ratio</th>\n",
              "    </tr>\n",
              "  </thead>\n",
              "  <tbody>\n",
              "    <tr>\n",
              "      <th>0</th>\n",
              "      <td>87407</td>\n",
              "      <td>147217</td>\n",
              "      <td>147218</td>\n",
              "      <td>when function prototype is not necessary in c</td>\n",
              "      <td>should i learn c before learning c</td>\n",
              "      <td>0</td>\n",
              "      <td>function prototype necessary c</td>\n",
              "      <td>learn c learn c</td>\n",
              "      <td>30</td>\n",
              "      <td>15</td>\n",
              "      <td>...</td>\n",
              "      <td>0.124998</td>\n",
              "      <td>1.0</td>\n",
              "      <td>0.0</td>\n",
              "      <td>0.0</td>\n",
              "      <td>4.0</td>\n",
              "      <td>0.125000</td>\n",
              "      <td>28</td>\n",
              "      <td>33</td>\n",
              "      <td>28</td>\n",
              "      <td>29</td>\n",
              "    </tr>\n",
              "    <tr>\n",
              "      <th>1</th>\n",
              "      <td>310950</td>\n",
              "      <td>435155</td>\n",
              "      <td>435156</td>\n",
              "      <td>what does it mean if you see your husband taki...</td>\n",
              "      <td>what would be your very first reaction if you ...</td>\n",
              "      <td>0</td>\n",
              "      <td>mean see husband take woman hotel room</td>\n",
              "      <td>would first reaction open newspaper read headl...</td>\n",
              "      <td>38</td>\n",
              "      <td>84</td>\n",
              "      <td>...</td>\n",
              "      <td>0.291665</td>\n",
              "      <td>1.0</td>\n",
              "      <td>1.0</td>\n",
              "      <td>6.0</td>\n",
              "      <td>10.0</td>\n",
              "      <td>0.282051</td>\n",
              "      <td>52</td>\n",
              "      <td>44</td>\n",
              "      <td>50</td>\n",
              "      <td>57</td>\n",
              "    </tr>\n",
              "    <tr>\n",
              "      <th>2</th>\n",
              "      <td>206689</td>\n",
              "      <td>310189</td>\n",
              "      <td>310190</td>\n",
              "      <td>law school  which language is more beneficial ...</td>\n",
              "      <td>which language is beneficial for an engineer t...</td>\n",
              "      <td>0</td>\n",
              "      <td>law school language beneficial learn lawyer ge...</td>\n",
              "      <td>language beneficial engineer learn follow germ...</td>\n",
              "      <td>58</td>\n",
              "      <td>72</td>\n",
              "      <td>...</td>\n",
              "      <td>0.555552</td>\n",
              "      <td>1.0</td>\n",
              "      <td>0.0</td>\n",
              "      <td>1.0</td>\n",
              "      <td>8.5</td>\n",
              "      <td>0.338983</td>\n",
              "      <td>61</td>\n",
              "      <td>60</td>\n",
              "      <td>68</td>\n",
              "      <td>83</td>\n",
              "    </tr>\n",
              "    <tr>\n",
              "      <th>3</th>\n",
              "      <td>165212</td>\n",
              "      <td>256592</td>\n",
              "      <td>256593</td>\n",
              "      <td>should i update my old ipad 3 from 9 1 to ios ...</td>\n",
              "      <td>my ipad mini 3 just crashed  it runs ios 9  th...</td>\n",
              "      <td>0</td>\n",
              "      <td>update old ipad 3 9 1 io 9 3 4</td>\n",
              "      <td>ipad mini 3 crashed run ios 9 skype app open</td>\n",
              "      <td>30</td>\n",
              "      <td>44</td>\n",
              "      <td>...</td>\n",
              "      <td>0.368419</td>\n",
              "      <td>0.0</td>\n",
              "      <td>0.0</td>\n",
              "      <td>0.0</td>\n",
              "      <td>10.0</td>\n",
              "      <td>0.161290</td>\n",
              "      <td>16</td>\n",
              "      <td>35</td>\n",
              "      <td>53</td>\n",
              "      <td>68</td>\n",
              "    </tr>\n",
              "    <tr>\n",
              "      <th>4</th>\n",
              "      <td>304449</td>\n",
              "      <td>427708</td>\n",
              "      <td>427709</td>\n",
              "      <td>is the running business  running apps  wearabl...</td>\n",
              "      <td>when is the right time to stop running a tech ...</td>\n",
              "      <td>0</td>\n",
              "      <td>run business run apps wearable etc exploitable...</td>\n",
              "      <td>right time stop run tech business home take ne...</td>\n",
              "      <td>65</td>\n",
              "      <td>76</td>\n",
              "      <td>...</td>\n",
              "      <td>0.199999</td>\n",
              "      <td>0.0</td>\n",
              "      <td>0.0</td>\n",
              "      <td>4.0</td>\n",
              "      <td>12.0</td>\n",
              "      <td>0.151515</td>\n",
              "      <td>42</td>\n",
              "      <td>46</td>\n",
              "      <td>45</td>\n",
              "      <td>51</td>\n",
              "    </tr>\n",
              "  </tbody>\n",
              "</table>\n",
              "<p>5 rows × 30 columns</p>\n",
              "</div>\n",
              "      <button class=\"colab-df-convert\" onclick=\"convertToInteractive('df-e05d1f75-d0cd-4e1c-aa42-c1a6bb26ca1c')\"\n",
              "              title=\"Convert this dataframe to an interactive table.\"\n",
              "              style=\"display:none;\">\n",
              "        \n",
              "  <svg xmlns=\"http://www.w3.org/2000/svg\" height=\"24px\"viewBox=\"0 0 24 24\"\n",
              "       width=\"24px\">\n",
              "    <path d=\"M0 0h24v24H0V0z\" fill=\"none\"/>\n",
              "    <path d=\"M18.56 5.44l.94 2.06.94-2.06 2.06-.94-2.06-.94-.94-2.06-.94 2.06-2.06.94zm-11 1L8.5 8.5l.94-2.06 2.06-.94-2.06-.94L8.5 2.5l-.94 2.06-2.06.94zm10 10l.94 2.06.94-2.06 2.06-.94-2.06-.94-.94-2.06-.94 2.06-2.06.94z\"/><path d=\"M17.41 7.96l-1.37-1.37c-.4-.4-.92-.59-1.43-.59-.52 0-1.04.2-1.43.59L10.3 9.45l-7.72 7.72c-.78.78-.78 2.05 0 2.83L4 21.41c.39.39.9.59 1.41.59.51 0 1.02-.2 1.41-.59l7.78-7.78 2.81-2.81c.8-.78.8-2.07 0-2.86zM5.41 20L4 18.59l7.72-7.72 1.47 1.35L5.41 20z\"/>\n",
              "  </svg>\n",
              "      </button>\n",
              "      \n",
              "  <style>\n",
              "    .colab-df-container {\n",
              "      display:flex;\n",
              "      flex-wrap:wrap;\n",
              "      gap: 12px;\n",
              "    }\n",
              "\n",
              "    .colab-df-convert {\n",
              "      background-color: #E8F0FE;\n",
              "      border: none;\n",
              "      border-radius: 50%;\n",
              "      cursor: pointer;\n",
              "      display: none;\n",
              "      fill: #1967D2;\n",
              "      height: 32px;\n",
              "      padding: 0 0 0 0;\n",
              "      width: 32px;\n",
              "    }\n",
              "\n",
              "    .colab-df-convert:hover {\n",
              "      background-color: #E2EBFA;\n",
              "      box-shadow: 0px 1px 2px rgba(60, 64, 67, 0.3), 0px 1px 3px 1px rgba(60, 64, 67, 0.15);\n",
              "      fill: #174EA6;\n",
              "    }\n",
              "\n",
              "    [theme=dark] .colab-df-convert {\n",
              "      background-color: #3B4455;\n",
              "      fill: #D2E3FC;\n",
              "    }\n",
              "\n",
              "    [theme=dark] .colab-df-convert:hover {\n",
              "      background-color: #434B5C;\n",
              "      box-shadow: 0px 1px 3px 1px rgba(0, 0, 0, 0.15);\n",
              "      filter: drop-shadow(0px 1px 2px rgba(0, 0, 0, 0.3));\n",
              "      fill: #FFFFFF;\n",
              "    }\n",
              "  </style>\n",
              "\n",
              "      <script>\n",
              "        const buttonEl =\n",
              "          document.querySelector('#df-e05d1f75-d0cd-4e1c-aa42-c1a6bb26ca1c button.colab-df-convert');\n",
              "        buttonEl.style.display =\n",
              "          google.colab.kernel.accessAllowed ? 'block' : 'none';\n",
              "\n",
              "        async function convertToInteractive(key) {\n",
              "          const element = document.querySelector('#df-e05d1f75-d0cd-4e1c-aa42-c1a6bb26ca1c');\n",
              "          const dataTable =\n",
              "            await google.colab.kernel.invokeFunction('convertToInteractive',\n",
              "                                                     [key], {});\n",
              "          if (!dataTable) return;\n",
              "\n",
              "          const docLinkHtml = 'Like what you see? Visit the ' +\n",
              "            '<a target=\"_blank\" href=https://colab.research.google.com/notebooks/data_table.ipynb>data table notebook</a>'\n",
              "            + ' to learn more about interactive tables.';\n",
              "          element.innerHTML = '';\n",
              "          dataTable['output_type'] = 'display_data';\n",
              "          await google.colab.output.renderOutput(dataTable, element);\n",
              "          const docLink = document.createElement('div');\n",
              "          docLink.innerHTML = docLinkHtml;\n",
              "          element.appendChild(docLink);\n",
              "        }\n",
              "      </script>\n",
              "    </div>\n",
              "  </div>\n",
              "  "
            ]
          },
          "metadata": {},
          "execution_count": 44
        }
      ]
    },
    {
      "cell_type": "code",
      "source": [
        "from sklearn.preprocessing import MinMaxScaler\n",
        "\n",
        "X = MinMaxScaler().fit_transform(df[['cwc_min', 'cwc_max', 'csc_min', 'csc_max' , 'ctc_min' , 'ctc_max' , 'last_word_eq', 'first_word_eq' , 'abs_len_diff' , 'mean_len' , 'token_set_ratio' , 'token_sort_ratio' ,  'fuzz_ratio' , 'fuzz_partial_ratio' , 'longest_substr_ratio']])\n",
        "y = df['is_duplicate'].values\n"
      ],
      "metadata": {
        "id": "GzsRQUvH81xd"
      },
      "execution_count": 45,
      "outputs": []
    },
    {
      "cell_type": "code",
      "source": [
        "# merge texts\n",
        "corpus = list(df['cleanQ1_lemma']) + list(df['cleanQ2_lemma'])"
      ],
      "metadata": {
        "id": "r9j_mRoc-J-e"
      },
      "execution_count": 46,
      "outputs": []
    },
    {
      "cell_type": "code",
      "source": [
        "display(type(corpus))\n",
        "display(len(corpus))"
      ],
      "metadata": {
        "colab": {
          "base_uri": "https://localhost:8080/",
          "height": 52
        },
        "id": "-Wq-STxK-gAo",
        "outputId": "d6ad8b4c-87ab-4560-9d2d-ba013ca384b8"
      },
      "execution_count": 47,
      "outputs": [
        {
          "output_type": "display_data",
          "data": {
            "text/plain": [
              "list"
            ]
          },
          "metadata": {}
        },
        {
          "output_type": "display_data",
          "data": {
            "text/plain": [
              "43948"
            ]
          },
          "metadata": {}
        }
      ]
    },
    {
      "cell_type": "markdown",
      "source": [
        "# first we can go with Bag of words"
      ],
      "metadata": {
        "id": "XnuLrFTHkcgK"
      }
    },
    {
      "cell_type": "code",
      "source": [
        "from sklearn.feature_extraction.text import CountVectorizer\n",
        "\n",
        "cv = CountVectorizer(max_features=3000)\n",
        "q1_arr, q2_arr = np.vsplit(cv.fit_transform(corpus).toarray(),2)\n"
      ],
      "metadata": {
        "id": "3Y9aQMP89jEH"
      },
      "execution_count": null,
      "outputs": []
    },
    {
      "cell_type": "code",
      "source": [
        "temp_df1 = pd.DataFrame(q1_arr, index= df.index)\n",
        "temp_df2 = pd.DataFrame(q2_arr, index= df.index)\n",
        "temp_df = pd.concat([temp_df1, temp_df2], axis=1)\n",
        "temp_df.shape\n"
      ],
      "metadata": {
        "colab": {
          "base_uri": "https://localhost:8080/"
        },
        "id": "iy2pv3QqAECH",
        "outputId": "1e2c83bd-b72b-4334-fbd1-58c25da120f2"
      },
      "execution_count": null,
      "outputs": [
        {
          "output_type": "execute_result",
          "data": {
            "text/plain": [
              "(21974, 6000)"
            ]
          },
          "metadata": {},
          "execution_count": 124
        }
      ]
    },
    {
      "cell_type": "code",
      "source": [
        "df = pd.concat([df, temp_df], axis=1)\n",
        "print(df.shape)\n",
        "df.head()\n"
      ],
      "metadata": {
        "colab": {
          "base_uri": "https://localhost:8080/",
          "height": 751
        },
        "id": "o26fzm6AAPzt",
        "outputId": "970608e2-58b7-470e-e7f9-764e5bf0785f"
      },
      "execution_count": null,
      "outputs": [
        {
          "output_type": "stream",
          "name": "stdout",
          "text": [
            "(21974, 6030)\n"
          ]
        },
        {
          "output_type": "execute_result",
          "data": {
            "text/plain": [
              "       id    qid1    qid2                                          question1  \\\n",
              "0   87407  147217  147218      when function prototype is not necessary in c   \n",
              "1  310950  435155  435156  what does it mean if you see your husband taki...   \n",
              "2  206689  310189  310190  law school  which language is more beneficial ...   \n",
              "3  165212  256592  256593  should i update my old ipad 3 from 9 1 to ios ...   \n",
              "4  304449  427708  427709  is the running business  running apps  wearabl...   \n",
              "\n",
              "                                           question2  is_duplicate  \\\n",
              "0                 should i learn c before learning c             0   \n",
              "1  what would be your very first reaction if you ...             0   \n",
              "2  which language is beneficial for an engineer t...             0   \n",
              "3  my ipad mini 3 just crashed  it runs ios 9  th...             0   \n",
              "4  when is the right time to stop running a tech ...             0   \n",
              "\n",
              "                                       cleanQ2_lemma  \\\n",
              "0                                    learn c learn c   \n",
              "1  would first reaction open newspaper read headl...   \n",
              "2  language beneficial engineer learn follow germ...   \n",
              "3       ipad mini 3 crashed run ios 9 skype app open   \n",
              "4  right time stop run tech business home take ne...   \n",
              "\n",
              "                                       cleanQ1_lemma  q1_len  q2_len  ...  \\\n",
              "0                     function prototype necessary c      30      15  ...   \n",
              "1             mean see husband take woman hotel room      38      84  ...   \n",
              "2  law school language beneficial learn lawyer ge...      58      72  ...   \n",
              "3                     update old ipad 3 9 1 io 9 3 4      30      44  ...   \n",
              "4  run business run apps wearable etc exploitable...      65      76  ...   \n",
              "\n",
              "   2990  2991  2992  2993  2994  2995  2996  2997  2998  2999  \n",
              "0     0     0     0     0     0     0     0     0     0     0  \n",
              "1     0     0     0     0     0     0     0     0     0     0  \n",
              "2     0     0     0     0     0     0     0     0     0     0  \n",
              "3     0     0     0     0     0     0     0     0     0     0  \n",
              "4     0     0     0     0     0     0     0     0     0     0  \n",
              "\n",
              "[5 rows x 6030 columns]"
            ],
            "text/html": [
              "\n",
              "  <div id=\"df-29acb7b1-be87-48df-a509-2e08103401b1\">\n",
              "    <div class=\"colab-df-container\">\n",
              "      <div>\n",
              "<style scoped>\n",
              "    .dataframe tbody tr th:only-of-type {\n",
              "        vertical-align: middle;\n",
              "    }\n",
              "\n",
              "    .dataframe tbody tr th {\n",
              "        vertical-align: top;\n",
              "    }\n",
              "\n",
              "    .dataframe thead th {\n",
              "        text-align: right;\n",
              "    }\n",
              "</style>\n",
              "<table border=\"1\" class=\"dataframe\">\n",
              "  <thead>\n",
              "    <tr style=\"text-align: right;\">\n",
              "      <th></th>\n",
              "      <th>id</th>\n",
              "      <th>qid1</th>\n",
              "      <th>qid2</th>\n",
              "      <th>question1</th>\n",
              "      <th>question2</th>\n",
              "      <th>is_duplicate</th>\n",
              "      <th>cleanQ2_lemma</th>\n",
              "      <th>cleanQ1_lemma</th>\n",
              "      <th>q1_len</th>\n",
              "      <th>q2_len</th>\n",
              "      <th>...</th>\n",
              "      <th>2990</th>\n",
              "      <th>2991</th>\n",
              "      <th>2992</th>\n",
              "      <th>2993</th>\n",
              "      <th>2994</th>\n",
              "      <th>2995</th>\n",
              "      <th>2996</th>\n",
              "      <th>2997</th>\n",
              "      <th>2998</th>\n",
              "      <th>2999</th>\n",
              "    </tr>\n",
              "  </thead>\n",
              "  <tbody>\n",
              "    <tr>\n",
              "      <th>0</th>\n",
              "      <td>87407</td>\n",
              "      <td>147217</td>\n",
              "      <td>147218</td>\n",
              "      <td>when function prototype is not necessary in c</td>\n",
              "      <td>should i learn c before learning c</td>\n",
              "      <td>0</td>\n",
              "      <td>learn c learn c</td>\n",
              "      <td>function prototype necessary c</td>\n",
              "      <td>30</td>\n",
              "      <td>15</td>\n",
              "      <td>...</td>\n",
              "      <td>0</td>\n",
              "      <td>0</td>\n",
              "      <td>0</td>\n",
              "      <td>0</td>\n",
              "      <td>0</td>\n",
              "      <td>0</td>\n",
              "      <td>0</td>\n",
              "      <td>0</td>\n",
              "      <td>0</td>\n",
              "      <td>0</td>\n",
              "    </tr>\n",
              "    <tr>\n",
              "      <th>1</th>\n",
              "      <td>310950</td>\n",
              "      <td>435155</td>\n",
              "      <td>435156</td>\n",
              "      <td>what does it mean if you see your husband taki...</td>\n",
              "      <td>what would be your very first reaction if you ...</td>\n",
              "      <td>0</td>\n",
              "      <td>would first reaction open newspaper read headl...</td>\n",
              "      <td>mean see husband take woman hotel room</td>\n",
              "      <td>38</td>\n",
              "      <td>84</td>\n",
              "      <td>...</td>\n",
              "      <td>0</td>\n",
              "      <td>0</td>\n",
              "      <td>0</td>\n",
              "      <td>0</td>\n",
              "      <td>0</td>\n",
              "      <td>0</td>\n",
              "      <td>0</td>\n",
              "      <td>0</td>\n",
              "      <td>0</td>\n",
              "      <td>0</td>\n",
              "    </tr>\n",
              "    <tr>\n",
              "      <th>2</th>\n",
              "      <td>206689</td>\n",
              "      <td>310189</td>\n",
              "      <td>310190</td>\n",
              "      <td>law school  which language is more beneficial ...</td>\n",
              "      <td>which language is beneficial for an engineer t...</td>\n",
              "      <td>0</td>\n",
              "      <td>language beneficial engineer learn follow germ...</td>\n",
              "      <td>law school language beneficial learn lawyer ge...</td>\n",
              "      <td>58</td>\n",
              "      <td>72</td>\n",
              "      <td>...</td>\n",
              "      <td>0</td>\n",
              "      <td>0</td>\n",
              "      <td>0</td>\n",
              "      <td>0</td>\n",
              "      <td>0</td>\n",
              "      <td>0</td>\n",
              "      <td>0</td>\n",
              "      <td>0</td>\n",
              "      <td>0</td>\n",
              "      <td>0</td>\n",
              "    </tr>\n",
              "    <tr>\n",
              "      <th>3</th>\n",
              "      <td>165212</td>\n",
              "      <td>256592</td>\n",
              "      <td>256593</td>\n",
              "      <td>should i update my old ipad 3 from 9 1 to ios ...</td>\n",
              "      <td>my ipad mini 3 just crashed  it runs ios 9  th...</td>\n",
              "      <td>0</td>\n",
              "      <td>ipad mini 3 crashed run ios 9 skype app open</td>\n",
              "      <td>update old ipad 3 9 1 io 9 3 4</td>\n",
              "      <td>30</td>\n",
              "      <td>44</td>\n",
              "      <td>...</td>\n",
              "      <td>0</td>\n",
              "      <td>0</td>\n",
              "      <td>0</td>\n",
              "      <td>0</td>\n",
              "      <td>0</td>\n",
              "      <td>0</td>\n",
              "      <td>0</td>\n",
              "      <td>0</td>\n",
              "      <td>0</td>\n",
              "      <td>0</td>\n",
              "    </tr>\n",
              "    <tr>\n",
              "      <th>4</th>\n",
              "      <td>304449</td>\n",
              "      <td>427708</td>\n",
              "      <td>427709</td>\n",
              "      <td>is the running business  running apps  wearabl...</td>\n",
              "      <td>when is the right time to stop running a tech ...</td>\n",
              "      <td>0</td>\n",
              "      <td>right time stop run tech business home take ne...</td>\n",
              "      <td>run business run apps wearable etc exploitable...</td>\n",
              "      <td>65</td>\n",
              "      <td>76</td>\n",
              "      <td>...</td>\n",
              "      <td>0</td>\n",
              "      <td>0</td>\n",
              "      <td>0</td>\n",
              "      <td>0</td>\n",
              "      <td>0</td>\n",
              "      <td>0</td>\n",
              "      <td>0</td>\n",
              "      <td>0</td>\n",
              "      <td>0</td>\n",
              "      <td>0</td>\n",
              "    </tr>\n",
              "  </tbody>\n",
              "</table>\n",
              "<p>5 rows × 6030 columns</p>\n",
              "</div>\n",
              "      <button class=\"colab-df-convert\" onclick=\"convertToInteractive('df-29acb7b1-be87-48df-a509-2e08103401b1')\"\n",
              "              title=\"Convert this dataframe to an interactive table.\"\n",
              "              style=\"display:none;\">\n",
              "        \n",
              "  <svg xmlns=\"http://www.w3.org/2000/svg\" height=\"24px\"viewBox=\"0 0 24 24\"\n",
              "       width=\"24px\">\n",
              "    <path d=\"M0 0h24v24H0V0z\" fill=\"none\"/>\n",
              "    <path d=\"M18.56 5.44l.94 2.06.94-2.06 2.06-.94-2.06-.94-.94-2.06-.94 2.06-2.06.94zm-11 1L8.5 8.5l.94-2.06 2.06-.94-2.06-.94L8.5 2.5l-.94 2.06-2.06.94zm10 10l.94 2.06.94-2.06 2.06-.94-2.06-.94-.94-2.06-.94 2.06-2.06.94z\"/><path d=\"M17.41 7.96l-1.37-1.37c-.4-.4-.92-.59-1.43-.59-.52 0-1.04.2-1.43.59L10.3 9.45l-7.72 7.72c-.78.78-.78 2.05 0 2.83L4 21.41c.39.39.9.59 1.41.59.51 0 1.02-.2 1.41-.59l7.78-7.78 2.81-2.81c.8-.78.8-2.07 0-2.86zM5.41 20L4 18.59l7.72-7.72 1.47 1.35L5.41 20z\"/>\n",
              "  </svg>\n",
              "      </button>\n",
              "      \n",
              "  <style>\n",
              "    .colab-df-container {\n",
              "      display:flex;\n",
              "      flex-wrap:wrap;\n",
              "      gap: 12px;\n",
              "    }\n",
              "\n",
              "    .colab-df-convert {\n",
              "      background-color: #E8F0FE;\n",
              "      border: none;\n",
              "      border-radius: 50%;\n",
              "      cursor: pointer;\n",
              "      display: none;\n",
              "      fill: #1967D2;\n",
              "      height: 32px;\n",
              "      padding: 0 0 0 0;\n",
              "      width: 32px;\n",
              "    }\n",
              "\n",
              "    .colab-df-convert:hover {\n",
              "      background-color: #E2EBFA;\n",
              "      box-shadow: 0px 1px 2px rgba(60, 64, 67, 0.3), 0px 1px 3px 1px rgba(60, 64, 67, 0.15);\n",
              "      fill: #174EA6;\n",
              "    }\n",
              "\n",
              "    [theme=dark] .colab-df-convert {\n",
              "      background-color: #3B4455;\n",
              "      fill: #D2E3FC;\n",
              "    }\n",
              "\n",
              "    [theme=dark] .colab-df-convert:hover {\n",
              "      background-color: #434B5C;\n",
              "      box-shadow: 0px 1px 3px 1px rgba(0, 0, 0, 0.15);\n",
              "      filter: drop-shadow(0px 1px 2px rgba(0, 0, 0, 0.3));\n",
              "      fill: #FFFFFF;\n",
              "    }\n",
              "  </style>\n",
              "\n",
              "      <script>\n",
              "        const buttonEl =\n",
              "          document.querySelector('#df-29acb7b1-be87-48df-a509-2e08103401b1 button.colab-df-convert');\n",
              "        buttonEl.style.display =\n",
              "          google.colab.kernel.accessAllowed ? 'block' : 'none';\n",
              "\n",
              "        async function convertToInteractive(key) {\n",
              "          const element = document.querySelector('#df-29acb7b1-be87-48df-a509-2e08103401b1');\n",
              "          const dataTable =\n",
              "            await google.colab.kernel.invokeFunction('convertToInteractive',\n",
              "                                                     [key], {});\n",
              "          if (!dataTable) return;\n",
              "\n",
              "          const docLinkHtml = 'Like what you see? Visit the ' +\n",
              "            '<a target=\"_blank\" href=https://colab.research.google.com/notebooks/data_table.ipynb>data table notebook</a>'\n",
              "            + ' to learn more about interactive tables.';\n",
              "          element.innerHTML = '';\n",
              "          dataTable['output_type'] = 'display_data';\n",
              "          await google.colab.output.renderOutput(dataTable, element);\n",
              "          const docLink = document.createElement('div');\n",
              "          docLink.innerHTML = docLinkHtml;\n",
              "          element.appendChild(docLink);\n",
              "        }\n",
              "      </script>\n",
              "    </div>\n",
              "  </div>\n",
              "  "
            ]
          },
          "metadata": {},
          "execution_count": 126
        }
      ]
    },
    {
      "cell_type": "code",
      "source": [
        "df.iloc[:,5:6].values"
      ],
      "metadata": {
        "colab": {
          "base_uri": "https://localhost:8080/"
        },
        "id": "e1j6a3FJAsZ-",
        "outputId": "781fd5af-9f4c-49a9-a964-64198cab1cdc"
      },
      "execution_count": null,
      "outputs": [
        {
          "output_type": "execute_result",
          "data": {
            "text/plain": [
              "array([[0],\n",
              "       [0],\n",
              "       [0],\n",
              "       ...,\n",
              "       [1],\n",
              "       [1],\n",
              "       [1]])"
            ]
          },
          "metadata": {},
          "execution_count": 136
        }
      ]
    },
    {
      "cell_type": "code",
      "source": [
        "from sklearn.model_selection import train_test_split\n",
        "X_train,X_test,y_train,y_test = train_test_split(df.iloc[:,8:].values,df.iloc[:,5:6].values,test_size=0.2,random_state=1)"
      ],
      "metadata": {
        "id": "GnHaJ3M8ApXG"
      },
      "execution_count": null,
      "outputs": []
    },
    {
      "cell_type": "code",
      "source": [
        "from sklearn.metrics import accuracy_score"
      ],
      "metadata": {
        "id": "2VCLvj2uB8Bn"
      },
      "execution_count": null,
      "outputs": []
    },
    {
      "cell_type": "code",
      "source": [
        "from sklearn.ensemble import RandomForestClassifier\n",
        "rf = RandomForestClassifier()\n",
        "rf.fit(X_train,y_train)\n",
        "rf_y_pred = rf.predict(X_test)\n",
        "accuracy_score(y_test,rf_y_pred)"
      ],
      "metadata": {
        "colab": {
          "base_uri": "https://localhost:8080/"
        },
        "id": "4w3PgVBDB553",
        "outputId": "9388bd31-60e3-469c-8afd-ec30ba0cc065"
      },
      "execution_count": null,
      "outputs": [
        {
          "output_type": "execute_result",
          "data": {
            "text/plain": [
              "0.7840728100113765"
            ]
          },
          "metadata": {},
          "execution_count": 139
        }
      ]
    },
    {
      "cell_type": "code",
      "source": [
        "from xgboost import XGBClassifier\n",
        "xgb = XGBClassifier()\n",
        "xgb.fit(X_train,y_train)\n",
        "xgb_y_pred = xgb.predict(X_test)\n",
        "accuracy_score(y_test,xgb_y_pred)\n"
      ],
      "metadata": {
        "colab": {
          "base_uri": "https://localhost:8080/"
        },
        "id": "8fr5JDK5CejG",
        "outputId": "6ee27112-65e9-42a4-b3c9-f5a9bfc94380"
      },
      "execution_count": null,
      "outputs": [
        {
          "output_type": "execute_result",
          "data": {
            "text/plain": [
              "0.7929465301478953"
            ]
          },
          "metadata": {},
          "execution_count": 140
        }
      ]
    },
    {
      "cell_type": "markdown",
      "source": [
        "# downloding the BOW and Models"
      ],
      "metadata": {
        "id": "XxMBJiNbxJdB"
      }
    },
    {
      "cell_type": "code",
      "source": [
        "import pickle\n",
        "\n",
        "pickle.dump(rf,open('rf_model.pkl','wb'))\n",
        "pickle.dump(xgb,open('xgb_model.pkl','wb'))\n",
        "pickle.dump(cv,open('cv.pkl','wb'))\n"
      ],
      "metadata": {
        "id": "hJdn9-6kFB7u"
      },
      "execution_count": null,
      "outputs": []
    },
    {
      "cell_type": "markdown",
      "source": [
        "# lets try with TFIDF before running BOW run from here"
      ],
      "metadata": {
        "id": "He2bzKBck1VN"
      }
    },
    {
      "cell_type": "code",
      "source": [
        "# Creating the TFIDF model\n",
        "from sklearn.feature_extraction.text import TfidfVectorizer\n",
        "Tf = TfidfVectorizer(max_features=3000)\n",
        "q1_arr, q2_arr = np.vsplit(Tf.fit_transform(corpus).toarray(),2)\n"
      ],
      "metadata": {
        "id": "5w_N2UB8kyG0"
      },
      "execution_count": 60,
      "outputs": []
    },
    {
      "cell_type": "code",
      "source": [
        "display(len(q1_arr))\n",
        "display(q1_arr[0])\n",
        "display(len(q2_arr))\n",
        "display(q2_arr[0])"
      ],
      "metadata": {
        "colab": {
          "base_uri": "https://localhost:8080/",
          "height": 86
        },
        "id": "oNIf8EhfmNoN",
        "outputId": "691ac474-5c35-43e1-fe71-06a0fa1ea51e"
      },
      "execution_count": 61,
      "outputs": [
        {
          "output_type": "display_data",
          "data": {
            "text/plain": [
              "21974"
            ]
          },
          "metadata": {}
        },
        {
          "output_type": "display_data",
          "data": {
            "text/plain": [
              "array([0., 0., 0., ..., 0., 0., 0.])"
            ]
          },
          "metadata": {}
        },
        {
          "output_type": "display_data",
          "data": {
            "text/plain": [
              "21974"
            ]
          },
          "metadata": {}
        },
        {
          "output_type": "display_data",
          "data": {
            "text/plain": [
              "array([0., 0., 0., ..., 0., 0., 0.])"
            ]
          },
          "metadata": {}
        }
      ]
    },
    {
      "cell_type": "code",
      "source": [
        "temp_df1 = pd.DataFrame(q1_arr, index= df.index)\n",
        "temp_df2 = pd.DataFrame(q2_arr, index= df.index)\n",
        "temp_df = pd.concat([temp_df1, temp_df2], axis=1)\n",
        "temp_df.shape\n"
      ],
      "metadata": {
        "colab": {
          "base_uri": "https://localhost:8080/"
        },
        "id": "5lDYF5bcnBfw",
        "outputId": "6da0062b-e993-4359-a561-f536d6bd7be5"
      },
      "execution_count": 62,
      "outputs": [
        {
          "output_type": "execute_result",
          "data": {
            "text/plain": [
              "(21974, 6000)"
            ]
          },
          "metadata": {},
          "execution_count": 62
        }
      ]
    },
    {
      "cell_type": "code",
      "source": [
        "df = pd.concat([df, temp_df], axis=1)\n",
        "print(df.shape)\n",
        "df.head()\n"
      ],
      "metadata": {
        "colab": {
          "base_uri": "https://localhost:8080/",
          "height": 751
        },
        "id": "9VsDsHVBnrTS",
        "outputId": "e1c5688f-7017-4ad3-d532-51fbfe27914a"
      },
      "execution_count": 63,
      "outputs": [
        {
          "output_type": "stream",
          "name": "stdout",
          "text": [
            "(21974, 6030)\n"
          ]
        },
        {
          "output_type": "execute_result",
          "data": {
            "text/plain": [
              "       id    qid1    qid2                                          question1  \\\n",
              "0   87407  147217  147218      when function prototype is not necessary in c   \n",
              "1  310950  435155  435156  what does it mean if you see your husband taki...   \n",
              "2  206689  310189  310190  law school  which language is more beneficial ...   \n",
              "3  165212  256592  256593  should i update my old ipad 3 from 9 1 to ios ...   \n",
              "4  304449  427708  427709  is the running business  running apps  wearabl...   \n",
              "\n",
              "                                           question2  is_duplicate  \\\n",
              "0                 should i learn c before learning c             0   \n",
              "1  what would be your very first reaction if you ...             0   \n",
              "2  which language is beneficial for an engineer t...             0   \n",
              "3  my ipad mini 3 just crashed  it runs ios 9  th...             0   \n",
              "4  when is the right time to stop running a tech ...             0   \n",
              "\n",
              "                                       cleanQ1_lemma  \\\n",
              "0                     function prototype necessary c   \n",
              "1             mean see husband take woman hotel room   \n",
              "2  law school language beneficial learn lawyer ge...   \n",
              "3                     update old ipad 3 9 1 io 9 3 4   \n",
              "4  run business run apps wearable etc exploitable...   \n",
              "\n",
              "                                       cleanQ2_lemma  q1_len  q2_len  ...  \\\n",
              "0                                    learn c learn c      30      15  ...   \n",
              "1  would first reaction open newspaper read headl...      38      84  ...   \n",
              "2  language beneficial engineer learn follow germ...      58      72  ...   \n",
              "3       ipad mini 3 crashed run ios 9 skype app open      30      44  ...   \n",
              "4  right time stop run tech business home take ne...      65      76  ...   \n",
              "\n",
              "   2990  2991  2992  2993  2994  2995  2996  2997  2998  2999  \n",
              "0   0.0   0.0   0.0   0.0   0.0   0.0   0.0   0.0   0.0   0.0  \n",
              "1   0.0   0.0   0.0   0.0   0.0   0.0   0.0   0.0   0.0   0.0  \n",
              "2   0.0   0.0   0.0   0.0   0.0   0.0   0.0   0.0   0.0   0.0  \n",
              "3   0.0   0.0   0.0   0.0   0.0   0.0   0.0   0.0   0.0   0.0  \n",
              "4   0.0   0.0   0.0   0.0   0.0   0.0   0.0   0.0   0.0   0.0  \n",
              "\n",
              "[5 rows x 6030 columns]"
            ],
            "text/html": [
              "\n",
              "  <div id=\"df-bed94196-5137-4b28-910c-34939eb60478\">\n",
              "    <div class=\"colab-df-container\">\n",
              "      <div>\n",
              "<style scoped>\n",
              "    .dataframe tbody tr th:only-of-type {\n",
              "        vertical-align: middle;\n",
              "    }\n",
              "\n",
              "    .dataframe tbody tr th {\n",
              "        vertical-align: top;\n",
              "    }\n",
              "\n",
              "    .dataframe thead th {\n",
              "        text-align: right;\n",
              "    }\n",
              "</style>\n",
              "<table border=\"1\" class=\"dataframe\">\n",
              "  <thead>\n",
              "    <tr style=\"text-align: right;\">\n",
              "      <th></th>\n",
              "      <th>id</th>\n",
              "      <th>qid1</th>\n",
              "      <th>qid2</th>\n",
              "      <th>question1</th>\n",
              "      <th>question2</th>\n",
              "      <th>is_duplicate</th>\n",
              "      <th>cleanQ1_lemma</th>\n",
              "      <th>cleanQ2_lemma</th>\n",
              "      <th>q1_len</th>\n",
              "      <th>q2_len</th>\n",
              "      <th>...</th>\n",
              "      <th>2990</th>\n",
              "      <th>2991</th>\n",
              "      <th>2992</th>\n",
              "      <th>2993</th>\n",
              "      <th>2994</th>\n",
              "      <th>2995</th>\n",
              "      <th>2996</th>\n",
              "      <th>2997</th>\n",
              "      <th>2998</th>\n",
              "      <th>2999</th>\n",
              "    </tr>\n",
              "  </thead>\n",
              "  <tbody>\n",
              "    <tr>\n",
              "      <th>0</th>\n",
              "      <td>87407</td>\n",
              "      <td>147217</td>\n",
              "      <td>147218</td>\n",
              "      <td>when function prototype is not necessary in c</td>\n",
              "      <td>should i learn c before learning c</td>\n",
              "      <td>0</td>\n",
              "      <td>function prototype necessary c</td>\n",
              "      <td>learn c learn c</td>\n",
              "      <td>30</td>\n",
              "      <td>15</td>\n",
              "      <td>...</td>\n",
              "      <td>0.0</td>\n",
              "      <td>0.0</td>\n",
              "      <td>0.0</td>\n",
              "      <td>0.0</td>\n",
              "      <td>0.0</td>\n",
              "      <td>0.0</td>\n",
              "      <td>0.0</td>\n",
              "      <td>0.0</td>\n",
              "      <td>0.0</td>\n",
              "      <td>0.0</td>\n",
              "    </tr>\n",
              "    <tr>\n",
              "      <th>1</th>\n",
              "      <td>310950</td>\n",
              "      <td>435155</td>\n",
              "      <td>435156</td>\n",
              "      <td>what does it mean if you see your husband taki...</td>\n",
              "      <td>what would be your very first reaction if you ...</td>\n",
              "      <td>0</td>\n",
              "      <td>mean see husband take woman hotel room</td>\n",
              "      <td>would first reaction open newspaper read headl...</td>\n",
              "      <td>38</td>\n",
              "      <td>84</td>\n",
              "      <td>...</td>\n",
              "      <td>0.0</td>\n",
              "      <td>0.0</td>\n",
              "      <td>0.0</td>\n",
              "      <td>0.0</td>\n",
              "      <td>0.0</td>\n",
              "      <td>0.0</td>\n",
              "      <td>0.0</td>\n",
              "      <td>0.0</td>\n",
              "      <td>0.0</td>\n",
              "      <td>0.0</td>\n",
              "    </tr>\n",
              "    <tr>\n",
              "      <th>2</th>\n",
              "      <td>206689</td>\n",
              "      <td>310189</td>\n",
              "      <td>310190</td>\n",
              "      <td>law school  which language is more beneficial ...</td>\n",
              "      <td>which language is beneficial for an engineer t...</td>\n",
              "      <td>0</td>\n",
              "      <td>law school language beneficial learn lawyer ge...</td>\n",
              "      <td>language beneficial engineer learn follow germ...</td>\n",
              "      <td>58</td>\n",
              "      <td>72</td>\n",
              "      <td>...</td>\n",
              "      <td>0.0</td>\n",
              "      <td>0.0</td>\n",
              "      <td>0.0</td>\n",
              "      <td>0.0</td>\n",
              "      <td>0.0</td>\n",
              "      <td>0.0</td>\n",
              "      <td>0.0</td>\n",
              "      <td>0.0</td>\n",
              "      <td>0.0</td>\n",
              "      <td>0.0</td>\n",
              "    </tr>\n",
              "    <tr>\n",
              "      <th>3</th>\n",
              "      <td>165212</td>\n",
              "      <td>256592</td>\n",
              "      <td>256593</td>\n",
              "      <td>should i update my old ipad 3 from 9 1 to ios ...</td>\n",
              "      <td>my ipad mini 3 just crashed  it runs ios 9  th...</td>\n",
              "      <td>0</td>\n",
              "      <td>update old ipad 3 9 1 io 9 3 4</td>\n",
              "      <td>ipad mini 3 crashed run ios 9 skype app open</td>\n",
              "      <td>30</td>\n",
              "      <td>44</td>\n",
              "      <td>...</td>\n",
              "      <td>0.0</td>\n",
              "      <td>0.0</td>\n",
              "      <td>0.0</td>\n",
              "      <td>0.0</td>\n",
              "      <td>0.0</td>\n",
              "      <td>0.0</td>\n",
              "      <td>0.0</td>\n",
              "      <td>0.0</td>\n",
              "      <td>0.0</td>\n",
              "      <td>0.0</td>\n",
              "    </tr>\n",
              "    <tr>\n",
              "      <th>4</th>\n",
              "      <td>304449</td>\n",
              "      <td>427708</td>\n",
              "      <td>427709</td>\n",
              "      <td>is the running business  running apps  wearabl...</td>\n",
              "      <td>when is the right time to stop running a tech ...</td>\n",
              "      <td>0</td>\n",
              "      <td>run business run apps wearable etc exploitable...</td>\n",
              "      <td>right time stop run tech business home take ne...</td>\n",
              "      <td>65</td>\n",
              "      <td>76</td>\n",
              "      <td>...</td>\n",
              "      <td>0.0</td>\n",
              "      <td>0.0</td>\n",
              "      <td>0.0</td>\n",
              "      <td>0.0</td>\n",
              "      <td>0.0</td>\n",
              "      <td>0.0</td>\n",
              "      <td>0.0</td>\n",
              "      <td>0.0</td>\n",
              "      <td>0.0</td>\n",
              "      <td>0.0</td>\n",
              "    </tr>\n",
              "  </tbody>\n",
              "</table>\n",
              "<p>5 rows × 6030 columns</p>\n",
              "</div>\n",
              "      <button class=\"colab-df-convert\" onclick=\"convertToInteractive('df-bed94196-5137-4b28-910c-34939eb60478')\"\n",
              "              title=\"Convert this dataframe to an interactive table.\"\n",
              "              style=\"display:none;\">\n",
              "        \n",
              "  <svg xmlns=\"http://www.w3.org/2000/svg\" height=\"24px\"viewBox=\"0 0 24 24\"\n",
              "       width=\"24px\">\n",
              "    <path d=\"M0 0h24v24H0V0z\" fill=\"none\"/>\n",
              "    <path d=\"M18.56 5.44l.94 2.06.94-2.06 2.06-.94-2.06-.94-.94-2.06-.94 2.06-2.06.94zm-11 1L8.5 8.5l.94-2.06 2.06-.94-2.06-.94L8.5 2.5l-.94 2.06-2.06.94zm10 10l.94 2.06.94-2.06 2.06-.94-2.06-.94-.94-2.06-.94 2.06-2.06.94z\"/><path d=\"M17.41 7.96l-1.37-1.37c-.4-.4-.92-.59-1.43-.59-.52 0-1.04.2-1.43.59L10.3 9.45l-7.72 7.72c-.78.78-.78 2.05 0 2.83L4 21.41c.39.39.9.59 1.41.59.51 0 1.02-.2 1.41-.59l7.78-7.78 2.81-2.81c.8-.78.8-2.07 0-2.86zM5.41 20L4 18.59l7.72-7.72 1.47 1.35L5.41 20z\"/>\n",
              "  </svg>\n",
              "      </button>\n",
              "      \n",
              "  <style>\n",
              "    .colab-df-container {\n",
              "      display:flex;\n",
              "      flex-wrap:wrap;\n",
              "      gap: 12px;\n",
              "    }\n",
              "\n",
              "    .colab-df-convert {\n",
              "      background-color: #E8F0FE;\n",
              "      border: none;\n",
              "      border-radius: 50%;\n",
              "      cursor: pointer;\n",
              "      display: none;\n",
              "      fill: #1967D2;\n",
              "      height: 32px;\n",
              "      padding: 0 0 0 0;\n",
              "      width: 32px;\n",
              "    }\n",
              "\n",
              "    .colab-df-convert:hover {\n",
              "      background-color: #E2EBFA;\n",
              "      box-shadow: 0px 1px 2px rgba(60, 64, 67, 0.3), 0px 1px 3px 1px rgba(60, 64, 67, 0.15);\n",
              "      fill: #174EA6;\n",
              "    }\n",
              "\n",
              "    [theme=dark] .colab-df-convert {\n",
              "      background-color: #3B4455;\n",
              "      fill: #D2E3FC;\n",
              "    }\n",
              "\n",
              "    [theme=dark] .colab-df-convert:hover {\n",
              "      background-color: #434B5C;\n",
              "      box-shadow: 0px 1px 3px 1px rgba(0, 0, 0, 0.15);\n",
              "      filter: drop-shadow(0px 1px 2px rgba(0, 0, 0, 0.3));\n",
              "      fill: #FFFFFF;\n",
              "    }\n",
              "  </style>\n",
              "\n",
              "      <script>\n",
              "        const buttonEl =\n",
              "          document.querySelector('#df-bed94196-5137-4b28-910c-34939eb60478 button.colab-df-convert');\n",
              "        buttonEl.style.display =\n",
              "          google.colab.kernel.accessAllowed ? 'block' : 'none';\n",
              "\n",
              "        async function convertToInteractive(key) {\n",
              "          const element = document.querySelector('#df-bed94196-5137-4b28-910c-34939eb60478');\n",
              "          const dataTable =\n",
              "            await google.colab.kernel.invokeFunction('convertToInteractive',\n",
              "                                                     [key], {});\n",
              "          if (!dataTable) return;\n",
              "\n",
              "          const docLinkHtml = 'Like what you see? Visit the ' +\n",
              "            '<a target=\"_blank\" href=https://colab.research.google.com/notebooks/data_table.ipynb>data table notebook</a>'\n",
              "            + ' to learn more about interactive tables.';\n",
              "          element.innerHTML = '';\n",
              "          dataTable['output_type'] = 'display_data';\n",
              "          await google.colab.output.renderOutput(dataTable, element);\n",
              "          const docLink = document.createElement('div');\n",
              "          docLink.innerHTML = docLinkHtml;\n",
              "          element.appendChild(docLink);\n",
              "        }\n",
              "      </script>\n",
              "    </div>\n",
              "  </div>\n",
              "  "
            ]
          },
          "metadata": {},
          "execution_count": 63
        }
      ]
    },
    {
      "cell_type": "code",
      "source": [
        "from sklearn.model_selection import train_test_split\n",
        "X_train,X_test,y_train,y_test = train_test_split(df.iloc[:,8:].values,df.iloc[:,5:6].values,test_size=0.2,random_state=1)"
      ],
      "metadata": {
        "id": "p4UdAnvPn2pg"
      },
      "execution_count": 64,
      "outputs": []
    },
    {
      "cell_type": "code",
      "source": [
        "from sklearn.metrics import accuracy_score"
      ],
      "metadata": {
        "id": "8dOaPLcJn_Lw"
      },
      "execution_count": 65,
      "outputs": []
    },
    {
      "cell_type": "code",
      "source": [
        "from sklearn.ensemble import RandomForestClassifier\n",
        "rf_tf = RandomForestClassifier()\n",
        "rf_tf.fit(X_train,y_train)\n",
        "rf_tf_y_pred = rf_tf.predict(X_test)\n",
        "accuracy_score(y_test,rf_tf_y_pred)"
      ],
      "metadata": {
        "colab": {
          "base_uri": "https://localhost:8080/"
        },
        "id": "l7oJHnZqoCAn",
        "outputId": "13fb4606-a9cd-496b-faeb-ad6f95fe195d"
      },
      "execution_count": 66,
      "outputs": [
        {
          "output_type": "execute_result",
          "data": {
            "text/plain": [
              "0.783617747440273"
            ]
          },
          "metadata": {},
          "execution_count": 66
        }
      ]
    },
    {
      "cell_type": "code",
      "source": [
        "from xgboost import XGBClassifier\n",
        "xgb_tf = XGBClassifier()\n",
        "xgb_tf.fit(X_train,y_train)\n",
        "xgb_tf_y_pred = xgb_tf.predict(X_test)\n",
        "accuracy_score(y_test,xgb_tf_y_pred)\n"
      ],
      "metadata": {
        "colab": {
          "base_uri": "https://localhost:8080/"
        },
        "id": "8eTYpVPooR_f",
        "outputId": "1c42d1ed-4e8d-4813-8ca8-c3b5d7f7b4f1"
      },
      "execution_count": 70,
      "outputs": [
        {
          "output_type": "execute_result",
          "data": {
            "text/plain": [
              "0.79226393629124"
            ]
          },
          "metadata": {},
          "execution_count": 70
        }
      ]
    },
    {
      "cell_type": "markdown",
      "source": [
        "# downloding the TFIDF and Models"
      ],
      "metadata": {
        "id": "izcAvqIAxBtU"
      }
    },
    {
      "cell_type": "code",
      "source": [
        "import pickle\n",
        "\n",
        "pickle.dump(rf_tf,open('rf_tf_model.pkl','wb'))\n",
        "pickle.dump(xgb_tf,open('xgb_tf_model.pkl','wb'))\n",
        "pickle.dump(Tf,open('tfidf.pkl','wb'))\n"
      ],
      "metadata": {
        "id": "5xTQb5Zhv9AJ"
      },
      "execution_count": 89,
      "outputs": []
    },
    {
      "cell_type": "markdown",
      "source": [
        "# confussion matrix"
      ],
      "metadata": {
        "id": "VFHDq-u3rVgI"
      }
    },
    {
      "cell_type": "code",
      "source": [
        "from sklearn.metrics import confusion_matrix\n",
        "# for random forest model with bow\n",
        "confusion_matrix(y_test,rf_y_pred)"
      ],
      "metadata": {
        "colab": {
          "base_uri": "https://localhost:8080/"
        },
        "id": "6uCH6NRAQjHB",
        "outputId": "d995ee39-6441-4743-c283-5d5509b83b08"
      },
      "execution_count": null,
      "outputs": [
        {
          "output_type": "execute_result",
          "data": {
            "text/plain": [
              "array([[1573,  642],\n",
              "       [ 307, 1873]])"
            ]
          },
          "metadata": {},
          "execution_count": 204
        }
      ]
    },
    {
      "cell_type": "code",
      "source": [
        "from sklearn.metrics import confusion_matrix\n",
        "# for random forest model with tfidf\n",
        "confusion_matrix(y_test,rf_tf_y_pred)"
      ],
      "metadata": {
        "colab": {
          "base_uri": "https://localhost:8080/"
        },
        "id": "faCZU4tgqrXA",
        "outputId": "93aae3f4-384a-4454-8b42-6d607c5767f5"
      },
      "execution_count": 69,
      "outputs": [
        {
          "output_type": "execute_result",
          "data": {
            "text/plain": [
              "array([[1574,  641],\n",
              "       [ 310, 1870]])"
            ]
          },
          "metadata": {},
          "execution_count": 69
        }
      ]
    },
    {
      "cell_type": "code",
      "source": [
        "# for random xgb with bow\n",
        "confusion_matrix(y_test,xgb_y_pred)\n"
      ],
      "metadata": {
        "colab": {
          "base_uri": "https://localhost:8080/"
        },
        "id": "8AfmLT7oQyaZ",
        "outputId": "da5d906c-c8f9-456a-e9c1-fffdfac1c283"
      },
      "execution_count": null,
      "outputs": [
        {
          "output_type": "execute_result",
          "data": {
            "text/plain": [
              "array([[1613,  602],\n",
              "       [ 308, 1872]])"
            ]
          },
          "metadata": {},
          "execution_count": 205
        }
      ]
    },
    {
      "cell_type": "code",
      "source": [
        "# for random xgb with tfidf\n",
        "confusion_matrix(y_test,xgb_tf_y_pred)"
      ],
      "metadata": {
        "colab": {
          "base_uri": "https://localhost:8080/"
        },
        "id": "NIS73aytr5DY",
        "outputId": "9538a238-d45b-4301-812f-1dd4954c9811"
      },
      "execution_count": 71,
      "outputs": [
        {
          "output_type": "execute_result",
          "data": {
            "text/plain": [
              "array([[1602,  613],\n",
              "       [ 300, 1880]])"
            ]
          },
          "metadata": {},
          "execution_count": 71
        }
      ]
    },
    {
      "cell_type": "markdown",
      "source": [
        "# query point creation"
      ],
      "metadata": {
        "id": "X8VYRPA9tDkw"
      }
    },
    {
      "cell_type": "code",
      "source": [
        "def preprocess(q):\n",
        "\n",
        "    q = str(q).lower().strip()\n",
        "\n",
        "    # Replace certain special characters with their string equivalents\n",
        "    q = q.replace('%', ' percent')\n",
        "    q = q.replace('$', ' dollar ')\n",
        "    q = q.replace('₹', ' rupee ')\n",
        "    q = q.replace('€', ' euro ')\n",
        "    q = q.replace('@', ' at ')\n",
        "\n",
        "    # The pattern '[math]' appears around 900 times in the whole dataset.\n",
        "    q = q.replace('[math]', '')\n",
        "\n",
        "    # Replacing some numbers with string equivalents (not perfect, can be done better to account for more cases)\n",
        "    q = q.replace(',000,000,000 ', 'b ')\n",
        "    q = q.replace(',000,000 ', 'm ')\n",
        "    q = q.replace(',000 ', 'k ')\n",
        "    q = re.sub(r'([0-9]+)000000000', r'\\1b', q)\n",
        "    q = re.sub(r'([0-9]+)000000', r'\\1m', q)\n",
        "    q = re.sub(r'([0-9]+)000', r'\\1k', q)\n",
        "\n",
        "    # Decontracting words\n",
        "    contractions = {\n",
        "    \"ain't\": \"am not\",\n",
        "    \"aren't\": \"are not\",\n",
        "    \"can't\": \"can not\",\n",
        "    \"can't've\": \"can not have\",\n",
        "    \"'cause\": \"because\",\n",
        "    \"could've\": \"could have\",\n",
        "    \"couldn't\": \"could not\",\n",
        "    \"couldn't've\": \"could not have\",\n",
        "    \"didn't\": \"did not\",\n",
        "    \"doesn't\": \"does not\",\n",
        "    \"don't\": \"do not\",\n",
        "    \"hadn't\": \"had not\",\n",
        "    \"hadn't've\": \"had not have\",\n",
        "    \"hasn't\": \"has not\",\n",
        "    \"haven't\": \"have not\",\n",
        "    \"he'd\": \"he would\",\n",
        "    \"he'd've\": \"he would have\",\n",
        "    \"he'll\": \"he will\",\n",
        "    \"he'll've\": \"he will have\",\n",
        "    \"he's\": \"he is\",\n",
        "    \"how'd\": \"how did\",\n",
        "    \"how'd'y\": \"how do you\",\n",
        "    \"how'll\": \"how will\",\n",
        "    \"how's\": \"how is\",\n",
        "    \"i'd\": \"i would\",\n",
        "    \"i'd've\": \"i would have\",\n",
        "    \"i'll\": \"i will\",\n",
        "    \"i'll've\": \"i will have\",\n",
        "    \"i'm\": \"i am\",\n",
        "    \"i've\": \"i have\",\n",
        "    \"isn't\": \"is not\",\n",
        "    \"it'd\": \"it would\",\n",
        "    \"it'd've\": \"it would have\",\n",
        "    \"it'll\": \"it will\",\n",
        "    \"it'll've\": \"it will have\",\n",
        "    \"it's\": \"it is\",\n",
        "    \"let's\": \"let us\",\n",
        "    \"ma'am\": \"madam\",\n",
        "    \"mayn't\": \"may not\",\n",
        "    \"might've\": \"might have\",\n",
        "    \"mightn't\": \"might not\",\n",
        "    \"mightn't've\": \"might not have\",\n",
        "    \"must've\": \"must have\",\n",
        "    \"mustn't\": \"must not\",\n",
        "    \"mustn't've\": \"must not have\",\n",
        "    \"needn't\": \"need not\",\n",
        "    \"needn't've\": \"need not have\",\n",
        "    \"o'clock\": \"of the clock\",\n",
        "    \"oughtn't\": \"ought not\",\n",
        "    \"oughtn't've\": \"ought not have\",\n",
        "    \"shan't\": \"shall not\",\n",
        "    \"sha'n't\": \"shall not\",\n",
        "    \"shan't've\": \"shall not have\",\n",
        "    \"she'd\": \"she would\",\n",
        "    \"she'd've\": \"she would have\",\n",
        "    \"she'll\": \"she will\",\n",
        "    \"she'll've\": \"she will have\",\n",
        "    \"she's\": \"she is\",\n",
        "    \"should've\": \"should have\",\n",
        "    \"shouldn't\": \"should not\",\n",
        "    \"shouldn't've\": \"should not have\",\n",
        "    \"so've\": \"so have\",\n",
        "    \"so's\": \"so as\",\n",
        "    \"that'd\": \"that would\",\n",
        "    \"that'd've\": \"that would have\",\n",
        "    \"that's\": \"that is\",\n",
        "    \"there'd\": \"there would\",\n",
        "    \"there'd've\": \"there would have\",\n",
        "    \"there's\": \"there is\",\n",
        "    \"they'd\": \"they would\",\n",
        "    \"they'd've\": \"they would have\",\n",
        "    \"they'll\": \"they will\",\n",
        "    \"they'll've\": \"they will have\",\n",
        "    \"they're\": \"they are\",\n",
        "    \"they've\": \"they have\",\n",
        "    \"to've\": \"to have\",\n",
        "    \"wasn't\": \"was not\",\n",
        "    \"we'd\": \"we would\",\n",
        "    \"we'd've\": \"we would have\",\n",
        "    \"we'll\": \"we will\",\n",
        "    \"we'll've\": \"we will have\",\n",
        "    \"we're\": \"we are\",\n",
        "    \"we've\": \"we have\",\n",
        "    \"weren't\": \"were not\",\n",
        "    \"what'll\": \"what will\",\n",
        "    \"what'll've\": \"what will have\",\n",
        "    \"what're\": \"what are\",\n",
        "    \"what's\": \"what is\",\n",
        "    \"what've\": \"what have\",\n",
        "    \"when's\": \"when is\",\n",
        "    \"when've\": \"when have\",\n",
        "    \"where'd\": \"where did\",\n",
        "    \"where's\": \"where is\",\n",
        "    \"where've\": \"where have\",\n",
        "    \"who'll\": \"who will\",\n",
        "    \"who'll've\": \"who will have\",\n",
        "    \"who's\": \"who is\",\n",
        "    \"who've\": \"who have\",\n",
        "    \"why's\": \"why is\",\n",
        "    \"why've\": \"why have\",\n",
        "    \"will've\": \"will have\",\n",
        "    \"won't\": \"will not\",\n",
        "    \"won't've\": \"will not have\",\n",
        "    \"would've\": \"would have\",\n",
        "    \"wouldn't\": \"would not\",\n",
        "    \"wouldn't've\": \"would not have\",\n",
        "    \"y'all\": \"you all\",\n",
        "    \"y'all'd\": \"you all would\",\n",
        "    \"y'all'd've\": \"you all would have\",\n",
        "    \"y'all're\": \"you all are\",\n",
        "    \"y'all've\": \"you all have\",\n",
        "    \"you'd\": \"you would\",\n",
        "    \"you'd've\": \"you would have\",\n",
        "    \"you'll\": \"you will\",\n",
        "    \"you'll've\": \"you will have\",\n",
        "    \"you're\": \"you are\",\n",
        "    \"you've\": \"you have\"\n",
        "    }\n",
        "\n",
        "    q_decontracted = []\n",
        "\n",
        "    for word in q.split():\n",
        "        if word in contractions:\n",
        "            word = contractions[word]\n",
        "\n",
        "        q_decontracted.append(word)\n",
        "\n",
        "    q = ' '.join(q_decontracted)\n",
        "    q = q.replace(\"'ve\", \" have\")\n",
        "    q = q.replace(\"n't\", \" not\")\n",
        "    q = q.replace(\"'re\", \" are\")\n",
        "    q = q.replace(\"'ll\", \" will\")\n",
        "\n",
        "    # Removing HTML tags\n",
        "    q = BeautifulSoup(q)\n",
        "    q = q.get_text()\n",
        "\n",
        "    # Remove punctuations\n",
        "    pattern = re.compile('\\W')\n",
        "    q = re.sub(pattern, ' ', q).strip()\n",
        "\n",
        "\n",
        "    return q\n",
        "\n"
      ],
      "metadata": {
        "id": "RHw5EngBJoyZ"
      },
      "execution_count": 72,
      "outputs": []
    },
    {
      "cell_type": "code",
      "source": [
        "def pre_process(q, flag):\n",
        "\n",
        "    sentence = q\n",
        "\n",
        "\n",
        "    # Remove stop words\n",
        "    clean_tokens = [t for t in sentence.split() if t not in stopwords.words(\"english\")]\n",
        "\n",
        "    # Stemming/Lemmatization and POS tagging\n",
        "    if flag == 'stem':\n",
        "        stemmer = PorterStemmer()\n",
        "        token_list = []\n",
        "        for word, tag in pos_tag(clean_tokens):\n",
        "            wntag = tag[0].lower()\n",
        "            wntag = wntag if wntag in ['a', 'r', 'n', 'v'] else None\n",
        "            stem = stemmer.stem(word, wntag) if wntag else word\n",
        "            token_list.append(stem)\n",
        "    else:\n",
        "        lemmatizer = WordNetLemmatizer()\n",
        "        token_list = []\n",
        "        for word, tag in pos_tag(clean_tokens):\n",
        "            wntag = tag[0].lower()\n",
        "            wntag = wntag if wntag in ['a', 'r', 'n', 'v'] else None\n",
        "            lemma = lemmatizer.lemmatize(word, wntag) if wntag else word\n",
        "            token_list.append(lemma)\n",
        "    return \" \".join(token_list)\n",
        "    #return pd.Series([\" \".join(token_list)])"
      ],
      "metadata": {
        "id": "mhL655iYJ3rZ"
      },
      "execution_count": 73,
      "outputs": []
    },
    {
      "cell_type": "code",
      "source": [
        "def test_common_words(q1,q2):\n",
        "    w1 = set(map(lambda word: word.lower().strip(), q1.split(\" \")))\n",
        "    w2 = set(map(lambda word: word.lower().strip(), q2.split(\" \")))\n",
        "    return len(w1 & w2)\n"
      ],
      "metadata": {
        "id": "yhzcqOomG-G_"
      },
      "execution_count": 74,
      "outputs": []
    },
    {
      "cell_type": "code",
      "source": [
        "def test_total_words(q1,q2):\n",
        "    w1 = set(map(lambda word: word.lower().strip(), q1.split(\" \")))\n",
        "    w2 = set(map(lambda word: word.lower().strip(), q2.split(\" \")))\n",
        "    return (len(w1) + len(w2))"
      ],
      "metadata": {
        "id": "zc6-3hqOG6l6"
      },
      "execution_count": 75,
      "outputs": []
    },
    {
      "cell_type": "code",
      "source": [
        "def test_fetch_token_features(q1,q2):\n",
        "\n",
        "    SAFE_DIV = 0.0001\n",
        "\n",
        "    STOP_WORDS = stopwords.words(\"english\")\n",
        "\n",
        "    token_features = [0.0]*8\n",
        "\n",
        "    # Converting the Sentence into Tokens:\n",
        "    q1_tokens = q1.split()\n",
        "    q2_tokens = q2.split()\n",
        "\n",
        "    if len(q1_tokens) == 0 or len(q2_tokens) == 0:\n",
        "        return token_features\n",
        "\n",
        "    # Get the non-stopwords in Questions\n",
        "    q1_words = set([word for word in q1_tokens if word not in STOP_WORDS])\n",
        "    q2_words = set([word for word in q2_tokens if word not in STOP_WORDS])\n",
        "\n",
        "    #Get the stopwords in Questions\n",
        "    q1_stops = set([word for word in q1_tokens if word in STOP_WORDS])\n",
        "    q2_stops = set([word for word in q2_tokens if word in STOP_WORDS])\n",
        "\n",
        "    # Get the common non-stopwords from Question pair\n",
        "    common_word_count = len(q1_words.intersection(q2_words))\n",
        "\n",
        "    # Get the common stopwords from Question pair\n",
        "    common_stop_count = len(q1_stops.intersection(q2_stops))\n",
        "\n",
        "    # Get the common Tokens from Question pair\n",
        "    common_token_count = len(set(q1_tokens).intersection(set(q2_tokens)))\n",
        "\n",
        "\n",
        "    token_features[0] = common_word_count / (min(len(q1_words), len(q2_words)) + SAFE_DIV)\n",
        "    token_features[1] = common_word_count / (max(len(q1_words), len(q2_words)) + SAFE_DIV)\n",
        "    token_features[2] = common_stop_count / (min(len(q1_stops), len(q2_stops)) + SAFE_DIV)\n",
        "    token_features[3] = common_stop_count / (max(len(q1_stops), len(q2_stops)) + SAFE_DIV)\n",
        "    token_features[4] = common_token_count / (min(len(q1_tokens), len(q2_tokens)) + SAFE_DIV)\n",
        "    token_features[5] = common_token_count / (max(len(q1_tokens), len(q2_tokens)) + SAFE_DIV)\n",
        "\n",
        "    # Last word of both question is same or not\n",
        "    token_features[6] = int(q1_tokens[-1] == q2_tokens[-1])\n",
        "\n",
        "    # First word of both question is same or not\n",
        "    token_features[7] = int(q1_tokens[0] == q2_tokens[0])\n",
        "\n",
        "    return token_features\n"
      ],
      "metadata": {
        "id": "Ypkbcsv4G2v-"
      },
      "execution_count": 76,
      "outputs": []
    },
    {
      "cell_type": "code",
      "source": [
        "def test_fetch_length_features(q1,q2):\n",
        "\n",
        "    length_features = [0.0]*3\n",
        "\n",
        "    # Converting the Sentence into Tokens:\n",
        "    q1_tokens = q1.split()\n",
        "    q2_tokens = q2.split()\n",
        "\n",
        "    if len(q1_tokens) == 0 or len(q2_tokens) == 0:\n",
        "        return length_features\n",
        "\n",
        "    # Absolute length features\n",
        "    length_features[0] = abs(len(q1_tokens) - len(q2_tokens))\n",
        "\n",
        "    #Average Token Length of both Questions\n",
        "    length_features[1] = (len(q1_tokens) + len(q2_tokens))/2\n",
        "\n",
        "    strs = list(distance.lcsubstrings(q1, q2))\n",
        "    length_features[2] = len(strs[0]) / (min(len(q1), len(q2)) + 1)\n",
        "\n",
        "    return length_features"
      ],
      "metadata": {
        "id": "fhTVF8SGGuf4"
      },
      "execution_count": 77,
      "outputs": []
    },
    {
      "cell_type": "code",
      "source": [
        "def test_fetch_fuzzy_features(q1,q2):\n",
        "\n",
        "    fuzzy_features = [0.0]*4\n",
        "\n",
        "    # fuzz_ratio\n",
        "    fuzzy_features[0] = fuzz.QRatio(q1, q2)\n",
        "\n",
        "    # fuzz_partial_ratio\n",
        "    fuzzy_features[1] = fuzz.partial_ratio(q1, q2)\n",
        "\n",
        "    # token_sort_ratio\n",
        "    fuzzy_features[2] = fuzz.token_sort_ratio(q1, q2)\n",
        "\n",
        "    # token_set_ratio\n",
        "    fuzzy_features[3] = fuzz.token_set_ratio(q1, q2)\n",
        "\n",
        "    return fuzzy_features\n"
      ],
      "metadata": {
        "id": "Y2Xch1sTGrb5"
      },
      "execution_count": 78,
      "outputs": []
    },
    {
      "cell_type": "code",
      "source": [
        "def query_point_creator(q1,q2):\n",
        "\n",
        "    input_query = []\n",
        "\n",
        "    # preprocess\n",
        "    q1 = preprocess(q1)\n",
        "    q2 = preprocess(q2)\n",
        "\n",
        "    #stemming/lemmatization\n",
        "    q1 = pre_process(q1,'lemma')\n",
        "    q2 = pre_process(q2,'lemma')\n",
        "\n",
        "    # fetch basic features\n",
        "    input_query.append(len(q1))\n",
        "    input_query.append(len(q2))\n",
        "\n",
        "    input_query.append(len(q1.split(\" \")))\n",
        "    input_query.append(len(q2.split(\" \")))\n",
        "\n",
        "    input_query.append(test_common_words(q1,q2))\n",
        "    input_query.append(test_total_words(q1,q2))\n",
        "    input_query.append(round(test_common_words(q1,q2)/test_total_words(q1,q2),2))\n",
        "\n",
        "    # fetch token features\n",
        "    token_features = test_fetch_token_features(q1,q2)\n",
        "    input_query.extend(token_features)\n",
        "\n",
        "    # fetch length based features\n",
        "    length_features = test_fetch_length_features(q1,q2)\n",
        "    input_query.extend(length_features)\n",
        "\n",
        "    # fetch fuzzy features\n",
        "    fuzzy_features = test_fetch_fuzzy_features(q1,q2)\n",
        "    input_query.extend(fuzzy_features)\n",
        "\n",
        "    # bow feature for q1\n",
        "    q1_bow = Tf.transform([q1]).toarray()\n",
        "\n",
        "    # bow feature for q2\n",
        "    q2_bow = Tf.transform([q2]).toarray()\n",
        "\n",
        "\n",
        "\n",
        "    return np.hstack((np.array(input_query).reshape(1,22),q1_bow,q2_bow))\n"
      ],
      "metadata": {
        "id": "sWJFSq9JGSeC"
      },
      "execution_count": 82,
      "outputs": []
    },
    {
      "cell_type": "code",
      "source": [
        "q1 = 'Where is the capital of India?'\n",
        "q2 = 'What is the current capital of Pakistan?'\n",
        "q3 = 'Which city serves as the capital of India?'\n",
        "q4 = 'What is the business capital of India?'\n",
        "q5 = 'What is the business capital of Pakistan?'\n",
        "\n"
      ],
      "metadata": {
        "id": "oEqHQIf-FsYo"
      },
      "execution_count": 87,
      "outputs": []
    },
    {
      "cell_type": "markdown",
      "source": [
        "# with bow and models"
      ],
      "metadata": {
        "id": "KcGJwpJlt4Qk"
      }
    },
    {
      "cell_type": "code",
      "source": [
        "display(rf.predict(query_point_creator(q1,q2)))\n",
        "display(xgb.predict(query_point_creator(q1,q2)))"
      ],
      "metadata": {
        "colab": {
          "base_uri": "https://localhost:8080/",
          "height": 52
        },
        "id": "Dyyr9Mu2FuVn",
        "outputId": "39b51fb7-17f4-4aa8-cc96-ed63ef713ed7"
      },
      "execution_count": null,
      "outputs": [
        {
          "output_type": "display_data",
          "data": {
            "text/plain": [
              "array([0])"
            ]
          },
          "metadata": {}
        },
        {
          "output_type": "display_data",
          "data": {
            "text/plain": [
              "array([1])"
            ]
          },
          "metadata": {}
        }
      ]
    },
    {
      "cell_type": "code",
      "source": [
        "display(rf.predict(query_point_creator(q2,q4)))\n",
        "display(xgb.predict(query_point_creator(q2,q4)))"
      ],
      "metadata": {
        "colab": {
          "base_uri": "https://localhost:8080/",
          "height": 52
        },
        "id": "xug70Mj1O_UA",
        "outputId": "9b0d5a2c-dd23-4e42-e712-1a33d1af11b8"
      },
      "execution_count": null,
      "outputs": [
        {
          "output_type": "display_data",
          "data": {
            "text/plain": [
              "array([0])"
            ]
          },
          "metadata": {}
        },
        {
          "output_type": "display_data",
          "data": {
            "text/plain": [
              "array([0])"
            ]
          },
          "metadata": {}
        }
      ]
    },
    {
      "cell_type": "code",
      "source": [
        "display(rf.predict(query_point_creator(q1,q2)))\n",
        "display(xgb.predict(query_point_creator(q1,q2)))"
      ],
      "metadata": {
        "colab": {
          "base_uri": "https://localhost:8080/",
          "height": 52
        },
        "id": "OAFYZixQQYK_",
        "outputId": "e5efda60-5c25-47d3-8a26-2fa10fbfb6a4"
      },
      "execution_count": null,
      "outputs": [
        {
          "output_type": "display_data",
          "data": {
            "text/plain": [
              "array([0])"
            ]
          },
          "metadata": {}
        },
        {
          "output_type": "display_data",
          "data": {
            "text/plain": [
              "array([1])"
            ]
          },
          "metadata": {}
        }
      ]
    },
    {
      "cell_type": "markdown",
      "source": [
        "# with tfidf and models"
      ],
      "metadata": {
        "id": "WhQCWLLqt-ck"
      }
    },
    {
      "cell_type": "code",
      "source": [
        "display(rf_tf.predict(query_point_creator(q1,q2)))\n",
        "display(xgb_tf.predict(query_point_creator(q1,q2)))"
      ],
      "metadata": {
        "colab": {
          "base_uri": "https://localhost:8080/",
          "height": 52
        },
        "id": "oBxx8u65t9CM",
        "outputId": "eb655d7a-7e45-493b-e6f4-3ed44f8d272e"
      },
      "execution_count": 84,
      "outputs": [
        {
          "output_type": "display_data",
          "data": {
            "text/plain": [
              "array([0])"
            ]
          },
          "metadata": {}
        },
        {
          "output_type": "display_data",
          "data": {
            "text/plain": [
              "array([0])"
            ]
          },
          "metadata": {}
        }
      ]
    },
    {
      "cell_type": "code",
      "source": [
        "display(rf_tf.predict(query_point_creator(q2,q4)))\n",
        "display(xgb_tf.predict(query_point_creator(q2,q4)))"
      ],
      "metadata": {
        "colab": {
          "base_uri": "https://localhost:8080/",
          "height": 52
        },
        "id": "QZPSqfy5u2uK",
        "outputId": "d27e9b1a-0a06-4cda-91ca-27f1b52b76ca"
      },
      "execution_count": 85,
      "outputs": [
        {
          "output_type": "display_data",
          "data": {
            "text/plain": [
              "array([0])"
            ]
          },
          "metadata": {}
        },
        {
          "output_type": "display_data",
          "data": {
            "text/plain": [
              "array([0])"
            ]
          },
          "metadata": {}
        }
      ]
    },
    {
      "cell_type": "code",
      "source": [
        "display(rf_tf.predict(query_point_creator(q1,q3)))\n",
        "display(xgb_tf.predict(query_point_creator(q1,q3)))"
      ],
      "metadata": {
        "colab": {
          "base_uri": "https://localhost:8080/",
          "height": 52
        },
        "id": "kIq68kgJvNWo",
        "outputId": "895750a2-6b11-4a8c-e39f-00bbf3c047cb"
      },
      "execution_count": 86,
      "outputs": [
        {
          "output_type": "display_data",
          "data": {
            "text/plain": [
              "array([1])"
            ]
          },
          "metadata": {}
        },
        {
          "output_type": "display_data",
          "data": {
            "text/plain": [
              "array([1])"
            ]
          },
          "metadata": {}
        }
      ]
    },
    {
      "cell_type": "code",
      "source": [
        "display(rf_tf.predict(query_point_creator(q2,q5)))\n",
        "display(xgb_tf.predict(query_point_creator(q5,q2)))"
      ],
      "metadata": {
        "colab": {
          "base_uri": "https://localhost:8080/",
          "height": 52
        },
        "id": "UJt69CL0vfno",
        "outputId": "747c7e8c-0f80-4f51-e9b2-db0a0ad03e82"
      },
      "execution_count": 88,
      "outputs": [
        {
          "output_type": "display_data",
          "data": {
            "text/plain": [
              "array([1])"
            ]
          },
          "metadata": {}
        },
        {
          "output_type": "display_data",
          "data": {
            "text/plain": [
              "array([1])"
            ]
          },
          "metadata": {}
        }
      ]
    },
    {
      "cell_type": "code",
      "source": [],
      "metadata": {
        "id": "7Ueia082vEUX"
      },
      "execution_count": null,
      "outputs": []
    },
    {
      "cell_type": "code",
      "execution_count": null,
      "metadata": {
        "colab": {
          "base_uri": "https://localhost:8080/"
        },
        "id": "blGWIgHY1ncO",
        "outputId": "356a76c5-1159-4447-ce62-1983f40e254c"
      },
      "outputs": [
        {
          "output_type": "stream",
          "name": "stdout",
          "text": [
            "Total number of Unique Questions are: 40098\n",
            "\n",
            "Number of unique questions that appear more than one time: 2794 (6.97%)\n",
            "\n",
            "Max number of times a single question is repeated: 8\n",
            "\n",
            "2374      8\n",
            "11264     8\n",
            "11397     7\n",
            "2439      7\n",
            "25163     7\n",
            "         ..\n",
            "199747    1\n",
            "258433    1\n",
            "26798     1\n",
            "440136    1\n",
            "436916    1\n",
            "Length: 40098, dtype: int64\n"
          ]
        }
      ],
      "source": [
        "#Creating a dataframe that contains the question ID of both qid1 and qid2\n",
        "qids = pd.Series(list(df['qid1']) + list(df['qid2']))\n",
        "\n",
        "#Counting the total number of unique questions\n",
        "unique_qs = len(np.unique(qids))\n",
        "print('Total number of Unique Questions are: {}\\n'.format(unique_qs))\n",
        "\n",
        "#Counting the number of unique questions that appear more than once\n",
        "qs_morethan_onetime = np.sum(qids.value_counts() > 1)\n",
        "percentage = round(qs_morethan_onetime / unique_qs * 100, 2)\n",
        "print('Number of unique questions that appear more than one time: {} ({}%)\\n'.format(qs_morethan_onetime, percentage))\n",
        "\n",
        "#Finding the maximum number of times a single question is repeated\n",
        "max_repeated = max(qids.value_counts())\n",
        "print('Max number of times a single question is repeated: {}\\n'.format(max_repeated))\n",
        "\n",
        "#Printing the frequency of all questions\n",
        "q_vals = qids.value_counts()\n",
        "print(q_vals)"
      ]
    },
    {
      "cell_type": "code",
      "source": [],
      "metadata": {
        "id": "iMot3pJ4qXsA"
      },
      "execution_count": null,
      "outputs": []
    }
  ],
  "metadata": {
    "colab": {
      "provenance": []
    },
    "kernelspec": {
      "display_name": "Python 3",
      "name": "python3"
    },
    "language_info": {
      "name": "python"
    }
  },
  "nbformat": 4,
  "nbformat_minor": 0
}