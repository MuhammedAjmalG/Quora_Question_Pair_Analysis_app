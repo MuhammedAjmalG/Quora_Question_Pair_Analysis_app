{
  "nbformat": 4,
  "nbformat_minor": 0,
  "metadata": {
    "colab": {
      "provenance": []
    },
    "kernelspec": {
      "name": "python3",
      "display_name": "Python 3"
    },
    "language_info": {
      "name": "python"
    }
  },
  "cells": [
    {
      "cell_type": "code",
      "execution_count": null,
      "metadata": {
        "id": "-FpPxwe_gZ94"
      },
      "outputs": [],
      "source": [
        "# load the dataset\n",
        "import pandas as pd\n",
        "import numpy as np"
      ]
    },
    {
      "cell_type": "code",
      "source": [
        "df = pd.read_csv(\"/content/drive/MyDrive/quora/data/processed_datase.csv\")\n",
        "df.head(3)"
      ],
      "metadata": {
        "colab": {
          "base_uri": "https://localhost:8080/",
          "height": 289
        },
        "id": "K6Xa3sKShIYh",
        "outputId": "24144132-b64c-468d-ed50-0554848100c8"
      },
      "execution_count": null,
      "outputs": [
        {
          "output_type": "execute_result",
          "data": {
            "text/plain": [
              "   is_duplicate                cleanQ1_stem          cleanQ2_stem  que1_len  \\\n",
              "0             0  exampl artificial satellit   artificial satellit        26   \n",
              "1             0            term govern mean  term govern 2 0 mean        16   \n",
              "2             0         usda constitutional             usda loan        19   \n",
              "\n",
              "   que2_len  que1_num_words  que2_num_words  total_words  common_words  \\\n",
              "0        19               3               2            5             2   \n",
              "1        20               3               5            8             1   \n",
              "2         9               2               2            4             2   \n",
              "\n",
              "   shared_words  ...   ctc_max  last_word_eq  first_word_eq  abs_len_diff  \\\n",
              "0          0.40  ...  0.571420           1.0            1.0           1.0   \n",
              "1          0.12  ...  0.749991           1.0            1.0           2.0   \n",
              "2          0.50  ...  0.399992           0.0            0.0           0.0   \n",
              "\n",
              "   mean_len  long_substr_ratio  fuzz_ratio  fuzz_partial_ratio  \\\n",
              "0       2.5           0.050000          84                 100   \n",
              "1       4.0           0.058824          89                  75   \n",
              "2       2.0           0.100000          50                  78   \n",
              "\n",
              "   token_sort_ratio  token_set_ratio  \n",
              "0                84              100  \n",
              "1                89              100  \n",
              "2                50               62  \n",
              "\n",
              "[3 rows x 25 columns]"
            ],
            "text/html": [
              "\n",
              "  <div id=\"df-13a1f80b-288e-4ba4-9b48-abaebe6173ba\">\n",
              "    <div class=\"colab-df-container\">\n",
              "      <div>\n",
              "<style scoped>\n",
              "    .dataframe tbody tr th:only-of-type {\n",
              "        vertical-align: middle;\n",
              "    }\n",
              "\n",
              "    .dataframe tbody tr th {\n",
              "        vertical-align: top;\n",
              "    }\n",
              "\n",
              "    .dataframe thead th {\n",
              "        text-align: right;\n",
              "    }\n",
              "</style>\n",
              "<table border=\"1\" class=\"dataframe\">\n",
              "  <thead>\n",
              "    <tr style=\"text-align: right;\">\n",
              "      <th></th>\n",
              "      <th>is_duplicate</th>\n",
              "      <th>cleanQ1_stem</th>\n",
              "      <th>cleanQ2_stem</th>\n",
              "      <th>que1_len</th>\n",
              "      <th>que2_len</th>\n",
              "      <th>que1_num_words</th>\n",
              "      <th>que2_num_words</th>\n",
              "      <th>total_words</th>\n",
              "      <th>common_words</th>\n",
              "      <th>shared_words</th>\n",
              "      <th>...</th>\n",
              "      <th>ctc_max</th>\n",
              "      <th>last_word_eq</th>\n",
              "      <th>first_word_eq</th>\n",
              "      <th>abs_len_diff</th>\n",
              "      <th>mean_len</th>\n",
              "      <th>long_substr_ratio</th>\n",
              "      <th>fuzz_ratio</th>\n",
              "      <th>fuzz_partial_ratio</th>\n",
              "      <th>token_sort_ratio</th>\n",
              "      <th>token_set_ratio</th>\n",
              "    </tr>\n",
              "  </thead>\n",
              "  <tbody>\n",
              "    <tr>\n",
              "      <th>0</th>\n",
              "      <td>0</td>\n",
              "      <td>exampl artificial satellit</td>\n",
              "      <td>artificial satellit</td>\n",
              "      <td>26</td>\n",
              "      <td>19</td>\n",
              "      <td>3</td>\n",
              "      <td>2</td>\n",
              "      <td>5</td>\n",
              "      <td>2</td>\n",
              "      <td>0.40</td>\n",
              "      <td>...</td>\n",
              "      <td>0.571420</td>\n",
              "      <td>1.0</td>\n",
              "      <td>1.0</td>\n",
              "      <td>1.0</td>\n",
              "      <td>2.5</td>\n",
              "      <td>0.050000</td>\n",
              "      <td>84</td>\n",
              "      <td>100</td>\n",
              "      <td>84</td>\n",
              "      <td>100</td>\n",
              "    </tr>\n",
              "    <tr>\n",
              "      <th>1</th>\n",
              "      <td>0</td>\n",
              "      <td>term govern mean</td>\n",
              "      <td>term govern 2 0 mean</td>\n",
              "      <td>16</td>\n",
              "      <td>20</td>\n",
              "      <td>3</td>\n",
              "      <td>5</td>\n",
              "      <td>8</td>\n",
              "      <td>1</td>\n",
              "      <td>0.12</td>\n",
              "      <td>...</td>\n",
              "      <td>0.749991</td>\n",
              "      <td>1.0</td>\n",
              "      <td>1.0</td>\n",
              "      <td>2.0</td>\n",
              "      <td>4.0</td>\n",
              "      <td>0.058824</td>\n",
              "      <td>89</td>\n",
              "      <td>75</td>\n",
              "      <td>89</td>\n",
              "      <td>100</td>\n",
              "    </tr>\n",
              "    <tr>\n",
              "      <th>2</th>\n",
              "      <td>0</td>\n",
              "      <td>usda constitutional</td>\n",
              "      <td>usda loan</td>\n",
              "      <td>19</td>\n",
              "      <td>9</td>\n",
              "      <td>2</td>\n",
              "      <td>2</td>\n",
              "      <td>4</td>\n",
              "      <td>2</td>\n",
              "      <td>0.50</td>\n",
              "      <td>...</td>\n",
              "      <td>0.399992</td>\n",
              "      <td>0.0</td>\n",
              "      <td>0.0</td>\n",
              "      <td>0.0</td>\n",
              "      <td>2.0</td>\n",
              "      <td>0.100000</td>\n",
              "      <td>50</td>\n",
              "      <td>78</td>\n",
              "      <td>50</td>\n",
              "      <td>62</td>\n",
              "    </tr>\n",
              "  </tbody>\n",
              "</table>\n",
              "<p>3 rows × 25 columns</p>\n",
              "</div>\n",
              "      <button class=\"colab-df-convert\" onclick=\"convertToInteractive('df-13a1f80b-288e-4ba4-9b48-abaebe6173ba')\"\n",
              "              title=\"Convert this dataframe to an interactive table.\"\n",
              "              style=\"display:none;\">\n",
              "        \n",
              "  <svg xmlns=\"http://www.w3.org/2000/svg\" height=\"24px\"viewBox=\"0 0 24 24\"\n",
              "       width=\"24px\">\n",
              "    <path d=\"M0 0h24v24H0V0z\" fill=\"none\"/>\n",
              "    <path d=\"M18.56 5.44l.94 2.06.94-2.06 2.06-.94-2.06-.94-.94-2.06-.94 2.06-2.06.94zm-11 1L8.5 8.5l.94-2.06 2.06-.94-2.06-.94L8.5 2.5l-.94 2.06-2.06.94zm10 10l.94 2.06.94-2.06 2.06-.94-2.06-.94-.94-2.06-.94 2.06-2.06.94z\"/><path d=\"M17.41 7.96l-1.37-1.37c-.4-.4-.92-.59-1.43-.59-.52 0-1.04.2-1.43.59L10.3 9.45l-7.72 7.72c-.78.78-.78 2.05 0 2.83L4 21.41c.39.39.9.59 1.41.59.51 0 1.02-.2 1.41-.59l7.78-7.78 2.81-2.81c.8-.78.8-2.07 0-2.86zM5.41 20L4 18.59l7.72-7.72 1.47 1.35L5.41 20z\"/>\n",
              "  </svg>\n",
              "      </button>\n",
              "      \n",
              "  <style>\n",
              "    .colab-df-container {\n",
              "      display:flex;\n",
              "      flex-wrap:wrap;\n",
              "      gap: 12px;\n",
              "    }\n",
              "\n",
              "    .colab-df-convert {\n",
              "      background-color: #E8F0FE;\n",
              "      border: none;\n",
              "      border-radius: 50%;\n",
              "      cursor: pointer;\n",
              "      display: none;\n",
              "      fill: #1967D2;\n",
              "      height: 32px;\n",
              "      padding: 0 0 0 0;\n",
              "      width: 32px;\n",
              "    }\n",
              "\n",
              "    .colab-df-convert:hover {\n",
              "      background-color: #E2EBFA;\n",
              "      box-shadow: 0px 1px 2px rgba(60, 64, 67, 0.3), 0px 1px 3px 1px rgba(60, 64, 67, 0.15);\n",
              "      fill: #174EA6;\n",
              "    }\n",
              "\n",
              "    [theme=dark] .colab-df-convert {\n",
              "      background-color: #3B4455;\n",
              "      fill: #D2E3FC;\n",
              "    }\n",
              "\n",
              "    [theme=dark] .colab-df-convert:hover {\n",
              "      background-color: #434B5C;\n",
              "      box-shadow: 0px 1px 3px 1px rgba(0, 0, 0, 0.15);\n",
              "      filter: drop-shadow(0px 1px 2px rgba(0, 0, 0, 0.3));\n",
              "      fill: #FFFFFF;\n",
              "    }\n",
              "  </style>\n",
              "\n",
              "      <script>\n",
              "        const buttonEl =\n",
              "          document.querySelector('#df-13a1f80b-288e-4ba4-9b48-abaebe6173ba button.colab-df-convert');\n",
              "        buttonEl.style.display =\n",
              "          google.colab.kernel.accessAllowed ? 'block' : 'none';\n",
              "\n",
              "        async function convertToInteractive(key) {\n",
              "          const element = document.querySelector('#df-13a1f80b-288e-4ba4-9b48-abaebe6173ba');\n",
              "          const dataTable =\n",
              "            await google.colab.kernel.invokeFunction('convertToInteractive',\n",
              "                                                     [key], {});\n",
              "          if (!dataTable) return;\n",
              "\n",
              "          const docLinkHtml = 'Like what you see? Visit the ' +\n",
              "            '<a target=\"_blank\" href=https://colab.research.google.com/notebooks/data_table.ipynb>data table notebook</a>'\n",
              "            + ' to learn more about interactive tables.';\n",
              "          element.innerHTML = '';\n",
              "          dataTable['output_type'] = 'display_data';\n",
              "          await google.colab.output.renderOutput(dataTable, element);\n",
              "          const docLink = document.createElement('div');\n",
              "          docLink.innerHTML = docLinkHtml;\n",
              "          element.appendChild(docLink);\n",
              "        }\n",
              "      </script>\n",
              "    </div>\n",
              "  </div>\n",
              "  "
            ]
          },
          "metadata": {},
          "execution_count": 2
        }
      ]
    },
    {
      "cell_type": "code",
      "source": [
        "df.isna().sum()"
      ],
      "metadata": {
        "colab": {
          "base_uri": "https://localhost:8080/"
        },
        "id": "_r2QwKwKhiFR",
        "outputId": "f722d4dd-8e2b-4c4a-de3e-74aeeb96fcc3"
      },
      "execution_count": null,
      "outputs": [
        {
          "output_type": "execute_result",
          "data": {
            "text/plain": [
              "is_duplicate           0\n",
              "cleanQ1_stem          37\n",
              "cleanQ2_stem          35\n",
              "que1_len               0\n",
              "que2_len               0\n",
              "que1_num_words         0\n",
              "que2_num_words         0\n",
              "total_words            0\n",
              "common_words           0\n",
              "shared_words           0\n",
              "cwc_min                0\n",
              "cwc_max                0\n",
              "csc_min                0\n",
              "csc_max                0\n",
              "ctc_min                0\n",
              "ctc_max                0\n",
              "last_word_eq           0\n",
              "first_word_eq          0\n",
              "abs_len_diff           0\n",
              "mean_len               0\n",
              "long_substr_ratio      0\n",
              "fuzz_ratio             0\n",
              "fuzz_partial_ratio     0\n",
              "token_sort_ratio       0\n",
              "token_set_ratio        0\n",
              "dtype: int64"
            ]
          },
          "metadata": {},
          "execution_count": 3
        }
      ]
    },
    {
      "cell_type": "code",
      "source": [
        "df.dropna(inplace=True)\n",
        "df.isna().sum()"
      ],
      "metadata": {
        "id": "9uR0X5SghmcD",
        "colab": {
          "base_uri": "https://localhost:8080/"
        },
        "outputId": "cd5d13d9-84a5-4a8c-b64c-1593d57e0ab9"
      },
      "execution_count": null,
      "outputs": [
        {
          "output_type": "execute_result",
          "data": {
            "text/plain": [
              "is_duplicate          0\n",
              "cleanQ1_stem          0\n",
              "cleanQ2_stem          0\n",
              "que1_len              0\n",
              "que2_len              0\n",
              "que1_num_words        0\n",
              "que2_num_words        0\n",
              "total_words           0\n",
              "common_words          0\n",
              "shared_words          0\n",
              "cwc_min               0\n",
              "cwc_max               0\n",
              "csc_min               0\n",
              "csc_max               0\n",
              "ctc_min               0\n",
              "ctc_max               0\n",
              "last_word_eq          0\n",
              "first_word_eq         0\n",
              "abs_len_diff          0\n",
              "mean_len              0\n",
              "long_substr_ratio     0\n",
              "fuzz_ratio            0\n",
              "fuzz_partial_ratio    0\n",
              "token_sort_ratio      0\n",
              "token_set_ratio       0\n",
              "dtype: int64"
            ]
          },
          "metadata": {},
          "execution_count": 4
        }
      ]
    },
    {
      "cell_type": "code",
      "source": [
        "df.duplicated().sum()"
      ],
      "metadata": {
        "colab": {
          "base_uri": "https://localhost:8080/"
        },
        "id": "f8DDwbQdiYPS",
        "outputId": "e47b9163-6292-4b52-85bb-3d5543327bf0"
      },
      "execution_count": null,
      "outputs": [
        {
          "output_type": "execute_result",
          "data": {
            "text/plain": [
              "1977"
            ]
          },
          "metadata": {},
          "execution_count": 5
        }
      ]
    },
    {
      "cell_type": "code",
      "source": [
        "df.drop_duplicates(inplace=True)\n",
        "df.duplicated().sum()"
      ],
      "metadata": {
        "colab": {
          "base_uri": "https://localhost:8080/"
        },
        "id": "naAxkbXEio_I",
        "outputId": "8bf1fb61-7216-4584-81a7-f9e59d279893"
      },
      "execution_count": null,
      "outputs": [
        {
          "output_type": "execute_result",
          "data": {
            "text/plain": [
              "0"
            ]
          },
          "metadata": {},
          "execution_count": 6
        }
      ]
    },
    {
      "cell_type": "code",
      "source": [
        "df.shape"
      ],
      "metadata": {
        "colab": {
          "base_uri": "https://localhost:8080/"
        },
        "id": "QbXPDvVTizAj",
        "outputId": "a713316c-ecdd-4cdb-93c3-656f5d59ca52"
      },
      "execution_count": null,
      "outputs": [
        {
          "output_type": "execute_result",
          "data": {
            "text/plain": [
              "(295794, 25)"
            ]
          },
          "metadata": {},
          "execution_count": 7
        }
      ]
    },
    {
      "cell_type": "code",
      "source": [
        "df.dtypes"
      ],
      "metadata": {
        "colab": {
          "base_uri": "https://localhost:8080/"
        },
        "id": "7rjYwW8Ai2P_",
        "outputId": "849c5006-f796-493f-d8be-f5756687a274"
      },
      "execution_count": null,
      "outputs": [
        {
          "output_type": "execute_result",
          "data": {
            "text/plain": [
              "is_duplicate            int64\n",
              "cleanQ1_stem           object\n",
              "cleanQ2_stem           object\n",
              "que1_len                int64\n",
              "que2_len                int64\n",
              "que1_num_words          int64\n",
              "que2_num_words          int64\n",
              "total_words             int64\n",
              "common_words            int64\n",
              "shared_words          float64\n",
              "cwc_min               float64\n",
              "cwc_max               float64\n",
              "csc_min               float64\n",
              "csc_max               float64\n",
              "ctc_min               float64\n",
              "ctc_max               float64\n",
              "last_word_eq          float64\n",
              "first_word_eq         float64\n",
              "abs_len_diff          float64\n",
              "mean_len              float64\n",
              "long_substr_ratio     float64\n",
              "fuzz_ratio              int64\n",
              "fuzz_partial_ratio      int64\n",
              "token_sort_ratio        int64\n",
              "token_set_ratio         int64\n",
              "dtype: object"
            ]
          },
          "metadata": {},
          "execution_count": 8
        }
      ]
    },
    {
      "cell_type": "markdown",
      "source": [
        "# lets divide the data into train and test"
      ],
      "metadata": {
        "id": "xMq-znbBjAtj"
      }
    },
    {
      "cell_type": "code",
      "source": [
        "X=df.drop('is_duplicate', axis=1)\n",
        "y=df['is_duplicate']\n",
        "print(X.shape, y.shape)"
      ],
      "metadata": {
        "colab": {
          "base_uri": "https://localhost:8080/"
        },
        "id": "EauxD74zi6ZE",
        "outputId": "26359d0f-fe9f-4041-dff6-5235bcffabf0"
      },
      "execution_count": null,
      "outputs": [
        {
          "output_type": "stream",
          "name": "stdout",
          "text": [
            "(295794, 24) (295794,)\n"
          ]
        }
      ]
    },
    {
      "cell_type": "code",
      "source": [
        "from sklearn.model_selection import train_test_split\n",
        "x_train, x_test, y_train, y_test = train_test_split(X, y, test_size=0.2, random_state=42)\n",
        "print(x_train.shape, y_train.shape,x_test.shape,y_test.shape)"
      ],
      "metadata": {
        "colab": {
          "base_uri": "https://localhost:8080/"
        },
        "id": "GgLlTW6SjPhN",
        "outputId": "b8de5cab-ce3f-4226-cd64-b4d76bba3286"
      },
      "execution_count": null,
      "outputs": [
        {
          "output_type": "stream",
          "name": "stdout",
          "text": [
            "(236635, 24) (236635,) (59159, 24) (59159,)\n"
          ]
        }
      ]
    },
    {
      "cell_type": "code",
      "source": [
        "questions_train=list(x_train['cleanQ1_stem'])+list(x_train['cleanQ2_stem'])\n",
        "questions_test=list(x_test['cleanQ1_stem'])+list(x_test['cleanQ2_stem'])\n",
        "questions_test[:5]"
      ],
      "metadata": {
        "colab": {
          "base_uri": "https://localhost:8080/"
        },
        "id": "A9kV1H3KsLoL",
        "outputId": "dd6d1638-cb75-43be-95a4-d35d42dda4bc"
      },
      "execution_count": null,
      "outputs": [
        {
          "output_type": "execute_result",
          "data": {
            "text/plain": [
              "['histori dish general tso chicken',\n",
              " 'china succeed copi',\n",
              " 'happen dog eat pud',\n",
              " 'worth learn program wordpress',\n",
              " 'write cursive capit q']"
            ]
          },
          "metadata": {},
          "execution_count": 11
        }
      ]
    },
    {
      "cell_type": "code",
      "source": [
        "extracted_features=['que1_len', 'que2_len',\n",
        "       'que1_num_words', 'que2_num_words', 'total_words', 'common_words',\n",
        "       'shared_words', 'cwc_min', 'cwc_max', 'csc_min', 'csc_max', 'ctc_min',\n",
        "       'ctc_max', 'last_word_eq', 'first_word_eq', 'abs_len_diff', 'mean_len',\n",
        "       'long_substr_ratio', 'fuzz_ratio', 'fuzz_partial_ratio',\n",
        "       'token_sort_ratio', 'token_set_ratio']\n",
        "extracted_features_train=x_train[extracted_features]\n",
        "extracted_features_test=x_test[extracted_features]"
      ],
      "metadata": {
        "id": "OI_BVhnbujzM"
      },
      "execution_count": null,
      "outputs": []
    },
    {
      "cell_type": "markdown",
      "source": [
        "# Bow Building"
      ],
      "metadata": {
        "id": "Ct1obwekmKmc"
      }
    },
    {
      "cell_type": "markdown",
      "source": [
        "# for X_train"
      ],
      "metadata": {
        "id": "usCxCouunz7K"
      }
    },
    {
      "cell_type": "code",
      "source": [
        "from sklearn.feature_extraction.text import CountVectorizer\n",
        "cnv=CountVectorizer(ngram_range=(1, 2), max_features = 3000)\n",
        "cnv_fit=cnv.fit(questions_train)\n",
        "x_train_ques=cnv_fit.transform(questions_train)\n",
        "q1_array=x_train_ques[:(x_train_ques.shape[0]//2),]  #Vector containing question1\n",
        "q2_array=x_train_ques[(x_train_ques.shape[0]//2):,]  #Vector containing question2"
      ],
      "metadata": {
        "id": "97LyjSsXlszI"
      },
      "execution_count": null,
      "outputs": []
    },
    {
      "cell_type": "code",
      "source": [
        "pickle.dump(cnv_fit,open('/content/drive/MyDrive/quora/models/cnv_fit.pkl','wb'))"
      ],
      "metadata": {
        "id": "rfh-P71OCDzG"
      },
      "execution_count": null,
      "outputs": []
    },
    {
      "cell_type": "code",
      "source": [
        "from scipy.sparse import hstack\n",
        "x_train_tf = hstack((q1_array, q2_array, extracted_features_train))  #Concatenating as a single Vector\n",
        "print(\"X train Transformed Shape\", x_train_tf.shape)\n",
        "print(\"y train Shape\", y_train.shape)"
      ],
      "metadata": {
        "colab": {
          "base_uri": "https://localhost:8080/"
        },
        "id": "cQkeaUn2p_si",
        "outputId": "710f0a22-67b6-49a8-c338-b9639b8465b2"
      },
      "execution_count": null,
      "outputs": [
        {
          "output_type": "stream",
          "name": "stdout",
          "text": [
            "X train Transformed Shape (236635, 6022)\n",
            "y train Shape (236635,)\n"
          ]
        }
      ]
    },
    {
      "cell_type": "markdown",
      "source": [
        "# same for x_test"
      ],
      "metadata": {
        "id": "NS0RGP8fvZHz"
      }
    },
    {
      "cell_type": "code",
      "source": [
        "x_test_ques=cnv_fit.transform(questions_test)\n",
        "q1_array=x_test_ques[:(x_test_ques.shape[0]//2),]\n",
        "q2_array=x_test_ques[(x_test_ques.shape[0]//2):,]\n",
        "x_test_tf = hstack((q1_array, q2_array, extracted_features_test))\n",
        "print(\"X test Transformed Shape\", x_test_tf.shape)\n",
        "print(\"y test Shape\", y_test.shape)"
      ],
      "metadata": {
        "colab": {
          "base_uri": "https://localhost:8080/"
        },
        "id": "IlnXDitHvYfL",
        "outputId": "174e2648-8424-4947-abd5-aef03693f18a"
      },
      "execution_count": null,
      "outputs": [
        {
          "output_type": "stream",
          "name": "stdout",
          "text": [
            "X test Transformed Shape (59159, 6022)\n",
            "y test Shape (59159,)\n"
          ]
        }
      ]
    },
    {
      "cell_type": "code",
      "source": [
        "len(cnv.vocabulary_)\n"
      ],
      "metadata": {
        "colab": {
          "base_uri": "https://localhost:8080/"
        },
        "id": "ih2DYrArvibs",
        "outputId": "fecf232f-172e-4f59-f316-f4f9ea0d6eba"
      },
      "execution_count": null,
      "outputs": [
        {
          "output_type": "execute_result",
          "data": {
            "text/plain": [
              "3000"
            ]
          },
          "metadata": {},
          "execution_count": 16
        }
      ]
    },
    {
      "cell_type": "code",
      "source": [
        "import seaborn as sns\n",
        "import matplotlib.pyplot as plt"
      ],
      "metadata": {
        "id": "rx4eg5YYyX_0"
      },
      "execution_count": null,
      "outputs": []
    },
    {
      "cell_type": "markdown",
      "source": [
        "# model building\n",
        "- 1. XG boost"
      ],
      "metadata": {
        "id": "6SWNsNFdv_mC"
      }
    },
    {
      "cell_type": "code",
      "source": [
        "from xgboost import XGBClassifier\n",
        "from sklearn.metrics import classification_report, accuracy_score, recall_score, f1_score, precision_score, confusion_matrix\n",
        "import pickle\n",
        "\n",
        "xgb_classifier=XGBClassifier()\n",
        "xgb_classifier.fit(x_train_tf,y_train)\n",
        "pickle.dump(xgb_classifier, open(\"/content/drive/MyDrive/quora/models/xgboost_cnt.pkl\",\"wb\"))\n",
        "\n",
        "y_pred=xgb_classifier.predict(x_test_tf)\n",
        "acc=accuracy_score(y_test,y_pred)\n",
        "precision=precision_score(y_test,y_pred)\n",
        "recall=recall_score(y_test,y_pred)\n",
        "f1=f1_score(y_test,y_pred)\n",
        "\n",
        "print(\"----------------------------------------------------------\")\n",
        "print(\"Acuuracy={}\\nPrecission={}\\nRecall={}\\nF1 Score={}\".format(acc, precision, recall, f1))\n",
        "print(\"----------------------------------------------------------\")\n",
        "print(\"Confusion Matrix=\\n\")\n",
        "sns.heatmap(confusion_matrix(y_test,y_pred), annot=True, annot_kws={\"fontsize\":15}, linewidths=5, linecolor='blue',\n",
        "            yticklabels=[\"Non-Duplicate\",\"Duplicate\"], xticklabels=[\"Non-Duplicate\",\"Duplicate\"], cbar=None, fmt='g')\n",
        "plt.xlabel(\"Predicted\",fontsize=18)\n",
        "plt.ylabel(\"Actual\",fontsize=18)\n",
        "plt.savefig(\"/content/drive/MyDrive/quora/data/figures/xgboost_cnt_conf_matrix.png\")\n",
        "plt.show()\n",
        "print(\"----------------------------------------------------------\")\n",
        "print(\"Out of {} testing values {} are mis-classified.\".format(y_test.shape[0], sum(y_test!=y_pred)))\n",
        "print(\"----------------------------------------------------------\")\n",
        "print(\"Classification Report=\\n\", classification_report(y_test,y_pred))\n",
        "print(\"----------------------------------------------------------\")\n"
      ],
      "metadata": {
        "colab": {
          "base_uri": "https://localhost:8080/",
          "height": 841
        },
        "id": "HlylNkXdx4G0",
        "outputId": "48429550-0fd6-4fdc-c45c-c47d4d152fa3"
      },
      "execution_count": null,
      "outputs": [
        {
          "output_type": "stream",
          "name": "stdout",
          "text": [
            "----------------------------------------------------------\n",
            "Acuuracy=0.7994388005206309\n",
            "Precission=0.7595913934305927\n",
            "Recall=0.8756429344883595\n",
            "F1 Score=0.8134991119005329\n",
            "----------------------------------------------------------\n",
            "Confusion Matrix=\n",
            "\n"
          ]
        },
        {
          "output_type": "display_data",
          "data": {
            "text/plain": [
              "<Figure size 640x480 with 1 Axes>"
            ],
            "image/png": "[encoded data removed]"
          },
          "metadata": {}
        },
        {
          "output_type": "stream",
          "name": "stdout",
          "text": [
            "----------------------------------------------------------\n",
            "Out of 59159 testing values 11865 are mis-classified.\n",
            "----------------------------------------------------------\n",
            "Classification Report=\n",
            "               precision    recall  f1-score   support\n",
            "\n",
            "           0       0.85      0.72      0.78     29607\n",
            "           1       0.76      0.88      0.81     29552\n",
            "\n",
            "    accuracy                           0.80     59159\n",
            "   macro avg       0.81      0.80      0.80     59159\n",
            "weighted avg       0.81      0.80      0.80     59159\n",
            "\n",
            "----------------------------------------------------------\n"
          ]
        }
      ]
    },
    {
      "cell_type": "markdown",
      "source": [
        "Findings:\n",
        "\n",
        "1. The XG Boost Classifier achieves an accuracy of 80%.\n",
        "2. Among the predicted non-duplicate class, 85% are accurately classified, while among the predicted duplicate class, 76% are accurately classified.\n",
        "3. 72% of the actual non-duplicate class are predicted accurately, and 88% of the actual duplicate class are predicted accurately.\n",
        "4. The f1 score for the non-duplicate class is 78%, and for the duplicate class, it is 81%.\n",
        "5. It is important to have a high f1 score for both classes.\n",
        "6. The low count of False Negatives suggests that the XGBoost model is a suitable choice.\n",
        "\n",
        "\n",
        "\n"
      ],
      "metadata": {
        "id": "9EfPsJY79IT7"
      }
    },
    {
      "cell_type": "markdown",
      "source": [
        "- 2. LogisticRegression"
      ],
      "metadata": {
        "id": "D1kC0bpkNYCW"
      }
    },
    {
      "cell_type": "code",
      "source": [
        "from sklearn.linear_model import LogisticRegression\n",
        "from sklearn.metrics import classification_report, accuracy_score, recall_score, f1_score, precision_score, confusion_matrix\n",
        "import pickle\n",
        "\n",
        "lr_classifier=LogisticRegression()\n",
        "lr_classifier.fit(x_train_tf,y_train)\n",
        "pickle.dump(lr_classifier, open(\"/content/drive/MyDrive/quora/models/lr_classifier_cnt.pkl\",\"wb\"))\n",
        "\n",
        "y_pred=lr_classifier.predict(x_test_tf)\n",
        "acc=accuracy_score(y_test,y_pred)\n",
        "precision=precision_score(y_test,y_pred)\n",
        "recall=recall_score(y_test,y_pred)\n",
        "f1=f1_score(y_test,y_pred)\n",
        "\n",
        "print(\"----------------------------------------------------------\")\n",
        "print(\"Acuuracy={}\\nPrecission={}\\nRecall={}\\nF1 Score={}\".format(acc, precision, recall, f1))\n",
        "print(\"----------------------------------------------------------\")\n",
        "print(\"Confusion Matrix=\\n\")\n",
        "sns.heatmap(confusion_matrix(y_test,y_pred), annot=True, annot_kws={\"fontsize\":15}, linewidths=5, linecolor='blue',\n",
        "            yticklabels=[\"Non-Duplicate\",\"Duplicate\"], xticklabels=[\"Non-Duplicate\",\"Duplicate\"], cbar=None, fmt='g')\n",
        "plt.xlabel(\"Predicted\",fontsize=18)\n",
        "plt.ylabel(\"Actual\",fontsize=18)\n",
        "plt.savefig(\"/content/drive/MyDrive/quora/data/figures/lr_classifier_cnt_conf_matrix.png\")\n",
        "plt.show()\n",
        "print(\"----------------------------------------------------------\")\n",
        "print(\"Out of {} testing values {} are mis-classified.\".format(y_test.shape[0], sum(y_test!=y_pred)))\n",
        "print(\"----------------------------------------------------------\")\n",
        "print(\"Classification Report=\\n\", classification_report(y_test,y_pred))\n",
        "print(\"----------------------------------------------------------\")\n"
      ],
      "metadata": {
        "colab": {
          "base_uri": "https://localhost:8080/",
          "height": 1000
        },
        "id": "gNAnH0mxOM8p",
        "outputId": "0e76aac7-2780-4fe8-9091-e24bd1c87e64"
      },
      "execution_count": null,
      "outputs": [
        {
          "output_type": "stream",
          "name": "stderr",
          "text": [
            "/usr/local/lib/python3.10/dist-packages/sklearn/linear_model/_logistic.py:458: ConvergenceWarning: lbfgs failed to converge (status=1):\n",
            "STOP: TOTAL NO. of ITERATIONS REACHED LIMIT.\n",
            "\n",
            "Increase the number of iterations (max_iter) or scale the data as shown in:\n",
            "    https://scikit-learn.org/stable/modules/preprocessing.html\n",
            "Please also refer to the documentation for alternative solver options:\n",
            "    https://scikit-learn.org/stable/modules/linear_model.html#logistic-regression\n",
            "  n_iter_i = _check_optimize_result(\n"
          ]
        },
        {
          "output_type": "stream",
          "name": "stdout",
          "text": [
            "----------------------------------------------------------\n",
            "Acuuracy=0.7261109890295644\n",
            "Precission=0.7182278894883113\n",
            "Recall=0.7433337845154304\n",
            "F1 Score=0.7305652094384488\n",
            "----------------------------------------------------------\n",
            "Confusion Matrix=\n",
            "\n"
          ]
        },
        {
          "output_type": "display_data",
          "data": {
            "text/plain": [
              "<Figure size 640x480 with 1 Axes>"
            ],
            "image/png": "[encoded data removed]"
          },
          "metadata": {}
        },
        {
          "output_type": "stream",
          "name": "stdout",
          "text": [
            "----------------------------------------------------------\n",
            "Out of 59159 testing values 16203 are mis-classified.\n",
            "----------------------------------------------------------\n",
            "Classification Report=\n",
            "               precision    recall  f1-score   support\n",
            "\n",
            "           0       0.73      0.71      0.72     29607\n",
            "           1       0.72      0.74      0.73     29552\n",
            "\n",
            "    accuracy                           0.73     59159\n",
            "   macro avg       0.73      0.73      0.73     59159\n",
            "weighted avg       0.73      0.73      0.73     59159\n",
            "\n",
            "----------------------------------------------------------\n"
          ]
        }
      ]
    },
    {
      "cell_type": "code",
      "source": [
        "from sklearn import svm\n",
        "from sklearn.metrics import classification_report, accuracy_score, recall_score, f1_score, precision_score, confusion_matrix\n",
        "import pickle\n",
        "\n",
        "svm_classifier=svm.SVC()\n",
        "svm_classifier.fit(x_train_tf,y_train)\n",
        "pickle.dump(svm_classifier, open(\"/content/drive/MyDrive/quora/models/svm_classifier_cnt.pkl\",\"wb\"))\n",
        "\n",
        "y_pred=svm_classifier.predict(x_test_tf)\n",
        "acc=accuracy_score(y_test,y_pred)\n",
        "precision=precision_score(y_test,y_pred)\n",
        "recall=recall_score(y_test,y_pred)\n",
        "f1=f1_score(y_test,y_pred)\n",
        "\n",
        "print(\"----------------------------------------------------------\")\n",
        "print(\"Acuuracy={}\\nPrecission={}\\nRecall={}\\nF1 Score={}\".format(acc, precision, recall, f1))\n",
        "print(\"----------------------------------------------------------\")\n",
        "print(\"Confusion Matrix=\\n\")\n",
        "sns.heatmap(confusion_matrix(y_test,y_pred), annot=True, annot_kws={\"fontsize\":15}, linewidths=5, linecolor='blue',\n",
        "            yticklabels=[\"Non-Duplicate\",\"Duplicate\"], xticklabels=[\"Non-Duplicate\",\"Duplicate\"], cbar=None, fmt='g')\n",
        "plt.xlabel(\"Predicted\",fontsize=18)\n",
        "plt.ylabel(\"Actual\",fontsize=18)\n",
        "plt.savefig(\"/content/drive/MyDrive/quora/data/figures/svm_classifier_cnt_conf_matrix.png\")\n",
        "plt.show()\n",
        "print(\"----------------------------------------------------------\")\n",
        "print(\"Out of {} testing values {} are mis-classified.\".format(y_test.shape[0], sum(y_test!=y_pred)))\n",
        "print(\"----------------------------------------------------------\")\n",
        "print(\"Classification Report=\\n\", classification_report(y_test,y_pred))\n",
        "print(\"----------------------------------------------------------\")\n"
      ],
      "metadata": {
        "id": "KcuTDUN6NU3w"
      },
      "execution_count": null,
      "outputs": []
    },
    {
      "cell_type": "code",
      "source": [
        "from sklearn.ensemble import GradientBoostingClassifier\n",
        "#from sklearn.metrics import classification_report, accuracy_score, recall_score, f1_score, precision_score, confusion_matrix\n",
        "#import pickle\n",
        "\n",
        "gb_classifier=GradientBoostingClassifier()\n",
        "gb_classifier.fit(x_train_tf,y_train)\n",
        "pickle.dump(gb_classifier, open(\"/content/drive/MyDrive/quora/models/gb_classifier_cnt.pkl\",\"wb\"))\n",
        "\n",
        "y_pred=gb_classifier.predict(x_test_tf)\n",
        "acc=accuracy_score(y_test,y_pred)\n",
        "precision=precision_score(y_test,y_pred)\n",
        "recall=recall_score(y_test,y_pred)\n",
        "f1=f1_score(y_test,y_pred)\n",
        "\n",
        "print(\"----------------------------------------------------------\")\n",
        "print(\"Acuuracy={}\\nPrecission={}\\nRecall={}\\nF1 Score={}\".format(acc, precision, recall, f1))\n",
        "print(\"----------------------------------------------------------\")\n",
        "print(\"Confusion Matrix=\\n\")\n",
        "sns.heatmap(confusion_matrix(y_test,y_pred), annot=True, annot_kws={\"fontsize\":15}, linewidths=5, linecolor='blue',\n",
        "            yticklabels=[\"Non-Duplicate\",\"Duplicate\"], xticklabels=[\"Non-Duplicate\",\"Duplicate\"], cbar=None, fmt='g')\n",
        "plt.xlabel(\"Predicted\",fontsize=18)\n",
        "plt.ylabel(\"Actual\",fontsize=18)\n",
        "plt.savefig(\"/content/drive/MyDrive/quora/data/figures/gb_classifier_cnt_conf_matrix.png\")\n",
        "plt.show()\n",
        "print(\"----------------------------------------------------------\")\n",
        "print(\"Out of {} testing values {} are mis-classified.\".format(y_test.shape[0], sum(y_test!=y_pred)))\n",
        "print(\"----------------------------------------------------------\")\n",
        "print(\"Classification Report=\\n\", classification_report(y_test,y_pred))\n",
        "print(\"----------------------------------------------------------\")\n"
      ],
      "metadata": {
        "id": "DaNoI2eIRCBf"
      },
      "execution_count": null,
      "outputs": []
    },
    {
      "cell_type": "markdown",
      "source": [
        "# TFIDF"
      ],
      "metadata": {
        "id": "z8rG1j2G84n9"
      }
    },
    {
      "cell_type": "markdown",
      "source": [
        "# for x train"
      ],
      "metadata": {
        "id": "0HKof6azATZ_"
      }
    },
    {
      "cell_type": "code",
      "source": [
        "from sklearn.feature_extraction.text import TfidfVectorizer\n",
        "tfidf=TfidfVectorizer(ngram_range=(1, 2),max_features=3000)\n",
        "tfidf_fit=tfidf.fit(questions_train)\n",
        "x_train_ques=tfidf_fit.transform(questions_train)\n",
        "q1_array=x_train_ques[:(x_train_ques.shape[0]//2),]  #Vector containing question1\n",
        "q2_array=x_train_ques[(x_train_ques.shape[0]//2):,]  #Vector containing question2"
      ],
      "metadata": {
        "id": "FWArqwSA84Pe"
      },
      "execution_count": null,
      "outputs": []
    },
    {
      "cell_type": "code",
      "source": [
        "x_train_tf = hstack((q1_array, q2_array, extracted_features_train))  #Concatenating as a single Vector\n",
        "print(\"X train Transformed Shape\", x_train_tf.shape)\n",
        "print(\"y train Shape\", y_train.shape)"
      ],
      "metadata": {
        "colab": {
          "base_uri": "https://localhost:8080/"
        },
        "id": "_6cuZrs8_Z54",
        "outputId": "07d368ce-7493-4fb6-d6e1-628b2ccf6790"
      },
      "execution_count": null,
      "outputs": [
        {
          "output_type": "stream",
          "name": "stdout",
          "text": [
            "X train Transformed Shape (236635, 6022)\n",
            "y train Shape (236635,)\n"
          ]
        }
      ]
    },
    {
      "cell_type": "markdown",
      "source": [
        "# for x test"
      ],
      "metadata": {
        "id": "hXxTS-O8ALTE"
      }
    },
    {
      "cell_type": "code",
      "source": [
        "x_test_ques=tfidf_fit.transform(questions_test)\n",
        "q1_array=x_test_ques[:(x_test_ques.shape[0]//2),] #Vector containing question1\n",
        "q2_array=x_test_ques[(x_test_ques.shape[0]//2):,] #Vector containing question2\n",
        "x_test_tf = hstack((q1_array, q2_array, extracted_features_test)) #Concatenating as a single Vector\n",
        "print(\"X test Transformed Shape\", x_test_tf.shape)\n",
        "print(\"y test Shape\", y_test.shape)"
      ],
      "metadata": {
        "colab": {
          "base_uri": "https://localhost:8080/"
        },
        "id": "o2iLvfo6_wWN",
        "outputId": "a4e4ef43-e062-47c6-b4b3-c3f18f960300"
      },
      "execution_count": null,
      "outputs": [
        {
          "output_type": "stream",
          "name": "stdout",
          "text": [
            "X test Transformed Shape (59159, 6022)\n",
            "y test Shape (59159,)\n"
          ]
        }
      ]
    },
    {
      "cell_type": "code",
      "source": [
        "len(tfidf_fit.vocabulary_)"
      ],
      "metadata": {
        "colab": {
          "base_uri": "https://localhost:8080/"
        },
        "id": "BroXjz0V_9Eq",
        "outputId": "b7b3234c-3355-4597-94ae-0bef882d873d"
      },
      "execution_count": null,
      "outputs": [
        {
          "output_type": "execute_result",
          "data": {
            "text/plain": [
              "3000"
            ]
          },
          "metadata": {},
          "execution_count": 19
        }
      ]
    },
    {
      "cell_type": "markdown",
      "source": [
        "# model building\n",
        "- 1. xg boost"
      ],
      "metadata": {
        "id": "1gHm3ok5BVl1"
      }
    },
    {
      "cell_type": "code",
      "source": [
        "from xgboost import XGBClassifier\n",
        "from sklearn.metrics import classification_report, accuracy_score, recall_score, f1_score, precision_score, confusion_matrix\n",
        "import pickle\n",
        "\n",
        "xgb_classifier=XGBClassifier()\n",
        "xgb_classifier.fit(x_train_tf,y_train)\n",
        "pickle.dump(xgb_classifier, open(\"/content/drive/MyDrive/quora/models/xgboost_tfidf.pkl\",\"wb\"))\n",
        "\n",
        "y_pred=xgb_classifier.predict(x_test_tf)\n",
        "acc=accuracy_score(y_test,y_pred)\n",
        "precision=precision_score(y_test,y_pred)\n",
        "recall=recall_score(y_test,y_pred)\n",
        "f1=f1_score(y_test,y_pred)\n",
        "\n",
        "print(\"----------------------------------------------------------\")\n",
        "print(\"Acuuracy={}\\nPrecission={}\\nRecall={}\\nF1 Score={}\".format(acc, precision, recall, f1))\n",
        "print(\"----------------------------------------------------------\")\n",
        "print(\"Confusion Matrix=\\n\")\n",
        "sns.heatmap(confusion_matrix(y_test,y_pred), annot=True, annot_kws={\"fontsize\":15}, linewidths=5, linecolor='blue',\n",
        "            yticklabels=[\"Non-Duplicate\",\"Duplicate\"], xticklabels=[\"Non-Duplicate\",\"Duplicate\"], cbar=None, fmt='g')\n",
        "plt.xlabel(\"Predicted\",fontsize=18)\n",
        "plt.ylabel(\"Actual\",fontsize=18)\n",
        "plt.savefig(\"/content/drive/MyDrive/quora/data/figures/xgboost_tfidf_conf_matrix.png\")\n",
        "plt.show()\n",
        "print(\"----------------------------------------------------------\")\n",
        "print(\"Out of {} testing values {} are mis-classified.\".format(y_test.shape[0], sum(y_test!=y_pred)))\n",
        "print(\"----------------------------------------------------------\")\n",
        "print(\"Classification Report=\\n\", classification_report(y_test,y_pred))\n",
        "print(\"----------------------------------------------------------\")\n"
      ],
      "metadata": {
        "colab": {
          "base_uri": "https://localhost:8080/",
          "height": 841
        },
        "id": "-4N2AlJ8BbC7",
        "outputId": "024fb757-e81b-4c1f-9745-a1f3f045c681"
      },
      "execution_count": null,
      "outputs": [
        {
          "output_type": "stream",
          "name": "stdout",
          "text": [
            "----------------------------------------------------------\n",
            "Acuuracy=0.8003684984533207\n",
            "Precission=0.7601466275659824\n",
            "Recall=0.8771318354087709\n",
            "F1 Score=0.8144598755734304\n",
            "----------------------------------------------------------\n",
            "Confusion Matrix=\n",
            "\n"
          ]
        },
        {
          "output_type": "display_data",
          "data": {
            "text/plain": [
              "<Figure size 640x480 with 1 Axes>"
            ],
            "image/png": "[encoded data removed]"
          },
          "metadata": {}
        },
        {
          "output_type": "stream",
          "name": "stdout",
          "text": [
            "----------------------------------------------------------\n",
            "Out of 59159 testing values 11810 are mis-classified.\n",
            "----------------------------------------------------------\n",
            "Classification Report=\n",
            "               precision    recall  f1-score   support\n",
            "\n",
            "           0       0.86      0.72      0.78     29607\n",
            "           1       0.76      0.88      0.81     29552\n",
            "\n",
            "    accuracy                           0.80     59159\n",
            "   macro avg       0.81      0.80      0.80     59159\n",
            "weighted avg       0.81      0.80      0.80     59159\n",
            "\n",
            "----------------------------------------------------------\n"
          ]
        }
      ]
    },
    {
      "cell_type": "markdown",
      "source": [
        "Findings:\n",
        "\n",
        "1. The XG Boost Classifier achieves an accuracy of 80%.\n",
        "2. Among the predicted non-duplicate class, 86% are accurately classified, while among the predicted duplicate class, 76% are accurately classified.\n",
        "3. 72% of the actual non-duplicate class are predicted accurately, and 88% of the actual duplicate class are predicted accurately.\n",
        "4. The f1 score for the non-duplicate class is 78%, and for the duplicate class, it is 81%.\n",
        "5. It is important to have a high f1 score for both classes.\n",
        "6. The low count of False Negatives suggests that the XGBoost model is a suitable choice.\n",
        "\n",
        "\n",
        "\n"
      ],
      "metadata": {
        "id": "gcexnhZFSZuG"
      }
    },
    {
      "cell_type": "code",
      "source": [],
      "metadata": {
        "id": "48OZutNCEKWe"
      },
      "execution_count": null,
      "outputs": []
    }
  ]
}